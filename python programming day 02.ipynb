{
 "cells": [
  {
   "cell_type": "code",
   "execution_count": 2,
   "id": "a31ced52",
   "metadata": {},
   "outputs": [
    {
     "data": {
      "text/plain": [
       "(str, str)"
      ]
     },
     "execution_count": 2,
     "metadata": {},
     "output_type": "execute_result"
    }
   ],
   "source": [
    "s1 = \"hello\"\n",
    "s2=\"\"\"hello\"\"\"\n",
    "type(s1),type(s2)"
   ]
  },
  {
   "cell_type": "code",
   "execution_count": 5,
   "id": "268b739d",
   "metadata": {},
   "outputs": [
    {
     "data": {
      "text/plain": [
       "\" hello 'python'\""
      ]
     },
     "execution_count": 5,
     "metadata": {},
     "output_type": "execute_result"
    }
   ],
   "source": [
    "s1 =\" hello 'python'\""
   ]
  },
  {
   "cell_type": "code",
   "execution_count": 4,
   "id": "4c0a535a",
   "metadata": {},
   "outputs": [
    {
     "name": "stdout",
     "output_type": "stream",
     "text": [
      " hello 'python'\n"
     ]
    }
   ],
   "source": [
    "print(s1)"
   ]
  },
  {
   "cell_type": "code",
   "execution_count": 10,
   "id": "d375b598",
   "metadata": {},
   "outputs": [
    {
     "name": "stdout",
     "output_type": "stream",
     "text": [
      "hello \"python\"\n"
     ]
    }
   ],
   "source": [
    "s2 = 'hello \"python\"'\n",
    "print(s2)"
   ]
  },
  {
   "cell_type": "code",
   "execution_count": 12,
   "id": "de17e979",
   "metadata": {},
   "outputs": [
    {
     "name": "stdout",
     "output_type": "stream",
     "text": [
      "hello 'python' \n"
     ]
    }
   ],
   "source": [
    "s3 = '''hello 'python' '''\n",
    "print(s3)"
   ]
  },
  {
   "cell_type": "code",
   "execution_count": 14,
   "id": "7b2e236e",
   "metadata": {},
   "outputs": [
    {
     "name": "stdout",
     "output_type": "stream",
     "text": [
      "\n",
      "dsfsfdg dsfsdfgfdgfdgerg\n",
      "cwrxehtrh  dfhfh\n",
      "\n"
     ]
    }
   ],
   "source": [
    "s5='''\n",
    "dsfsfdg dsfsdfgfdgfdgerg\n",
    "cwrxehtrh  dfhfh\n",
    "'''\n",
    "print(s5)"
   ]
  },
  {
   "cell_type": "code",
   "execution_count": 17,
   "id": "d38bdc45",
   "metadata": {},
   "outputs": [
    {
     "data": {
      "text/plain": [
       "7"
      ]
     },
     "execution_count": 17,
     "metadata": {},
     "output_type": "execute_result"
    }
   ],
   "source": [
    "s5.count('d')"
   ]
  },
  {
   "cell_type": "code",
   "execution_count": 19,
   "id": "bc4f0ffc",
   "metadata": {},
   "outputs": [
    {
     "name": "stdout",
     "output_type": "stream",
     "text": [
      "hello 'python'\n"
     ]
    }
   ],
   "source": [
    "s7='hello \\'python\\''\n",
    "print(s7)"
   ]
  },
  {
   "cell_type": "code",
   "execution_count": 24,
   "id": "8787e757",
   "metadata": {},
   "outputs": [
    {
     "name": "stdout",
     "output_type": "stream",
     "text": [
      "'python' is a \"programming lanaguage\"\n",
      "that lets you work quickly\n"
     ]
    }
   ],
   "source": [
    "s=\"\"\"'python' is a \"programming lanaguage\"\n",
    "that lets you work quickly\"\"\"\n",
    "print(s)"
   ]
  },
  {
   "cell_type": "markdown",
   "id": "d3b20c15",
   "metadata": {},
   "source": [
    "# 리스트와 튜플\n",
    "- 리스트=[값1,값2,...]"
   ]
  },
  {
   "cell_type": "code",
   "execution_count": 26,
   "id": "c6068f50",
   "metadata": {},
   "outputs": [
    {
     "data": {
      "text/plain": [
       "list"
      ]
     },
     "execution_count": 26,
     "metadata": {},
     "output_type": "execute_result"
    }
   ],
   "source": [
    "scores=[90,85,95,70,100]\n",
    "type(scores)"
   ]
  },
  {
   "cell_type": "code",
   "execution_count": 28,
   "id": "f3ecf110",
   "metadata": {},
   "outputs": [],
   "source": [
    "person1=[\"james\",170,17,True]"
   ]
  },
  {
   "cell_type": "code",
   "execution_count": 29,
   "id": "62e98e0d",
   "metadata": {},
   "outputs": [
    {
     "data": {
      "text/plain": [
       "list"
      ]
     },
     "execution_count": 29,
     "metadata": {},
     "output_type": "execute_result"
    }
   ],
   "source": [
    "type(person1)"
   ]
  },
  {
   "cell_type": "markdown",
   "id": "b5f52b5c",
   "metadata": {},
   "source": [
    " 빈 리스트 만들기 \n",
    "- 리스트=[]\n",
    "- 리스트=list()"
   ]
  },
  {
   "cell_type": "code",
   "execution_count": 30,
   "id": "17d37544",
   "metadata": {},
   "outputs": [
    {
     "data": {
      "text/plain": [
       "list"
      ]
     },
     "execution_count": 30,
     "metadata": {},
     "output_type": "execute_result"
    }
   ],
   "source": [
    "list1=[]\n",
    "type(list1)"
   ]
  },
  {
   "cell_type": "code",
   "execution_count": 31,
   "id": "63e6d6a4",
   "metadata": {},
   "outputs": [
    {
     "data": {
      "text/plain": [
       "list"
      ]
     },
     "execution_count": 31,
     "metadata": {},
     "output_type": "execute_result"
    }
   ],
   "source": [
    "list2=list()\n",
    "type(list2)"
   ]
  },
  {
   "cell_type": "markdown",
   "id": "b5a7e4df",
   "metadata": {},
   "source": [
    "- range(횟수)"
   ]
  },
  {
   "cell_type": "code",
   "execution_count": 32,
   "id": "287a1f25",
   "metadata": {},
   "outputs": [
    {
     "data": {
      "text/plain": [
       "range(0, 10)"
      ]
     },
     "execution_count": 32,
     "metadata": {},
     "output_type": "execute_result"
    }
   ],
   "source": [
    "range(10)"
   ]
  },
  {
   "cell_type": "markdown",
   "id": "0166311a",
   "metadata": {},
   "source": [
    "- 리스트=list(range(횟수))"
   ]
  },
  {
   "cell_type": "code",
   "execution_count": 35,
   "id": "b93914f4",
   "metadata": {},
   "outputs": [
    {
     "data": {
      "text/plain": [
       "[0, 1, 2, 3, 4, 5, 6, 7, 8, 9]"
      ]
     },
     "execution_count": 35,
     "metadata": {},
     "output_type": "execute_result"
    }
   ],
   "source": [
    "a=list(range(10))\n",
    "a"
   ]
  },
  {
   "cell_type": "markdown",
   "id": "6e1fa22f",
   "metadata": {},
   "source": [
    "- 리스트=list(range(시작,끝))"
   ]
  },
  {
   "cell_type": "code",
   "execution_count": 36,
   "id": "c257b676",
   "metadata": {},
   "outputs": [],
   "source": [
    "b=list(range(1,10))"
   ]
  },
  {
   "cell_type": "code",
   "execution_count": 37,
   "id": "b2794d70",
   "metadata": {},
   "outputs": [
    {
     "data": {
      "text/plain": [
       "[1, 2, 3, 4, 5, 6, 7, 8, 9]"
      ]
     },
     "execution_count": 37,
     "metadata": {},
     "output_type": "execute_result"
    }
   ],
   "source": [
    "b"
   ]
  },
  {
   "cell_type": "markdown",
   "id": "c60d9035",
   "metadata": {},
   "source": [
    "- 리스트=list(range(시작,끝,증가폭))"
   ]
  },
  {
   "cell_type": "code",
   "execution_count": 40,
   "id": "413872b0",
   "metadata": {},
   "outputs": [],
   "source": [
    "c=list(range(1,9,2))"
   ]
  },
  {
   "cell_type": "code",
   "execution_count": 43,
   "id": "30d5fa7f",
   "metadata": {},
   "outputs": [],
   "source": [
    "d=list(range(10,0,-1))"
   ]
  },
  {
   "cell_type": "code",
   "execution_count": 44,
   "id": "9746b414",
   "metadata": {},
   "outputs": [
    {
     "data": {
      "text/plain": [
       "[10, 9, 8, 7, 6, 5, 4, 3, 2, 1]"
      ]
     },
     "execution_count": 44,
     "metadata": {},
     "output_type": "execute_result"
    }
   ],
   "source": [
    "d"
   ]
  },
  {
   "cell_type": "markdown",
   "id": "ddd46e1e",
   "metadata": {},
   "source": [
    "-튜플=값1,값2,값3,..."
   ]
  },
  {
   "cell_type": "code",
   "execution_count": 46,
   "id": "c85ba5ec",
   "metadata": {},
   "outputs": [
    {
     "data": {
      "text/plain": [
       "(1, 2, 3, 4)"
      ]
     },
     "execution_count": 46,
     "metadata": {},
     "output_type": "execute_result"
    }
   ],
   "source": [
    "a=(1,2,3,4)\n",
    "a"
   ]
  },
  {
   "cell_type": "code",
   "execution_count": 47,
   "id": "a7983e11",
   "metadata": {},
   "outputs": [
    {
     "data": {
      "text/plain": [
       "tuple"
      ]
     },
     "execution_count": 47,
     "metadata": {},
     "output_type": "execute_result"
    }
   ],
   "source": [
    "type(a)"
   ]
  },
  {
   "cell_type": "code",
   "execution_count": 48,
   "id": "ecc08cac",
   "metadata": {},
   "outputs": [],
   "source": [
    "b=1,2,3,4"
   ]
  },
  {
   "cell_type": "code",
   "execution_count": 49,
   "id": "3a0326e1",
   "metadata": {},
   "outputs": [
    {
     "data": {
      "text/plain": [
       "tuple"
      ]
     },
     "execution_count": 49,
     "metadata": {},
     "output_type": "execute_result"
    }
   ],
   "source": [
    "type(b)"
   ]
  },
  {
   "cell_type": "code",
   "execution_count": 50,
   "id": "117e3163",
   "metadata": {},
   "outputs": [
    {
     "data": {
      "text/plain": [
       "tuple"
      ]
     },
     "execution_count": 50,
     "metadata": {},
     "output_type": "execute_result"
    }
   ],
   "source": [
    "c=(1,)\n",
    "type(c)"
   ]
  },
  {
   "cell_type": "markdown",
   "id": "bc108bae",
   "metadata": {},
   "source": [
    "- 튜플=tuple(range(횟수))"
   ]
  },
  {
   "cell_type": "code",
   "execution_count": 52,
   "id": "d9d9819c",
   "metadata": {},
   "outputs": [],
   "source": [
    "b=tuple(range(0,10))"
   ]
  },
  {
   "cell_type": "markdown",
   "id": "8987f646",
   "metadata": {},
   "source": [
    "- 튜플=tuple(range(시작,끝,증가폭))"
   ]
  },
  {
   "cell_type": "code",
   "execution_count": 54,
   "id": "15b1d3f7",
   "metadata": {},
   "outputs": [],
   "source": [
    "c=tuple(range(0,10,3))"
   ]
  },
  {
   "cell_type": "code",
   "execution_count": 57,
   "id": "e6387206",
   "metadata": {},
   "outputs": [
    {
     "data": {
      "text/plain": [
       "[0, 3, 6, 9]"
      ]
     },
     "execution_count": 57,
     "metadata": {},
     "output_type": "execute_result"
    }
   ],
   "source": [
    "c\n",
    "list_c=list(c)\n",
    "list_c"
   ]
  },
  {
   "cell_type": "code",
   "execution_count": 59,
   "id": "ffa52094",
   "metadata": {},
   "outputs": [],
   "source": [
    "tuple_c=tuple(list_c)"
   ]
  },
  {
   "cell_type": "markdown",
   "id": "f13e4edf",
   "metadata": {},
   "source": [
    "# workshop"
   ]
  },
  {
   "cell_type": "code",
   "execution_count": 61,
   "id": "7672beea",
   "metadata": {},
   "outputs": [
    {
     "data": {
      "text/plain": [
       "[5, 3, 1, -1, -3, -5, -7, -9]"
      ]
     },
     "execution_count": 61,
     "metadata": {},
     "output_type": "execute_result"
    }
   ],
   "source": [
    "list(range(5,-10,-2))"
   ]
  },
  {
   "cell_type": "code",
   "execution_count": 63,
   "id": "84e639c2",
   "metadata": {},
   "outputs": [
    {
     "data": {
      "text/plain": [
       "(-10, -8, -6, -4, -2, 0, 2, 4, 6, 8)"
      ]
     },
     "execution_count": 63,
     "metadata": {},
     "output_type": "execute_result"
    }
   ],
   "source": [
    "tuple(range(-10,9,2))"
   ]
  },
  {
   "cell_type": "markdown",
   "id": "637f5963",
   "metadata": {},
   "source": [
    "# 시퀀스 자료형 확인하기"
   ]
  },
  {
   "cell_type": "markdown",
   "id": "a3e73016",
   "metadata": {},
   "source": [
    "- 시퀀스 자료형:list,tuple,range,str"
   ]
  },
  {
   "cell_type": "markdown",
   "id": "f0033f65",
   "metadata": {},
   "source": [
    "- 값 in 시퀀스객체"
   ]
  },
  {
   "cell_type": "code",
   "execution_count": 65,
   "id": "dd15d217",
   "metadata": {},
   "outputs": [
    {
     "data": {
      "text/plain": [
       "True"
      ]
     },
     "execution_count": 65,
     "metadata": {},
     "output_type": "execute_result"
    }
   ],
   "source": [
    "a=[1,2,3,4,5,6]\n",
    "1 in a"
   ]
  },
  {
   "cell_type": "code",
   "execution_count": 66,
   "id": "169eaf35",
   "metadata": {},
   "outputs": [
    {
     "data": {
      "text/plain": [
       "False"
      ]
     },
     "execution_count": 66,
     "metadata": {},
     "output_type": "execute_result"
    }
   ],
   "source": [
    "10 in a"
   ]
  },
  {
   "cell_type": "code",
   "execution_count": 67,
   "id": "d73f70f0",
   "metadata": {},
   "outputs": [
    {
     "data": {
      "text/plain": [
       "True"
      ]
     },
     "execution_count": 67,
     "metadata": {},
     "output_type": "execute_result"
    }
   ],
   "source": [
    "b=(1,2,3,4,5,6)\n",
    "1 in b"
   ]
  },
  {
   "cell_type": "code",
   "execution_count": 68,
   "id": "dcd22b86",
   "metadata": {},
   "outputs": [
    {
     "data": {
      "text/plain": [
       "True"
      ]
     },
     "execution_count": 68,
     "metadata": {},
     "output_type": "execute_result"
    }
   ],
   "source": [
    "10 not in b"
   ]
  },
  {
   "cell_type": "code",
   "execution_count": 69,
   "id": "3f124851",
   "metadata": {},
   "outputs": [
    {
     "data": {
      "text/plain": [
       "True"
      ]
     },
     "execution_count": 69,
     "metadata": {},
     "output_type": "execute_result"
    }
   ],
   "source": [
    "c='Hello'\n",
    "'H'in c"
   ]
  },
  {
   "cell_type": "code",
   "execution_count": 70,
   "id": "88aab00c",
   "metadata": {},
   "outputs": [
    {
     "data": {
      "text/plain": [
       "True"
      ]
     },
     "execution_count": 70,
     "metadata": {},
     "output_type": "execute_result"
    }
   ],
   "source": [
    "0 in range(10)"
   ]
  },
  {
   "cell_type": "code",
   "execution_count": 71,
   "id": "08ea164f",
   "metadata": {},
   "outputs": [
    {
     "data": {
      "text/plain": [
       "False"
      ]
     },
     "execution_count": 71,
     "metadata": {},
     "output_type": "execute_result"
    }
   ],
   "source": [
    "10 in range(10)"
   ]
  },
  {
   "cell_type": "markdown",
   "id": "d1dffa63",
   "metadata": {},
   "source": [
    "- 시퀀스 객체1+시퀀스 객체2"
   ]
  },
  {
   "cell_type": "code",
   "execution_count": 73,
   "id": "b0b96883",
   "metadata": {},
   "outputs": [],
   "source": [
    "a=[1,2,3,4,5]\n",
    "b=[6,7,8,9,10]"
   ]
  },
  {
   "cell_type": "code",
   "execution_count": 74,
   "id": "dd95d21a",
   "metadata": {},
   "outputs": [
    {
     "data": {
      "text/plain": [
       "[1, 2, 3, 4, 5, 6, 7, 8, 9, 10]"
      ]
     },
     "execution_count": 74,
     "metadata": {},
     "output_type": "execute_result"
    }
   ],
   "source": [
    "a+b"
   ]
  },
  {
   "cell_type": "code",
   "execution_count": 75,
   "id": "ddf7e291",
   "metadata": {},
   "outputs": [],
   "source": [
    "c=(1,2,3,4,5)\n",
    "d=(6,7,8,9,10)"
   ]
  },
  {
   "cell_type": "code",
   "execution_count": 76,
   "id": "77486351",
   "metadata": {},
   "outputs": [
    {
     "data": {
      "text/plain": [
       "(1, 2, 3, 4, 5, 6, 7, 8, 9, 10)"
      ]
     },
     "execution_count": 76,
     "metadata": {},
     "output_type": "execute_result"
    }
   ],
   "source": [
    "c+d"
   ]
  },
  {
   "cell_type": "code",
   "execution_count": 78,
   "id": "e594a149",
   "metadata": {},
   "outputs": [
    {
     "data": {
      "text/plain": [
       "'Hello World'"
      ]
     },
     "execution_count": 78,
     "metadata": {},
     "output_type": "execute_result"
    }
   ],
   "source": [
    "s1 = 'Hello '\n",
    "s2 = 'World'\n",
    "s1+s2"
   ]
  },
  {
   "cell_type": "markdown",
   "id": "d310557c",
   "metadata": {},
   "source": [
    "- 시퀀스객체 * 정수"
   ]
  },
  {
   "cell_type": "code",
   "execution_count": 80,
   "id": "718ff469",
   "metadata": {},
   "outputs": [
    {
     "data": {
      "text/plain": [
       "[1, 2, 3, 1, 2, 3, 1, 2, 3]"
      ]
     },
     "execution_count": 80,
     "metadata": {},
     "output_type": "execute_result"
    }
   ],
   "source": [
    "[1,2,3]*3"
   ]
  },
  {
   "cell_type": "code",
   "execution_count": 81,
   "id": "6fb839bf",
   "metadata": {},
   "outputs": [
    {
     "data": {
      "text/plain": [
       "'안녕 안녕 안녕 '"
      ]
     },
     "execution_count": 81,
     "metadata": {},
     "output_type": "execute_result"
    }
   ],
   "source": [
    "'안녕 '*3"
   ]
  },
  {
   "cell_type": "markdown",
   "id": "6300ac84",
   "metadata": {},
   "source": [
    "- len(시퀀스객체)"
   ]
  },
  {
   "cell_type": "code",
   "execution_count": 83,
   "id": "e33cd72d",
   "metadata": {},
   "outputs": [
    {
     "data": {
      "text/plain": [
       "3"
      ]
     },
     "execution_count": 83,
     "metadata": {},
     "output_type": "execute_result"
    }
   ],
   "source": [
    "a=[1,2,3]\n",
    "len(a)"
   ]
  },
  {
   "cell_type": "code",
   "execution_count": 84,
   "id": "9a96dddb",
   "metadata": {},
   "outputs": [
    {
     "data": {
      "text/plain": [
       "5"
      ]
     },
     "execution_count": 84,
     "metadata": {},
     "output_type": "execute_result"
    }
   ],
   "source": [
    "b = (1,2,3,4,5)\n",
    "len(b)"
   ]
  },
  {
   "cell_type": "code",
   "execution_count": 85,
   "id": "43435a4c",
   "metadata": {},
   "outputs": [
    {
     "data": {
      "text/plain": [
       "10"
      ]
     },
     "execution_count": 85,
     "metadata": {},
     "output_type": "execute_result"
    }
   ],
   "source": [
    "len(range(10))"
   ]
  },
  {
   "cell_type": "code",
   "execution_count": 86,
   "id": "5c041dac",
   "metadata": {},
   "outputs": [
    {
     "data": {
      "text/plain": [
       "5"
      ]
     },
     "execution_count": 86,
     "metadata": {},
     "output_type": "execute_result"
    }
   ],
   "source": [
    "len('hello')"
   ]
  },
  {
   "cell_type": "markdown",
   "id": "3dac0a19",
   "metadata": {},
   "source": [
    "- 시퀀스[인덱스]"
   ]
  },
  {
   "cell_type": "code",
   "execution_count": 87,
   "id": "9c187cdd",
   "metadata": {},
   "outputs": [],
   "source": [
    "scores = [90,80,100,90] #2번째에 있는 영어 점수만 조회"
   ]
  },
  {
   "cell_type": "code",
   "execution_count": 89,
   "id": "69ad847c",
   "metadata": {},
   "outputs": [
    {
     "data": {
      "text/plain": [
       "80"
      ]
     },
     "execution_count": 89,
     "metadata": {},
     "output_type": "execute_result"
    }
   ],
   "source": [
    "scores[1]"
   ]
  },
  {
   "cell_type": "code",
   "execution_count": 90,
   "id": "cfbc2664",
   "metadata": {},
   "outputs": [
    {
     "data": {
      "text/plain": [
       "True"
      ]
     },
     "execution_count": 90,
     "metadata": {},
     "output_type": "execute_result"
    }
   ],
   "source": [
    "scores[-1] == scores[3]"
   ]
  },
  {
   "cell_type": "code",
   "execution_count": 91,
   "id": "cf0e58e9",
   "metadata": {},
   "outputs": [
    {
     "data": {
      "text/plain": [
       "4"
      ]
     },
     "execution_count": 91,
     "metadata": {},
     "output_type": "execute_result"
    }
   ],
   "source": [
    "len(scores)"
   ]
  },
  {
   "cell_type": "code",
   "execution_count": 92,
   "id": "1e9e6065",
   "metadata": {},
   "outputs": [
    {
     "data": {
      "text/plain": [
       "90"
      ]
     },
     "execution_count": 92,
     "metadata": {},
     "output_type": "execute_result"
    }
   ],
   "source": [
    "scores[len(scores) -1]"
   ]
  },
  {
   "cell_type": "code",
   "execution_count": 93,
   "id": "0c6518b1",
   "metadata": {},
   "outputs": [],
   "source": [
    "b = (1,2,3)"
   ]
  },
  {
   "cell_type": "code",
   "execution_count": 94,
   "id": "7d5c3bd7",
   "metadata": {},
   "outputs": [
    {
     "data": {
      "text/plain": [
       "1"
      ]
     },
     "execution_count": 94,
     "metadata": {},
     "output_type": "execute_result"
    }
   ],
   "source": [
    "b[0]"
   ]
  },
  {
   "cell_type": "code",
   "execution_count": 97,
   "id": "645b3216",
   "metadata": {},
   "outputs": [
    {
     "data": {
      "text/plain": [
       "30"
      ]
     },
     "execution_count": 97,
     "metadata": {},
     "output_type": "execute_result"
    }
   ],
   "source": [
    "range(10,100,10)[2] #range 도 색인이 가능"
   ]
  },
  {
   "cell_type": "code",
   "execution_count": 98,
   "id": "9f29599f",
   "metadata": {},
   "outputs": [],
   "source": [
    "s='Hello'"
   ]
  },
  {
   "cell_type": "code",
   "execution_count": 99,
   "id": "d5dbbb63",
   "metadata": {},
   "outputs": [
    {
     "data": {
      "text/plain": [
       "'H'"
      ]
     },
     "execution_count": 99,
     "metadata": {},
     "output_type": "execute_result"
    }
   ],
   "source": [
    "s[0]"
   ]
  },
  {
   "cell_type": "code",
   "execution_count": 100,
   "id": "d5455f9f",
   "metadata": {},
   "outputs": [
    {
     "data": {
      "text/plain": [
       "'o'"
      ]
     },
     "execution_count": 100,
     "metadata": {},
     "output_type": "execute_result"
    }
   ],
   "source": [
    "s[-1]"
   ]
  },
  {
   "cell_type": "markdown",
   "id": "953ec8a8",
   "metadata": {},
   "source": [
    "- 시퀀스객체[인덱스]=값\n",
    "- 위의 문법은 list객체에서만 유효 tuple,range,str에서는 요소값을 변경할 수 없음"
   ]
  },
  {
   "cell_type": "code",
   "execution_count": 101,
   "id": "882a85d1",
   "metadata": {},
   "outputs": [],
   "source": [
    "scores=[90,100,95,80]\n",
    "scores[0]=95"
   ]
  },
  {
   "cell_type": "code",
   "execution_count": 102,
   "id": "f8848078",
   "metadata": {},
   "outputs": [
    {
     "data": {
      "text/plain": [
       "[95, 100, 95, 80]"
      ]
     },
     "execution_count": 102,
     "metadata": {},
     "output_type": "execute_result"
    }
   ],
   "source": [
    "scores"
   ]
  },
  {
   "cell_type": "code",
   "execution_count": 103,
   "id": "324f2b55",
   "metadata": {},
   "outputs": [],
   "source": [
    "scores=(90,100,95,80)"
   ]
  },
  {
   "cell_type": "markdown",
   "id": "dd1a5e78",
   "metadata": {},
   "source": [
    "-del 시퀀스객체[인덱스]"
   ]
  },
  {
   "cell_type": "code",
   "execution_count": 112,
   "id": "f110ec50",
   "metadata": {},
   "outputs": [],
   "source": [
    "a=[1,2,3,4]"
   ]
  },
  {
   "cell_type": "code",
   "execution_count": 113,
   "id": "edb8cc8d",
   "metadata": {},
   "outputs": [],
   "source": [
    "del a[1]"
   ]
  },
  {
   "cell_type": "code",
   "execution_count": 114,
   "id": "3ca1f160",
   "metadata": {},
   "outputs": [
    {
     "data": {
      "text/plain": [
       "[1, 3, 4]"
      ]
     },
     "execution_count": 114,
     "metadata": {},
     "output_type": "execute_result"
    }
   ],
   "source": [
    "a"
   ]
  },
  {
   "cell_type": "code",
   "execution_count": 116,
   "id": "73f6aab8",
   "metadata": {},
   "outputs": [
    {
     "ename": "SyntaxError",
     "evalue": "cannot delete function call (3372728334.py, line 2)",
     "output_type": "error",
     "traceback": [
      "\u001b[1;36m  File \u001b[1;32m\"C:\\Users\\Playdata\\AppData\\Local\\Temp\\ipykernel_17036\\3372728334.py\"\u001b[1;36m, line \u001b[1;32m2\u001b[0m\n\u001b[1;33m    del b(0)\u001b[0m\n\u001b[1;37m        ^\u001b[0m\n\u001b[1;31mSyntaxError\u001b[0m\u001b[1;31m:\u001b[0m cannot delete function call\n"
     ]
    }
   ],
   "source": [
    "b = (1,2,3,4)\n",
    "del b(0)\n",
    "del range(10)[0]"
   ]
  },
  {
   "cell_type": "code",
   "execution_count": 117,
   "id": "0218ad15",
   "metadata": {},
   "outputs": [],
   "source": [
    "a = [10,20,30,40,50]"
   ]
  },
  {
   "cell_type": "code",
   "execution_count": 118,
   "id": "278a59ee",
   "metadata": {},
   "outputs": [
    {
     "data": {
      "text/plain": [
       "[10, 20]"
      ]
     },
     "execution_count": 118,
     "metadata": {},
     "output_type": "execute_result"
    }
   ],
   "source": [
    "a[0:2]"
   ]
  },
  {
   "cell_type": "code",
   "execution_count": 120,
   "id": "e955b4df",
   "metadata": {},
   "outputs": [
    {
     "data": {
      "text/plain": [
       "[10, 20, 30]"
      ]
     },
     "execution_count": 120,
     "metadata": {},
     "output_type": "execute_result"
    }
   ],
   "source": [
    "a[:3]#0번인덱스 생략 가능"
   ]
  },
  {
   "cell_type": "code",
   "execution_count": 121,
   "id": "6c1a2944",
   "metadata": {},
   "outputs": [
    {
     "data": {
      "text/plain": [
       "[40, 50]"
      ]
     },
     "execution_count": 121,
     "metadata": {},
     "output_type": "execute_result"
    }
   ],
   "source": [
    "a[3:6]"
   ]
  },
  {
   "cell_type": "code",
   "execution_count": 122,
   "id": "74577621",
   "metadata": {},
   "outputs": [
    {
     "data": {
      "text/plain": [
       "[40, 50]"
      ]
     },
     "execution_count": 122,
     "metadata": {},
     "output_type": "execute_result"
    }
   ],
   "source": [
    "a[3:]  #마지막 인덱스 생략 가능"
   ]
  },
  {
   "cell_type": "code",
   "execution_count": 124,
   "id": "10330463",
   "metadata": {},
   "outputs": [
    {
     "data": {
      "text/plain": [
       "[10, 20, 30, 40, 50]"
      ]
     },
     "execution_count": 124,
     "metadata": {},
     "output_type": "execute_result"
    }
   ],
   "source": [
    "a[:] #처음부터 마지막까지"
   ]
  },
  {
   "cell_type": "code",
   "execution_count": 126,
   "id": "ac37d2b5",
   "metadata": {},
   "outputs": [
    {
     "data": {
      "text/plain": [
       "[40]"
      ]
     },
     "execution_count": 126,
     "metadata": {},
     "output_type": "execute_result"
    }
   ],
   "source": [
    "a[3:-1] #3번부터 4번까지"
   ]
  },
  {
   "cell_type": "markdown",
   "id": "5972e56a",
   "metadata": {},
   "source": [
    "- 시퀀스객체[시작인덱스:끝인덱스:증가폭]"
   ]
  },
  {
   "cell_type": "code",
   "execution_count": 127,
   "id": "ba58529d",
   "metadata": {},
   "outputs": [],
   "source": [
    "a=[10,20,30,40,50]"
   ]
  },
  {
   "cell_type": "code",
   "execution_count": 129,
   "id": "ad872062",
   "metadata": {},
   "outputs": [
    {
     "data": {
      "text/plain": [
       "[10, 30, 50]"
      ]
     },
     "execution_count": 129,
     "metadata": {},
     "output_type": "execute_result"
    }
   ],
   "source": [
    "a[:5:2]"
   ]
  },
  {
   "cell_type": "code",
   "execution_count": 133,
   "id": "c87b82e9",
   "metadata": {},
   "outputs": [
    {
     "data": {
      "text/plain": [
       "[50, 40, 30, 20, 10]"
      ]
     },
     "execution_count": 133,
     "metadata": {},
     "output_type": "execute_result"
    }
   ],
   "source": [
    "a[-1::-1]"
   ]
  },
  {
   "cell_type": "markdown",
   "id": "8ce7c535",
   "metadata": {},
   "source": [
    "# Workshop"
   ]
  },
  {
   "cell_type": "markdown",
   "id": "a07f512e",
   "metadata": {},
   "source": [
    "*최근 3년간 인구 출력하기**\n",
    "- 리스트 year에 연도, population에 서울시 인구수가 저장되어 있습니다.\n",
    "- 아래 소스 코드를 완성하여 최근 3년간 연도와 인구수를 리스트로 출력되게 만드세요.\n",
    "year = [2011, 2012, 2013, 2014, 2015, 2016, 2017, 2018]\n",
    "population = [10249679, 10195318, 10143645, 10103233, 10022181, 9930616, 9857426, 9838892]\n",
    "11:23\n",
    "**인덱스가 홀수인 요소 출력하기**\n",
    "- 다음 소스 코드를 완성하여 튜플 n에서 인덱스가 홀수인 요소들이 출력되게 만드세요.\n",
    "11:24\n",
    "n = -32, 75, 97, -10, 9, 32, 4, -15, 0, 76, 14, 2"
   ]
  },
  {
   "cell_type": "code",
   "execution_count": 134,
   "id": "a8f21ea3",
   "metadata": {},
   "outputs": [],
   "source": [
    "year = [2011, 2012, 2013, 2014, 2015, 2016, 2017, 2018]\n",
    "population = [10249679, 10195318, 10143645, 10103233, 10022181, 9930616, 9857426, 9838892]"
   ]
  },
  {
   "cell_type": "code",
   "execution_count": 138,
   "id": "37441d4d",
   "metadata": {},
   "outputs": [
    {
     "data": {
      "text/plain": [
       "[2016, 2017, 2018]"
      ]
     },
     "execution_count": 138,
     "metadata": {},
     "output_type": "execute_result"
    }
   ],
   "source": [
    "year[-3:]"
   ]
  },
  {
   "cell_type": "code",
   "execution_count": 149,
   "id": "4e0ee457",
   "metadata": {
    "scrolled": true
   },
   "outputs": [
    {
     "data": {
      "text/plain": [
       "[9930616, 9857426, 9838892]"
      ]
     },
     "execution_count": 149,
     "metadata": {},
     "output_type": "execute_result"
    }
   ],
   "source": [
    "population[-3:]"
   ]
  },
  {
   "cell_type": "code",
   "execution_count": 148,
   "id": "74306311",
   "metadata": {},
   "outputs": [],
   "source": [
    "n = (-32, 75, 97, -10, 9, 32, 4, -15, 0, 76, 14, 2)"
   ]
  },
  {
   "cell_type": "code",
   "execution_count": 147,
   "id": "ba518c57",
   "metadata": {},
   "outputs": [
    {
     "data": {
      "text/plain": [
       "(75, -10, 32, -15, 76, 2)"
      ]
     },
     "execution_count": 147,
     "metadata": {},
     "output_type": "execute_result"
    }
   ],
   "source": [
    "n[1::2]"
   ]
  },
  {
   "cell_type": "code",
   "execution_count": 151,
   "id": "2a788d2b",
   "metadata": {},
   "outputs": [
    {
     "data": {
      "text/plain": [
       "[(2016, 9930616), (2017, 9857426), (2018, 9838892)]"
      ]
     },
     "execution_count": 151,
     "metadata": {},
     "output_type": "execute_result"
    }
   ],
   "source": [
    "list(zip(year[-3:],population[-3:]))"
   ]
  },
  {
   "cell_type": "code",
   "execution_count": 155,
   "id": "c1e56052",
   "metadata": {},
   "outputs": [],
   "source": [
    "a=[0,10,20,30,40,50,60,70,80,90]"
   ]
  },
  {
   "cell_type": "code",
   "execution_count": 158,
   "id": "7191dd75",
   "metadata": {},
   "outputs": [],
   "source": [
    "a[2:5]=['a','b','c']"
   ]
  },
  {
   "cell_type": "code",
   "execution_count": 159,
   "id": "461878c7",
   "metadata": {},
   "outputs": [
    {
     "data": {
      "text/plain": [
       "[0, 10, 'a', 'b', 'c', 50, 60, 70, 80, 90]"
      ]
     },
     "execution_count": 159,
     "metadata": {},
     "output_type": "execute_result"
    }
   ],
   "source": [
    "a"
   ]
  },
  {
   "cell_type": "code",
   "execution_count": 160,
   "id": "46c2e04d",
   "metadata": {},
   "outputs": [],
   "source": [
    "del a[2:5]"
   ]
  },
  {
   "cell_type": "code",
   "execution_count": 161,
   "id": "3097c405",
   "metadata": {},
   "outputs": [
    {
     "data": {
      "text/plain": [
       "[0, 10, 50, 60, 70, 80, 90]"
      ]
     },
     "execution_count": 161,
     "metadata": {},
     "output_type": "execute_result"
    }
   ],
   "source": [
    "a"
   ]
  },
  {
   "cell_type": "markdown",
   "id": "49478864",
   "metadata": {},
   "source": [
    " **리스트의 마지막 요소 5개 삭제하기**\n",
    "- 표준 입력으로 숫자 또는 문자열 여러개가 입력되어 리스트 x에 저장됩니다(입력되는 숫자 또는 문자열의 개수는 정해져 있지 않음).\n",
    "- 리스트 x의 마지막 요소 5개를 삭제한 뒤 튜플로 출력되게 만드세요."
   ]
  },
  {
   "cell_type": "code",
   "execution_count": 162,
   "id": "d542429a",
   "metadata": {},
   "outputs": [],
   "source": [
    "x=[1,2,3,4,5,6,7,8,9]\n",
    "del x[-5:]"
   ]
  },
  {
   "cell_type": "code",
   "execution_count": 163,
   "id": "1a495a6a",
   "metadata": {},
   "outputs": [
    {
     "data": {
      "text/plain": [
       "[1, 2, 3, 4]"
      ]
     },
     "execution_count": 163,
     "metadata": {},
     "output_type": "execute_result"
    }
   ],
   "source": [
    "x"
   ]
  },
  {
   "cell_type": "markdown",
   "id": "2a8f3aea",
   "metadata": {},
   "source": [
    "**주민번호로 성별 구분하기**\n",
    "- 아래와 같은 홍길동씨의 주민번호를 대쉬(-) 기호 전후로 쪼개보자. 성별이 남자면 'male', 여자면 'female'을 출력하세요."
   ]
  },
  {
   "cell_type": "code",
   "execution_count": 178,
   "id": "46eba8fe",
   "metadata": {},
   "outputs": [],
   "source": [
    "a='881204-1068234'"
   ]
  },
  {
   "cell_type": "code",
   "execution_count": 179,
   "id": "a08c0e5e",
   "metadata": {},
   "outputs": [
    {
     "data": {
      "text/plain": [
       "['881204', '1068234']"
      ]
     },
     "execution_count": 179,
     "metadata": {},
     "output_type": "execute_result"
    }
   ],
   "source": [
    "a_=a.split('-')\n",
    "a_"
   ]
  },
  {
   "cell_type": "code",
   "execution_count": 180,
   "id": "16a1b9c0",
   "metadata": {},
   "outputs": [],
   "source": [
    "b=a_[1]"
   ]
  },
  {
   "cell_type": "code",
   "execution_count": 183,
   "id": "8a47ba10",
   "metadata": {},
   "outputs": [
    {
     "data": {
      "text/plain": [
       "True"
      ]
     },
     "execution_count": 183,
     "metadata": {},
     "output_type": "execute_result"
    }
   ],
   "source": [
    "b[0] == '1'"
   ]
  },
  {
   "cell_type": "markdown",
   "id": "179380e4",
   "metadata": {},
   "source": [
    "**핸드폰 번호 가리기**\n",
    "- 전화번호가 문자열 phone_number로 주어졌을 때, 전화번호의 뒷 4자리를 제외한 나머지 숫자를 전부 *으로 가린 문자열을 출력하세요.\n",
    "- 제한 조건\n",
    "- s는 길이 4 이상, 20이하인 문자열입니다.\n",
    "- 입출력 예\n",
    "```\n",
    "phone_number 출력 문자열\n",
    "\"01033334444\" \"*******4444\"\n",
    "\"027778888\" \"*****8888\"\n",
    "```"
   ]
  },
  {
   "cell_type": "code",
   "execution_count": 189,
   "id": "a0e5aa93",
   "metadata": {},
   "outputs": [
    {
     "name": "stdout",
     "output_type": "stream",
     "text": [
      "01033334444\n"
     ]
    }
   ],
   "source": [
    "phone_number=input()"
   ]
  },
  {
   "cell_type": "code",
   "execution_count": 192,
   "id": "a7c99c3c",
   "metadata": {},
   "outputs": [
    {
     "data": {
      "text/plain": [
       "'0103333'"
      ]
     },
     "execution_count": 192,
     "metadata": {},
     "output_type": "execute_result"
    }
   ],
   "source": [
    "phone_number[:-4]"
   ]
  },
  {
   "cell_type": "code",
   "execution_count": 193,
   "id": "4e427a33",
   "metadata": {},
   "outputs": [],
   "source": [
    "s1 = '*'* len(phone_number[:-4])\n",
    "s2 = phone_number[-4:]"
   ]
  },
  {
   "cell_type": "code",
   "execution_count": 195,
   "id": "439bf334",
   "metadata": {},
   "outputs": [
    {
     "data": {
      "text/plain": [
       "'*******4444'"
      ]
     },
     "execution_count": 195,
     "metadata": {},
     "output_type": "execute_result"
    }
   ],
   "source": [
    "s1+s2"
   ]
  },
  {
   "cell_type": "markdown",
   "id": "fca279d4",
   "metadata": {},
   "source": [
    "# 딕셔너리"
   ]
  },
  {
   "cell_type": "markdown",
   "id": "2bd1e455",
   "metadata": {},
   "source": [
    "- 딕셔너리 = {키1:값1,키2:값2,키3:값3,...}"
   ]
  },
  {
   "cell_type": "code",
   "execution_count": 198,
   "id": "14a019dd",
   "metadata": {},
   "outputs": [],
   "source": [
    "year_pop={2016:990316,2017:9857426,2018:9836472}"
   ]
  },
  {
   "cell_type": "code",
   "execution_count": 199,
   "id": "1bef8073",
   "metadata": {},
   "outputs": [
    {
     "data": {
      "text/plain": [
       "dict"
      ]
     },
     "execution_count": 199,
     "metadata": {},
     "output_type": "execute_result"
    }
   ],
   "source": [
    "type(year_pop)"
   ]
  },
  {
   "cell_type": "code",
   "execution_count": 200,
   "id": "e01bc9dd",
   "metadata": {},
   "outputs": [
    {
     "data": {
      "text/plain": [
       "990316"
      ]
     },
     "execution_count": 200,
     "metadata": {},
     "output_type": "execute_result"
    }
   ],
   "source": [
    "year_pop[2016]"
   ]
  },
  {
   "cell_type": "code",
   "execution_count": 201,
   "id": "a1b6b7bf",
   "metadata": {},
   "outputs": [],
   "source": [
    "year_pop={2016:990316,2016:990325,2017:9857426,2018:9836472}"
   ]
  },
  {
   "cell_type": "code",
   "execution_count": 203,
   "id": "8cf3e785",
   "metadata": {},
   "outputs": [
    {
     "data": {
      "text/plain": [
       "990325"
      ]
     },
     "execution_count": 203,
     "metadata": {},
     "output_type": "execute_result"
    }
   ],
   "source": [
    "year_pop[2016]"
   ]
  },
  {
   "cell_type": "code",
   "execution_count": null,
   "id": "159ae87b",
   "metadata": {},
   "outputs": [],
   "source": [
    "#딕셔너리의 키: 문자열,정수,실수,튜플 등 사용 가능(리스트, 딕셔너리 포함)\n",
    "#딕셔너리 값: 리스트,딕셔너리 포함해서 모든 자료형 사용 가능\n",
    "#딕셔너리 키값에는 읽기만 가능한 자료형 와야함(리스트,딕셔너리 옴)"
   ]
  },
  {
   "cell_type": "code",
   "execution_count": 205,
   "id": "c83e5f64",
   "metadata": {},
   "outputs": [
    {
     "data": {
      "text/plain": [
       "dict"
      ]
     },
     "execution_count": 205,
     "metadata": {},
     "output_type": "execute_result"
    }
   ],
   "source": [
    "lux = {'health':490,'melee':500,'armor':18.72}#키값에 리스트가 들어감\n",
    "type(lux)"
   ]
  },
  {
   "cell_type": "code",
   "execution_count": 208,
   "id": "ac70fde5",
   "metadata": {},
   "outputs": [
    {
     "ename": "TypeError",
     "evalue": "unhashable type: 'set'",
     "output_type": "error",
     "traceback": [
      "\u001b[1;31m---------------------------------------------------------------------------\u001b[0m",
      "\u001b[1;31mTypeError\u001b[0m                                 Traceback (most recent call last)",
      "\u001b[1;32m~\\AppData\\Local\\Temp\\ipykernel_17036\\3026017182.py\u001b[0m in \u001b[0;36m<module>\u001b[1;34m\u001b[0m\n\u001b[1;32m----> 1\u001b[1;33m \u001b[0mlux\u001b[0m \u001b[1;33m=\u001b[0m \u001b[1;33m{\u001b[0m\u001b[1;33m{\u001b[0m\u001b[1;34m'k'\u001b[0m\u001b[1;33m,\u001b[0m\u001b[1;34m'v'\u001b[0m\u001b[1;33m}\u001b[0m\u001b[1;33m:\u001b[0m\u001b[1;36m90\u001b[0m\u001b[1;33m,\u001b[0m\u001b[1;34m'melee'\u001b[0m\u001b[1;33m:\u001b[0m\u001b[1;36m500\u001b[0m\u001b[1;33m,\u001b[0m\u001b[1;34m'armor'\u001b[0m\u001b[1;33m:\u001b[0m\u001b[1;36m18.72\u001b[0m\u001b[1;33m}\u001b[0m\u001b[1;33m\u001b[0m\u001b[1;33m\u001b[0m\u001b[0m\n\u001b[0m",
      "\u001b[1;31mTypeError\u001b[0m: unhashable type: 'set'"
     ]
    }
   ],
   "source": [
    "lux = {{'k','v'}:90,'melee':500,'armor':18.72}"
   ]
  },
  {
   "cell_type": "code",
   "execution_count": 209,
   "id": "db765fe4",
   "metadata": {},
   "outputs": [],
   "source": [
    "lux = {(1,2):490,'melee':500,'armor':18.72}"
   ]
  },
  {
   "cell_type": "code",
   "execution_count": 210,
   "id": "5cf0bb7c",
   "metadata": {},
   "outputs": [
    {
     "data": {
      "text/plain": [
       "dict"
      ]
     },
     "execution_count": 210,
     "metadata": {},
     "output_type": "execute_result"
    }
   ],
   "source": [
    "x={}\n",
    "type(x)"
   ]
  },
  {
   "cell_type": "markdown",
   "id": "07db3d45",
   "metadata": {},
   "source": [
    "**dict()로 딕셔너리 만들기**"
   ]
  },
  {
   "cell_type": "code",
   "execution_count": 212,
   "id": "68cfa9ca",
   "metadata": {},
   "outputs": [],
   "source": [
    "lux=dict(zip(['health','melee','armor'],[490,500,17]))"
   ]
  },
  {
   "cell_type": "code",
   "execution_count": 214,
   "id": "57f78b78",
   "metadata": {},
   "outputs": [
    {
     "data": {
      "text/plain": [
       "{'health': 490, 'melee': 500, 'armor': 17}"
      ]
     },
     "execution_count": 214,
     "metadata": {},
     "output_type": "execute_result"
    }
   ],
   "source": [
    "lux"
   ]
  },
  {
   "cell_type": "markdown",
   "id": "3ba95643",
   "metadata": {},
   "source": [
    "**딕셔너리의 키로 값 조회하기**\n",
    "- 딕셔너리[키]"
   ]
  },
  {
   "cell_type": "code",
   "execution_count": 215,
   "id": "c96e2af1",
   "metadata": {},
   "outputs": [
    {
     "data": {
      "text/plain": [
       "17"
      ]
     },
     "execution_count": 215,
     "metadata": {},
     "output_type": "execute_result"
    }
   ],
   "source": [
    "lux['armor']"
   ]
  },
  {
   "cell_type": "markdown",
   "id": "cb92a7e0",
   "metadata": {},
   "source": [
    "**딕셔너리의 값 변경하기**\n",
    "\n",
    "-딕셔너리[키] = 값"
   ]
  },
  {
   "cell_type": "code",
   "execution_count": 217,
   "id": "b4a064e2",
   "metadata": {},
   "outputs": [
    {
     "data": {
      "text/plain": [
       "{'health': 490, 'melee': 500, 'armor': 17}"
      ]
     },
     "execution_count": 217,
     "metadata": {},
     "output_type": "execute_result"
    }
   ],
   "source": [
    "lux"
   ]
  },
  {
   "cell_type": "code",
   "execution_count": 218,
   "id": "0270b1b6",
   "metadata": {},
   "outputs": [
    {
     "data": {
      "text/plain": [
       "{'health': 490, 'melee': 1000, 'armor': 17}"
      ]
     },
     "execution_count": 218,
     "metadata": {},
     "output_type": "execute_result"
    }
   ],
   "source": [
    "lux['melee']=1000\n",
    "lux"
   ]
  },
  {
   "cell_type": "code",
   "execution_count": 219,
   "id": "f1ce05b7",
   "metadata": {},
   "outputs": [],
   "source": [
    "lux['attack_speed']=500\n"
   ]
  },
  {
   "cell_type": "code",
   "execution_count": 220,
   "id": "d42d91e8",
   "metadata": {},
   "outputs": [
    {
     "data": {
      "text/plain": [
       "{'health': 490, 'melee': 1000, 'armor': 17, 'attack_speed': 500}"
      ]
     },
     "execution_count": 220,
     "metadata": {},
     "output_type": "execute_result"
    }
   ],
   "source": [
    "lux"
   ]
  },
  {
   "cell_type": "code",
   "execution_count": 222,
   "id": "d7f74783",
   "metadata": {},
   "outputs": [
    {
     "data": {
      "text/plain": [
       "True"
      ]
     },
     "execution_count": 222,
     "metadata": {},
     "output_type": "execute_result"
    }
   ],
   "source": [
    "a=[1,2,3]\n",
    "1 in a"
   ]
  },
  {
   "cell_type": "code",
   "execution_count": 223,
   "id": "9a198a6c",
   "metadata": {},
   "outputs": [
    {
     "data": {
      "text/plain": [
       "False"
      ]
     },
     "execution_count": 223,
     "metadata": {},
     "output_type": "execute_result"
    }
   ],
   "source": [
    "'Power' in  lux"
   ]
  },
  {
   "cell_type": "code",
   "execution_count": 224,
   "id": "ffb01be1",
   "metadata": {},
   "outputs": [
    {
     "data": {
      "text/plain": [
       "True"
      ]
     },
     "execution_count": 224,
     "metadata": {},
     "output_type": "execute_result"
    }
   ],
   "source": [
    "'melee' in lux"
   ]
  },
  {
   "cell_type": "markdown",
   "id": "e3ca0c12",
   "metadata": {},
   "source": [
    "**딕셔너리에 키가 있는지 확인하기**\n",
    "\n",
    "-키 in dictionary"
   ]
  },
  {
   "cell_type": "code",
   "execution_count": 228,
   "id": "a9ff14bb",
   "metadata": {},
   "outputs": [
    {
     "data": {
      "text/plain": [
       "False"
      ]
     },
     "execution_count": 228,
     "metadata": {},
     "output_type": "execute_result"
    }
   ],
   "source": [
    "'power' in  lux"
   ]
  },
  {
   "cell_type": "code",
   "execution_count": 229,
   "id": "88fd81bf",
   "metadata": {},
   "outputs": [
    {
     "data": {
      "text/plain": [
       "4"
      ]
     },
     "execution_count": 229,
     "metadata": {},
     "output_type": "execute_result"
    }
   ],
   "source": [
    "len(lux)"
   ]
  },
  {
   "cell_type": "markdown",
   "id": "77af36ef",
   "metadata": {},
   "source": [
    "**게임 캐릭터 능력 저장**\n",
    "- 표준 입력으로 문자열 여러 개와 숫자(실수) 여러 개가 두 줄로 입력됩니다. 입력된 첫 번째 줄은 키, 두 번째 줄은 값으로 하여 딕셔너리를 생성한 뒤 딕셔너리를 출력하는 프로그램을 만드세요. input().split()의 결과를 변수 한개에 저장하면 리스트로 저장됩니다.\n",
    "```\n",
    "(입력예)\n",
    "health health_regen mana mana_regen\n",
    "575.6 1.7 338.8 1.63\n",
    "(결과)\n",
    "{'health':575.6, 'health_regen':1.7, 'mana':338.8, 'mana_regen':1.63}\n",
    "\n",
    "```\n"
   ]
  },
  {
   "cell_type": "code",
   "execution_count": 233,
   "id": "50a08592",
   "metadata": {},
   "outputs": [
    {
     "name": "stdout",
     "output_type": "stream",
     "text": [
      "health health_regen mana mana_regen\n"
     ]
    }
   ],
   "source": [
    "k_list = input().split()"
   ]
  },
  {
   "cell_type": "code",
   "execution_count": 234,
   "id": "41f131d1",
   "metadata": {},
   "outputs": [
    {
     "data": {
      "text/plain": [
       "['health', 'health_regen', 'mana', 'mana_regen']"
      ]
     },
     "execution_count": 234,
     "metadata": {},
     "output_type": "execute_result"
    }
   ],
   "source": [
    "k_list"
   ]
  },
  {
   "cell_type": "code",
   "execution_count": 235,
   "id": "2353b593",
   "metadata": {},
   "outputs": [
    {
     "name": "stdout",
     "output_type": "stream",
     "text": [
      "575.6 1.7 338.8 1.63\n"
     ]
    }
   ],
   "source": [
    "v_list = input().split()"
   ]
  },
  {
   "cell_type": "code",
   "execution_count": 236,
   "id": "0a561ec7",
   "metadata": {},
   "outputs": [
    {
     "data": {
      "text/plain": [
       "{'health': '575.6',\n",
       " 'health_regen': '1.7',\n",
       " 'mana': '338.8',\n",
       " 'mana_regen': '1.63'}"
      ]
     },
     "execution_count": 236,
     "metadata": {},
     "output_type": "execute_result"
    }
   ],
   "source": [
    "dict(zip(k_list,v_list))"
   ]
  },
  {
   "cell_type": "markdown",
   "id": "b0c049a0",
   "metadata": {},
   "source": [
    "**교통 카드 시스템 만들기**\n",
    "표준 입력으로 나이(만 나이)가 입력됩니다(입력 값은 7 이상 입력됨). 교통카드 시스템에서 시내버스 요금은 다음과 같으며 각 나이에 맞게 요금을 차감한 뒤 잔액이 출력되게 만드세요(if, elif 사용). 현재 교통카드에는 9,000원이 들어있습니다.\n",
    "- 어린이(초등학생, 만 7세 이상 12세 이하): 650원\n",
    "- 청소년(중∙고등학생, 만 13세 이상 18세 이하): 1,050원\n",
    "- 어른(일반, 만 19세 이상): 1,250원\n",
    "```\n",
    "age = int(input())\n",
    "balance = 9000 # 교통카드 잔액\n",
    "________________\n",
    "________________\n",
    "________________\n",
    "print(balance)\n",
    "```"
   ]
  },
  {
   "cell_type": "code",
   "execution_count": 241,
   "id": "b3ed0ea7",
   "metadata": {},
   "outputs": [
    {
     "name": "stdout",
     "output_type": "stream",
     "text": [
      "10\n",
      "8350\n"
     ]
    }
   ],
   "source": [
    "age = int(input())\n",
    "balance = 9000\n",
    "\n",
    "if(age>=7 and age<=12):\n",
    "    balance= balance-650\n",
    "elif(age>=13 and age<=18):\n",
    "    balance = balance-1050\n",
    "else:\n",
    "    balance=balance-1250\n",
    "    \n",
    "print(balance)\n"
   ]
  },
  {
   "cell_type": "markdown",
   "id": "635a603a",
   "metadata": {},
   "source": [
    "for 변수 in range (변수):\n",
    "    반복할  코드"
   ]
  },
  {
   "cell_type": "code",
   "execution_count": 242,
   "id": "782476da",
   "metadata": {},
   "outputs": [
    {
     "name": "stdout",
     "output_type": "stream",
     "text": [
      "Hello world\n",
      "Hello world\n",
      "Hello world\n",
      "Hello world\n",
      "Hello world\n",
      "Hello world\n",
      "Hello world\n",
      "Hello world\n",
      "Hello world\n",
      "Hello world\n"
     ]
    }
   ],
   "source": [
    "for i in range(10):\n",
    "    print(\"Hello world\")"
   ]
  },
  {
   "cell_type": "code",
   "execution_count": 245,
   "id": "56fc9e1a",
   "metadata": {},
   "outputs": [
    {
     "name": "stdout",
     "output_type": "stream",
     "text": [
      "0 hello world\n",
      "2 hello world\n",
      "4 hello world\n",
      "6 hello world\n",
      "8 hello world\n"
     ]
    }
   ],
   "source": [
    "for i in range(0,10,2):\n",
    "    print(i,\"hello world\")"
   ]
  },
  {
   "cell_type": "code",
   "execution_count": 247,
   "id": "905df21f",
   "metadata": {},
   "outputs": [
    {
     "name": "stdout",
     "output_type": "stream",
     "text": [
      "0 0 hello  world\n",
      "1 2 hello  world\n",
      "2 4 hello  world\n",
      "3 6 hello  world\n",
      "4 8 hello  world\n"
     ]
    }
   ],
   "source": [
    "#enumerate() : 시퀀스값과 인덱스를 반환\n",
    "for i, v in enumerate(range(0,10,2)):\n",
    "    print(i,v,'hello  world')"
   ]
  },
  {
   "cell_type": "markdown",
   "id": "acb90974",
   "metadata": {},
   "source": [
    "```\n",
    "for 변수 in 시퀀스객체:\n",
    "    반복할 코드\n",
    "```"
   ]
  },
  {
   "cell_type": "code",
   "execution_count": 249,
   "id": "d5b98961",
   "metadata": {},
   "outputs": [
    {
     "name": "stdout",
     "output_type": "stream",
     "text": [
      "100\n",
      "200\n",
      "300\n"
     ]
    }
   ],
   "source": [
    "for i in [100,200,300]:\n",
    "    print(i)"
   ]
  },
  {
   "cell_type": "code",
   "execution_count": 251,
   "id": "8cde9838",
   "metadata": {},
   "outputs": [
    {
     "name": "stdout",
     "output_type": "stream",
     "text": [
      "0 100\n",
      "1 200\n",
      "2 300\n"
     ]
    }
   ],
   "source": [
    "lst =  [100,200,300]\n",
    "for i,v in enumerate([100,200,300]):\n",
    "    print(i,v)"
   ]
  },
  {
   "cell_type": "code",
   "execution_count": 252,
   "id": "6e1b8791",
   "metadata": {},
   "outputs": [
    {
     "name": "stdout",
     "output_type": "stream",
     "text": [
      "o\n",
      "l\n",
      "l\n",
      "e\n",
      "H\n"
     ]
    }
   ],
   "source": [
    "#reversed():객체를 반전\n",
    "for v in reversed('Hello'):\n",
    "    print(v)"
   ]
  },
  {
   "cell_type": "markdown",
   "id": "09994d27",
   "metadata": {},
   "source": [
    "# Workshop"
   ]
  },
  {
   "cell_type": "code",
   "execution_count": 256,
   "id": "20ef7f05",
   "metadata": {},
   "outputs": [
    {
     "name": "stdout",
     "output_type": "stream",
     "text": [
      "2\n",
      "2 * 1 = 2\n",
      "2 * 2 = 4\n",
      "2 * 3 = 6\n",
      "2 * 4 = 8\n",
      "2 * 5 = 10\n",
      "2 * 6 = 12\n",
      "2 * 7 = 14\n",
      "2 * 8 = 16\n",
      "2 * 9 = 18\n"
     ]
    }
   ],
   "source": [
    "a=input()\n",
    "a=int(a)\n",
    "for i in range(1,10):\n",
    "    print( a ,'*',i,'=',a*i)"
   ]
  },
  {
   "cell_type": "code",
   "execution_count": 257,
   "id": "7260ab96",
   "metadata": {},
   "outputs": [],
   "source": [
    "x=2\n",
    "y=3\n",
    "z=4"
   ]
  },
  {
   "cell_type": "code",
   "execution_count": 258,
   "id": "1ee2f84c",
   "metadata": {},
   "outputs": [
    {
     "data": {
      "text/plain": [
       "'234hello'"
      ]
     },
     "execution_count": 258,
     "metadata": {},
     "output_type": "execute_result"
    }
   ],
   "source": [
    "\"{}{}{}hello\".format(x,y,z)"
   ]
  },
  {
   "cell_type": "code",
   "execution_count": 262,
   "id": "2fe17687",
   "metadata": {},
   "outputs": [
    {
     "name": "stdout",
     "output_type": "stream",
     "text": [
      "2*1=2\n",
      "2*2=4\n",
      "2*3=6\n",
      "2*4=8\n",
      "2*5=10\n",
      "2*6=12\n",
      "2*7=14\n",
      "2*8=16\n",
      "2*9=18\n"
     ]
    }
   ],
   "source": [
    "for i in range(1,10):\n",
    "    print(\"{}*{}={}\".format(a,i,a*i))"
   ]
  },
  {
   "cell_type": "markdown",
   "id": "1cda23cc",
   "metadata": {},
   "source": [
    "# while 반복문 사용하기"
   ]
  },
  {
   "cell_type": "markdown",
   "id": "4ba49825",
   "metadata": {},
   "source": [
    "```\n",
    "while 조건식:\n",
    "    반복할 코드\n",
    "    변화식\n",
    "```"
   ]
  },
  {
   "cell_type": "code",
   "execution_count": 273,
   "id": "583bf6ef",
   "metadata": {},
   "outputs": [],
   "source": [
    "i=10\n",
    "while i>0:\n",
    "    print(\"hello  world\\n\")\n",
    "    i-=1"
   ]
  },
  {
   "cell_type": "markdown",
   "id": "455a9d7c",
   "metadata": {},
   "source": [
    "# workshop"
   ]
  },
  {
   "cell_type": "markdown",
   "id": "6d20776b",
   "metadata": {},
   "source": [
    "- 주사위 던지고  눈을 출력하는 동작을 반복하다가\n",
    "\"3\"이 나왔을때 멈추기"
   ]
  },
  {
   "cell_type": "code",
   "execution_count": 19,
   "id": "e2648484",
   "metadata": {},
   "outputs": [],
   "source": [
    "import random"
   ]
  },
  {
   "cell_type": "code",
   "execution_count": 20,
   "id": "9485a3d8",
   "metadata": {},
   "outputs": [],
   "source": [
    "n = random.randint(1,6)"
   ]
  },
  {
   "cell_type": "markdown",
   "id": "e625f9f3",
   "metadata": {},
   "source": [
    "- 주사위 던지고 눈을 출력하는 동작을 계속 반복하다가\n",
    "- \"3\"이 나왔을때 멈추기\n",
    "4:18\n",
    "**교통카드 잔액 출력하기**\n",
    "- 표준입력으로 금액(정수)이 입력됩니다. 1회당 요금은 1,350이고, 교통카드를 사용했을 때마다의 잔액을 각 줄에 출력하는 프로그램을 만드세요(input에서 안내 문자열은 출려갛지 않아야 합니다). 단, 최초 금액은 출력하지 않아야 합니다. 그리고 잔액은 음수가 될 수 없으며 잔액이 부족하면 출력을 끝냅니다.\n",
    "4:18\n",
    "**3으로 끝나는 숫자만 출력하기**\n",
    "- 0과 73 사이의 숫자 중 3으로 끝나는 숫자만 출력되게 만드세요.\n",
    "```\n",
    "출력예\n",
    "3 13 23 33 43 53 63 73\n",
    "```"
   ]
  },
  {
   "cell_type": "code",
   "execution_count": 22,
   "id": "b33b570b",
   "metadata": {},
   "outputs": [
    {
     "name": "stdout",
     "output_type": "stream",
     "text": [
      "5\n",
      "1\n",
      "3\n"
     ]
    }
   ],
   "source": [
    "n = 0\n",
    "while(n!=3):\n",
    "    n=random.randint(1,6)\n",
    "    print(n)\n",
    "    "
   ]
  },
  {
   "cell_type": "code",
   "execution_count": 21,
   "id": "7c7e9abc",
   "metadata": {},
   "outputs": [
    {
     "name": "stdout",
     "output_type": "stream",
     "text": [
      "6\n",
      "2\n",
      "4\n",
      "2\n",
      "3\n"
     ]
    }
   ],
   "source": [
    "i=0\n",
    "while i!=3:\n",
    "    i=random.randint(1,6)\n",
    "    print(i)"
   ]
  },
  {
   "cell_type": "code",
   "execution_count": 11,
   "id": "b592dfca",
   "metadata": {},
   "outputs": [
    {
     "name": "stdout",
     "output_type": "stream",
     "text": [
      "5000\n",
      "3650\n",
      "2300\n",
      "950\n"
     ]
    }
   ],
   "source": [
    "s=int(input())\n",
    "while(s>1350):\n",
    "    s=s-1350\n",
    "    print(s)"
   ]
  },
  {
   "cell_type": "code",
   "execution_count": 25,
   "id": "4342a391",
   "metadata": {},
   "outputs": [
    {
     "name": "stdout",
     "output_type": "stream",
     "text": [
      "3\n",
      "13\n",
      "23\n",
      "33\n",
      "43\n",
      "53\n",
      "63\n",
      "73\n"
     ]
    }
   ],
   "source": [
    "i=0\n",
    "while True:\n",
    "    if (i%10 ==3):\n",
    "        print(i)\n",
    "    i+=1\n",
    "    if(i>73):\n",
    "        break"
   ]
  },
  {
   "cell_type": "code",
   "execution_count": null,
   "id": "0b6d7437",
   "metadata": {},
   "outputs": [],
   "source": []
  },
  {
   "cell_type": "code",
   "execution_count": null,
   "id": "e0030b7a",
   "metadata": {},
   "outputs": [],
   "source": []
  }
 ],
 "metadata": {
  "kernelspec": {
   "display_name": "Python 3 (ipykernel)",
   "language": "python",
   "name": "python3"
  },
  "language_info": {
   "codemirror_mode": {
    "name": "ipython",
    "version": 3
   },
   "file_extension": ".py",
   "mimetype": "text/x-python",
   "name": "python",
   "nbconvert_exporter": "python",
   "pygments_lexer": "ipython3",
   "version": "3.9.13"
  }
 },
 "nbformat": 4,
 "nbformat_minor": 5
}
