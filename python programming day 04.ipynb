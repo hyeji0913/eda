{
 "cells": [
  {
   "cell_type": "markdown",
   "id": "bd47af7e",
   "metadata": {},
   "source": [
    "# 파일 사용하기"
   ]
  },
  {
   "cell_type": "markdown",
   "id": "9dc655e9",
   "metadata": {},
   "source": [
    "- 파일객체 = open('파일이름','파일모드')\n",
    "- 파일객체.write('문자열')\n",
    "- 파일객체.close()"
   ]
  },
  {
   "cell_type": "code",
   "execution_count": 1,
   "id": "ff694887",
   "metadata": {},
   "outputs": [
    {
     "data": {
      "text/plain": [
       "'C:\\\\Users\\\\Playdata\\\\Documents\\\\hj'"
      ]
     },
     "execution_count": 1,
     "metadata": {},
     "output_type": "execute_result"
    }
   ],
   "source": [
    "%pwd"
   ]
  },
  {
   "cell_type": "code",
   "execution_count": 2,
   "id": "7eeafe34",
   "metadata": {},
   "outputs": [
    {
     "name": "stdout",
     "output_type": "stream",
     "text": [
      " C 드라이브의 볼륨에는 이름이 없습니다.\n",
      " 볼륨 일련 번호: 308F-3770\n",
      "\n",
      " C:\\Users\\Playdata\\Documents\\hj 디렉터리\n",
      "\n",
      "2023-01-19  오전 09:13    <DIR>          .\n",
      "2023-01-16  오전 10:31    <DIR>          ..\n",
      "2023-01-19  오전 09:03    <DIR>          .ipynb_checkpoints\n",
      "2023-01-16  오전 10:39                 0 hello.py\n",
      "2023-01-18  오전 09:15            55,908 python programming day 02.ipynb\n",
      "2023-01-18  오후 05:49            57,105 python programming day 03.ipynb\n",
      "2023-01-19  오전 09:13             1,300 python programming day 04.ipynb\n",
      "2023-01-16  오전 11:28             4,219 python.jpg\n",
      "2023-01-16  오후 04:53            38,936 python_day01.ipynb\n",
      "               6개 파일             157,468 바이트\n",
      "               3개 디렉터리  175,825,719,296 바이트 남음\n"
     ]
    }
   ],
   "source": [
    "! dir"
   ]
  },
  {
   "cell_type": "code",
   "execution_count": 3,
   "id": "7d8105b3",
   "metadata": {},
   "outputs": [],
   "source": [
    "fd = open('hello.txt','w') #쓰기모드로 열기\n",
    "fd.write('문자열')\n",
    "fd.close()"
   ]
  },
  {
   "cell_type": "code",
   "execution_count": 4,
   "id": "e21cf6b4",
   "metadata": {},
   "outputs": [
    {
     "name": "stdout",
     "output_type": "stream",
     "text": [
      " C 드라이브의 볼륨에는 이름이 없습니다.\n",
      " 볼륨 일련 번호: 308F-3770\n",
      "\n",
      " C:\\Users\\Playdata\\Documents\\hj 디렉터리\n",
      "\n",
      "2023-01-19  오전 09:16    <DIR>          .\n",
      "2023-01-16  오전 10:31    <DIR>          ..\n",
      "2023-01-19  오전 09:03    <DIR>          .ipynb_checkpoints\n",
      "2023-01-16  오전 10:39                 0 hello.py\n",
      "2023-01-19  오전 09:16                 6 hello.txt\n",
      "2023-01-18  오전 09:15            55,908 python programming day 02.ipynb\n",
      "2023-01-18  오후 05:49            57,105 python programming day 03.ipynb\n",
      "2023-01-19  오전 09:15             2,644 python programming day 04.ipynb\n",
      "2023-01-16  오전 11:28             4,219 python.jpg\n",
      "2023-01-16  오후 04:53            38,936 python_day01.ipynb\n",
      "               7개 파일             158,818 바이트\n",
      "               3개 디렉터리  175,825,211,392 바이트 남음\n"
     ]
    }
   ],
   "source": [
    "!dir"
   ]
  },
  {
   "cell_type": "code",
   "execution_count": 5,
   "id": "382e7d90",
   "metadata": {},
   "outputs": [
    {
     "name": "stdout",
     "output_type": "stream",
     "text": [
      "문자열\n"
     ]
    }
   ],
   "source": [
    "fd = open('hello.txt','r') #읽기\n",
    "s=fd.read()\n",
    "print(s)\n",
    "fd.close()"
   ]
  },
  {
   "cell_type": "markdown",
   "id": "33a78a9d",
   "metadata": {},
   "source": [
    "```\n",
    "with open('파일이름','파일모드') as 파일객체 :\n",
    "    코드\n",
    "    ...\n",
    "    ...\n",
    "    \n",
    "새로운 코드 # 파일객체 닫힘\n",
    "```"
   ]
  },
  {
   "cell_type": "code",
   "execution_count": 6,
   "id": "b82efbfc",
   "metadata": {},
   "outputs": [
    {
     "name": "stdout",
     "output_type": "stream",
     "text": [
      "문자열\n"
     ]
    }
   ],
   "source": [
    "with open('hello.txt','r') as fd:\n",
    "    s=fd.read()\n",
    "    print(s)"
   ]
  },
  {
   "cell_type": "code",
   "execution_count": 8,
   "id": "3be229ac",
   "metadata": {},
   "outputs": [],
   "source": [
    "with open('hello.txt','w') as fd:\n",
    "    for i in range(3):\n",
    "        fd.write('hello hello\\n')\n",
    "    "
   ]
  },
  {
   "cell_type": "code",
   "execution_count": 13,
   "id": "06365394",
   "metadata": {},
   "outputs": [],
   "source": [
    "l=['여기는 ','플레이데이터입니다\\n ','오늘도 ','화이팅 '] #리스트일경우\n",
    "with open('play.txt','w') as fd:\n",
    "    fd.writelines(l) "
   ]
  },
  {
   "cell_type": "code",
   "execution_count": 16,
   "id": "a4343523",
   "metadata": {},
   "outputs": [
    {
     "data": {
      "text/plain": [
       "['여기는 플레이데이터입니다\\n', ' 오늘도 화이팅 ']"
      ]
     },
     "execution_count": 16,
     "metadata": {},
     "output_type": "execute_result"
    }
   ],
   "source": [
    "with open('play.txt','r') as fd:\n",
    "    lines = fd.readlines()  #리스트를 반환\n",
    "lines"
   ]
  },
  {
   "cell_type": "code",
   "execution_count": 17,
   "id": "00c5315c",
   "metadata": {},
   "outputs": [],
   "source": [
    "#fd.readline() :한줄문자열\n",
    "#fd.readlines() :여러줄문자열 리스트반환"
   ]
  },
  {
   "cell_type": "code",
   "execution_count": 19,
   "id": "4af13dcd",
   "metadata": {},
   "outputs": [
    {
     "name": "stdout",
     "output_type": "stream",
     "text": [
      "여기는 플레이데이터입니다\n",
      "\n",
      " 오늘도 화이팅 \n",
      "\n"
     ]
    }
   ],
   "source": [
    "with open('play.txt','r') as fd:\n",
    "    while lines!='' :\n",
    "        lines = fd.readline()\n",
    "        print(lines)"
   ]
  },
  {
   "cell_type": "markdown",
   "id": "9d507fa9",
   "metadata": {},
   "source": [
    "**이진 모드로 파일읽고쓰기**"
   ]
  },
  {
   "cell_type": "code",
   "execution_count": 23,
   "id": "6abe157f",
   "metadata": {},
   "outputs": [],
   "source": [
    "import pickle"
   ]
  },
  {
   "cell_type": "code",
   "execution_count": 24,
   "id": "b1fbe014",
   "metadata": {},
   "outputs": [],
   "source": [
    "score = {'korean':90,'english':80} #파이썬 딕셔너리 객체"
   ]
  },
  {
   "cell_type": "code",
   "execution_count": 26,
   "id": "771738f6",
   "metadata": {},
   "outputs": [
    {
     "data": {
      "text/plain": [
       "{'korean': 90, 'english': 80}"
      ]
     },
     "execution_count": 26,
     "metadata": {},
     "output_type": "execute_result"
    }
   ],
   "source": [
    "score"
   ]
  },
  {
   "cell_type": "code",
   "execution_count": 28,
   "id": "0af824e5",
   "metadata": {},
   "outputs": [],
   "source": [
    "with open('score.pkl','wb') as fd: #파이썬 인터프리터만 이해\n",
    "    pickle.dump(score,fd)"
   ]
  },
  {
   "cell_type": "code",
   "execution_count": 30,
   "id": "def5f386",
   "metadata": {},
   "outputs": [],
   "source": [
    "with open('score.pkl','rb') as fd:\n",
    "    scores= pickle.load(fd)"
   ]
  },
  {
   "cell_type": "code",
   "execution_count": 31,
   "id": "37790e7d",
   "metadata": {},
   "outputs": [
    {
     "data": {
      "text/plain": [
       "{'korean': 90, 'english': 80}"
      ]
     },
     "execution_count": 31,
     "metadata": {},
     "output_type": "execute_result"
    }
   ],
   "source": [
    "scores"
   ]
  },
  {
   "cell_type": "code",
   "execution_count": 34,
   "id": "7023e6f7",
   "metadata": {},
   "outputs": [],
   "source": [
    "names = 'James'\n",
    "age = 17\n",
    "scores = {'korean': 90, 'english': 80}"
   ]
  },
  {
   "cell_type": "code",
   "execution_count": 37,
   "id": "68d0157d",
   "metadata": {},
   "outputs": [],
   "source": [
    "with open('student.pkl','wb') as fd: \n",
    "    pickle.dump(names,fd)\n",
    "    pickle.dump(age,fd)\n",
    "    pickle.dump(scores,fd)"
   ]
  },
  {
   "cell_type": "code",
   "execution_count": 39,
   "id": "e04c8031",
   "metadata": {},
   "outputs": [],
   "source": [
    "with open('student.pkl','rb') as fd:\n",
    "    load_name= pickle.load(fd)\n",
    "    load_age= pickle.load(fd)\n",
    "    load_score= pickle.load(fd)"
   ]
  },
  {
   "cell_type": "code",
   "execution_count": 40,
   "id": "8dd9db60",
   "metadata": {},
   "outputs": [
    {
     "data": {
      "text/plain": [
       "17"
      ]
     },
     "execution_count": 40,
     "metadata": {},
     "output_type": "execute_result"
    }
   ],
   "source": [
    "load_age"
   ]
  },
  {
   "cell_type": "markdown",
   "id": "51f84034",
   "metadata": {},
   "source": [
    "# Workshop"
   ]
  },
  {
   "cell_type": "markdown",
   "id": "0ddbbf81",
   "metadata": {},
   "source": [
    "```\n",
    "**파일에서 10자 이하인 단어 개수 세기**\n",
    "- 단어가 줄 단위로 저장된 words.txt 파일이 주어집니다. 10자 이하인 단어의 개수가 출력되게 만드세요.\n",
    "**특정 문자가 들어 있는 단어 찾기**\n",
    "- 문자열이 저장된 words2.txt 파일이 주어집니다(문자열은 한 줄로 저장되어 있습니다). \n",
    "words2.txt 파일에서 문자 c가 포함된 단어를 각 줄에 출력하는 프로그램을 만드세요. \n",
    "단어를 출력할 때는 등장한 순서대로 출력해야 하며 ,(콤마)와 .(점)은 출력하지 않아야 합니다.\n",
    "```"
   ]
  },
  {
   "cell_type": "code",
   "execution_count": 6,
   "id": "656da416",
   "metadata": {},
   "outputs": [
    {
     "name": "stdout",
     "output_type": "stream",
     "text": [
      "3\n"
     ]
    }
   ],
   "source": [
    "cnt=0\n",
    "with open('words.txt','r') as fd:\n",
    "    a=fd.readlines()\n",
    "    for i in range(len(a)):\n",
    "        if(len(a[i])<=12):\n",
    "            cnt+=1\n",
    "print(cnt)"
   ]
  },
  {
   "cell_type": "code",
   "execution_count": 12,
   "id": "022e1d45",
   "metadata": {},
   "outputs": [
    {
     "name": "stdout",
     "output_type": "stream",
     "text": [
      "2\n"
     ]
    }
   ],
   "source": [
    "count = 0\n",
    "with open('words.txt','r') as fd:\n",
    "    line_list=fd.readlines()\n",
    "    for line in line_list:\n",
    "        if len(line.rstrip('\\n'))<=10:\n",
    "            count+=1\n",
    "print(count)"
   ]
  },
  {
   "cell_type": "code",
   "execution_count": 22,
   "id": "06514c30",
   "metadata": {},
   "outputs": [
    {
     "name": "stdout",
     "output_type": "stream",
     "text": [
      "dictator\n",
      "subjects\n",
      "change\n",
      "costume\n",
      "elegance\n",
      "accepted\n"
     ]
    }
   ],
   "source": [
    "with open('words2.txt','r') as fd:\n",
    "    a=fd.read()\n",
    "    list=a.split()\n",
    "for word in list:\n",
    "    if 'c' in word:\n",
    "        print(word.strip(',.'))"
   ]
  },
  {
   "cell_type": "markdown",
   "id": "2f61bac4",
   "metadata": {},
   "source": [
    "# 함수"
   ]
  },
  {
   "cell_type": "markdown",
   "id": "b296592d",
   "metadata": {},
   "source": [
    "- 코드의 용도 구분\n",
    "- 코드 재사용\n",
    "- 실수 줄임"
   ]
  },
  {
   "cell_type": "markdown",
   "id": "a61ad68b",
   "metadata": {},
   "source": [
    "```\n",
    "def 함수이름():\n",
    "    코드\n",
    "```"
   ]
  },
  {
   "cell_type": "code",
   "execution_count": 26,
   "id": "a635e4ea",
   "metadata": {},
   "outputs": [],
   "source": [
    "#함수 정의\n",
    "def print_hello(name):\n",
    "    print('hello',name)"
   ]
  },
  {
   "cell_type": "code",
   "execution_count": 27,
   "id": "5dcce7cb",
   "metadata": {},
   "outputs": [
    {
     "name": "stdout",
     "output_type": "stream",
     "text": [
      "hello James\n"
     ]
    }
   ],
   "source": [
    "#함수 호출\n",
    "print_hello('James')"
   ]
  },
  {
   "cell_type": "code",
   "execution_count": 28,
   "id": "75e46f5e",
   "metadata": {},
   "outputs": [],
   "source": [
    "#함수 정의: 덧셈의 결과 출력\n",
    "def add(a,b):\n",
    "    print(a+b)"
   ]
  },
  {
   "cell_type": "code",
   "execution_count": 29,
   "id": "7c517b4b",
   "metadata": {},
   "outputs": [
    {
     "name": "stdout",
     "output_type": "stream",
     "text": [
      "3676\n"
     ]
    }
   ],
   "source": [
    "add(142,3534)"
   ]
  },
  {
   "cell_type": "code",
   "execution_count": 30,
   "id": "74b2fee2",
   "metadata": {},
   "outputs": [],
   "source": [
    "def add(a,b):\n",
    "    c=a+b\n",
    "    return c"
   ]
  },
  {
   "cell_type": "code",
   "execution_count": 31,
   "id": "57762b59",
   "metadata": {},
   "outputs": [
    {
     "data": {
      "text/plain": [
       "8"
      ]
     },
     "execution_count": 31,
     "metadata": {},
     "output_type": "execute_result"
    }
   ],
   "source": [
    "add(5,3)"
   ]
  },
  {
   "cell_type": "code",
   "execution_count": 32,
   "id": "529f3b10",
   "metadata": {},
   "outputs": [],
   "source": [
    "def add_sub(a,b):\n",
    "    c=a+b\n",
    "    d=a-b\n",
    "    return c , d"
   ]
  },
  {
   "cell_type": "code",
   "execution_count": 33,
   "id": "042bd7ab",
   "metadata": {},
   "outputs": [
    {
     "data": {
      "text/plain": [
       "(14, 6)"
      ]
     },
     "execution_count": 33,
     "metadata": {},
     "output_type": "execute_result"
    }
   ],
   "source": [
    "add_sub(10,4)"
   ]
  },
  {
   "cell_type": "markdown",
   "id": "ada81edc",
   "metadata": {},
   "source": [
    "```\n",
    "**I have a dream 연설문 단어 빈도수 계산**\n",
    "- WordCount 함수에서 ihaveadream.txt 파일을 열어 전체 내용 중 단어를 키로, 빈도를 값으로 매핑한 사전형 자료를 반환하세요.\n",
    "- 단 stopwords.txt에 있는 단어는 제외시킵니다.\n",
    "- WordCount 함수의 결과를 result.txt로 저장하세요.\n",
    "- majorityCnt 함수에서 사전형 자료를 인수로 받아 값을 기준으로 내림차순으로 정렬하여 값이 가장 큰 키를 반환하세요.\n",
    "```"
   ]
  },
  {
   "cell_type": "code",
   "execution_count": 36,
   "id": "78efb46e",
   "metadata": {},
   "outputs": [
    {
     "data": {
      "text/plain": [
       "('equality.', 1)"
      ]
     },
     "execution_count": 36,
     "metadata": {},
     "output_type": "execute_result"
    }
   ],
   "source": [
    "import pickle\n",
    "def WordCount():\n",
    "    d={}\n",
    "    with open('ihaveadream.txt','r') as fd:\n",
    "        a=fd.read()\n",
    "        list_a=a.split()\n",
    "\n",
    "    with open('stopwords.txt','r') as fd:\n",
    "        b=fd.read()\n",
    "        list_b=b.split()\n",
    "    \n",
    "    c=set(list_a)-set(list_b)\n",
    "    list_c=list(c)\n",
    "\n",
    "    for word in list_c:\n",
    "        if word not in d:\n",
    "            d[word]=1\n",
    "        else:\n",
    "            d[word]+=1\n",
    "    return d\n",
    "with open('result.txt','wb') as fd:\n",
    "    s=pickle.dump(WordCount(),fd)\n",
    "\n",
    "def majorityCnt(x):\n",
    "    x_sort=sorted(x.items(),reverse=True,key = lambda item: item[1])\n",
    "    return x_sort[0]\n",
    "\n",
    "majorityCnt(d)"
   ]
  },
  {
   "cell_type": "code",
   "execution_count": 41,
   "id": "842cfe6f",
   "metadata": {},
   "outputs": [],
   "source": [
    "with open('ihaveadream.txt','r') as fd:\n",
    "    speech=fd.read()\n",
    "with open('stopwords.txt','r') as fd2:\n",
    "    stopwords=fd2.read()"
   ]
  },
  {
   "cell_type": "code",
   "execution_count": 42,
   "id": "b981d151",
   "metadata": {},
   "outputs": [],
   "source": [
    "#소문자로 바꾸기\n",
    "word_list=speech.lower().split()\n",
    "stop_list=stopwords.lower().split()"
   ]
  },
  {
   "cell_type": "code",
   "execution_count": 44,
   "id": "7c6c77d5",
   "metadata": {},
   "outputs": [],
   "source": [
    "#포함하지말아야할건 그냥 continue하기\n",
    "d={}\n",
    "for word in word_list:\n",
    "    if word in stop_list:\n",
    "        continue\n",
    "    elif word not in d:\n",
    "        d[word]=1\n",
    "    else:\n",
    "        d[word]+=1"
   ]
  },
  {
   "cell_type": "code",
   "execution_count": 47,
   "id": "d2c836cb",
   "metadata": {},
   "outputs": [],
   "source": [
    "# #다른 방법도있음\n",
    "# d={}\n",
    "# for word in word_list:\n",
    "#     if word in stop_list:\n",
    "#         continue\n",
    "#     d[word] = d.get(word,0)+1"
   ]
  },
  {
   "cell_type": "code",
   "execution_count": 65,
   "id": "6f195599",
   "metadata": {},
   "outputs": [
    {
     "data": {
      "text/plain": [
       "('freedom', 19)"
      ]
     },
     "execution_count": 65,
     "metadata": {},
     "output_type": "execute_result"
    }
   ],
   "source": [
    "def WordCount(d):\n",
    "    with open('ihaveadream.txt','r') as fd:\n",
    "        speech=fd.read()\n",
    "    with open('stopwords.txt','r') as fd2:\n",
    "        stopwords=fd2.read()\n",
    "    word_list=speech.lower().split()\n",
    "    stop_list=stopwords.lower().split()\n",
    "    d={}\n",
    "    for word in word_list:\n",
    "        if word in stop_list:\n",
    "            continue\n",
    "        elif word not in d:\n",
    "            d[word]=1\n",
    "        else:\n",
    "            d[word]+=1         \n",
    "    with open('result.txt','w') as fd3:\n",
    "        fd3.write(str(d))\n",
    "    return  d\n",
    "\n",
    "def majorityCnt(x):\n",
    "    x_sort=sorted(x.items(),reverse=True,key = lambda item: item[1])\n",
    "    return x_sort[0]\n",
    "\n",
    "majorityCnt(d)"
   ]
  },
  {
   "cell_type": "markdown",
   "id": "ba4db3a8",
   "metadata": {},
   "source": [
    "# 위치인수와 키워드 인수"
   ]
  },
  {
   "cell_type": "code",
   "execution_count": 73,
   "id": "a6a120a4",
   "metadata": {},
   "outputs": [],
   "source": [
    "def print_numbers(a,b,c):\n",
    "    print(a)\n",
    "    print(b)\n",
    "    print(c)"
   ]
  },
  {
   "cell_type": "code",
   "execution_count": 77,
   "id": "5540fa4b",
   "metadata": {
    "scrolled": true
   },
   "outputs": [
    {
     "name": "stdout",
     "output_type": "stream",
     "text": [
      "10\n",
      "20\n",
      "30\n"
     ]
    }
   ],
   "source": [
    "lst=[10,20,30]\n",
    "print_numbers(*lst) # *는 언패킹 해주는 연산자"
   ]
  },
  {
   "cell_type": "code",
   "execution_count": 78,
   "id": "f5846aec",
   "metadata": {},
   "outputs": [],
   "source": [
    "# 함수 정의\n",
    "def print_number(*args): # args 는 집합체인데, 원소의 개수가 가변적일때 unpacking해서 사용\n",
    "    for arg in args:\n",
    "        print(arg)"
   ]
  },
  {
   "cell_type": "code",
   "execution_count": 80,
   "id": "e97ce7ef",
   "metadata": {},
   "outputs": [
    {
     "name": "stdout",
     "output_type": "stream",
     "text": [
      "이혜지\n",
      "25\n",
      "가산동\n",
      "이혜지\n",
      "25\n",
      "가산동\n"
     ]
    }
   ],
   "source": [
    "def personal_info(name,age,address):\n",
    "    print(name)\n",
    "    print(age)\n",
    "    print(address)\n",
    "    \n",
    "personal_info('이혜지',25,'가산동')\n",
    "\n",
    "personal_info(name='이혜지',age=25,address='가산동')#순서고려안해도됨"
   ]
  },
  {
   "cell_type": "code",
   "execution_count": 92,
   "id": "a601ff0f",
   "metadata": {},
   "outputs": [],
   "source": [
    "def personal_info(name,age,address='가산동'):\n",
    "    print(name)\n",
    "    print(age)\n",
    "    print(address)"
   ]
  },
  {
   "cell_type": "code",
   "execution_count": 84,
   "id": "799224fc",
   "metadata": {},
   "outputs": [
    {
     "name": "stdout",
     "output_type": "stream",
     "text": [
      "조민호\n",
      "28\n",
      "가산동\n"
     ]
    }
   ],
   "source": [
    "personal_info(age=28,name='조민호')"
   ]
  },
  {
   "cell_type": "code",
   "execution_count": 86,
   "id": "906dea56",
   "metadata": {},
   "outputs": [
    {
     "name": "stdout",
     "output_type": "stream",
     "text": [
      "이혜지\n",
      "25\n",
      "서초동\n"
     ]
    }
   ],
   "source": [
    "personal_info(name='이혜지',age=25,address='서초동')#우선순위는 호출에 있음"
   ]
  },
  {
   "cell_type": "code",
   "execution_count": 88,
   "id": "bcd024e2",
   "metadata": {},
   "outputs": [
    {
     "ename": "NameError",
     "evalue": "name '코드' is not defined",
     "output_type": "error",
     "traceback": [
      "\u001b[1;31m---------------------------------------------------------------------------\u001b[0m",
      "\u001b[1;31mNameError\u001b[0m                                 Traceback (most recent call last)",
      "\u001b[1;32m~\\AppData\\Local\\Temp\\ipykernel_18100\\3130191106.py\u001b[0m in \u001b[0;36m<module>\u001b[1;34m\u001b[0m\n\u001b[0;32m      3\u001b[0m \u001b[1;33m\u001b[0m\u001b[0m\n\u001b[0;32m      4\u001b[0m \u001b[0mlst\u001b[0m\u001b[1;33m=\u001b[0m\u001b[1;33m[\u001b[0m\u001b[1;36m10\u001b[0m\u001b[1;33m,\u001b[0m\u001b[1;36m20\u001b[0m\u001b[1;33m,\u001b[0m\u001b[1;36m30\u001b[0m\u001b[1;33m]\u001b[0m\u001b[1;33m\u001b[0m\u001b[1;33m\u001b[0m\u001b[0m\n\u001b[1;32m----> 5\u001b[1;33m \u001b[0mprint_number\u001b[0m\u001b[1;33m(\u001b[0m\u001b[1;33m*\u001b[0m\u001b[0mlst\u001b[0m\u001b[1;33m)\u001b[0m\u001b[1;33m\u001b[0m\u001b[1;33m\u001b[0m\u001b[0m\n\u001b[0m",
      "\u001b[1;32m~\\AppData\\Local\\Temp\\ipykernel_18100\\3130191106.py\u001b[0m in \u001b[0;36mprint_number\u001b[1;34m(a, b, c)\u001b[0m\n\u001b[0;32m      1\u001b[0m \u001b[1;32mdef\u001b[0m \u001b[0mprint_number\u001b[0m\u001b[1;33m(\u001b[0m\u001b[0ma\u001b[0m\u001b[1;33m,\u001b[0m\u001b[0mb\u001b[0m\u001b[1;33m,\u001b[0m\u001b[0mc\u001b[0m\u001b[1;33m)\u001b[0m\u001b[1;33m:\u001b[0m\u001b[1;33m\u001b[0m\u001b[1;33m\u001b[0m\u001b[0m\n\u001b[1;32m----> 2\u001b[1;33m     \u001b[0m코드\u001b[0m\u001b[1;33m\u001b[0m\u001b[1;33m\u001b[0m\u001b[0m\n\u001b[0m\u001b[0;32m      3\u001b[0m \u001b[1;33m\u001b[0m\u001b[0m\n\u001b[0;32m      4\u001b[0m \u001b[0mlst\u001b[0m\u001b[1;33m=\u001b[0m\u001b[1;33m[\u001b[0m\u001b[1;36m10\u001b[0m\u001b[1;33m,\u001b[0m\u001b[1;36m20\u001b[0m\u001b[1;33m,\u001b[0m\u001b[1;36m30\u001b[0m\u001b[1;33m]\u001b[0m\u001b[1;33m\u001b[0m\u001b[1;33m\u001b[0m\u001b[0m\n\u001b[0;32m      5\u001b[0m \u001b[0mprint_number\u001b[0m\u001b[1;33m(\u001b[0m\u001b[1;33m*\u001b[0m\u001b[0mlst\u001b[0m\u001b[1;33m)\u001b[0m\u001b[1;33m\u001b[0m\u001b[1;33m\u001b[0m\u001b[0m\n",
      "\u001b[1;31mNameError\u001b[0m: name '코드' is not defined"
     ]
    }
   ],
   "source": [
    "def print_number(a,b,c):\n",
    "    코드\n",
    "    \n",
    "lst=[10,20,30]\n",
    "print_number(*lst)"
   ]
  },
  {
   "cell_type": "code",
   "execution_count": 95,
   "id": "c5fdc631",
   "metadata": {},
   "outputs": [
    {
     "name": "stdout",
     "output_type": "stream",
     "text": [
      "name\n",
      "age\n",
      "address\n"
     ]
    }
   ],
   "source": [
    "d={'name':'이혜지','age':25,'address':'가산동'}\n",
    "personal_info(*d) #* 하나는 key 값 반환"
   ]
  },
  {
   "cell_type": "code",
   "execution_count": 97,
   "id": "e4588d91",
   "metadata": {},
   "outputs": [
    {
     "name": "stdout",
     "output_type": "stream",
     "text": [
      "이혜지\n",
      "25\n",
      "가산동\n"
     ]
    }
   ],
   "source": [
    "personal_info(**d) #**두개는 value  반환"
   ]
  },
  {
   "cell_type": "code",
   "execution_count": 100,
   "id": "b8d22bd6",
   "metadata": {},
   "outputs": [
    {
     "name": "stdout",
     "output_type": "stream",
     "text": [
      "name 이혜지\n",
      "age 25\n",
      "address 서초동\n"
     ]
    }
   ],
   "source": [
    "#키워드 인수를 가변적으로 처리\n",
    "def personal_info(**kwargs):\n",
    "    for k,v in kwargs.items():\n",
    "        print(k,v)\n",
    "    \n",
    "personal_info(name='이혜지',age=25,address='서초동')"
   ]
  },
  {
   "cell_type": "code",
   "execution_count": 101,
   "id": "680ac913",
   "metadata": {},
   "outputs": [
    {
     "name": "stdout",
     "output_type": "stream",
     "text": [
      "name 이혜지\n",
      "age 25\n"
     ]
    }
   ],
   "source": [
    "personal_info(name='이혜지',age=25)"
   ]
  },
  {
   "cell_type": "markdown",
   "id": "494a2d4e",
   "metadata": {},
   "source": [
    "# 함수에서 재귀호출 사용하기"
   ]
  },
  {
   "cell_type": "code",
   "execution_count": 102,
   "id": "73cce92d",
   "metadata": {},
   "outputs": [],
   "source": [
    "# def hello():\n",
    "#     print('hello world')\n",
    "#     hello()"
   ]
  },
  {
   "cell_type": "code",
   "execution_count": 1,
   "id": "c30aec92",
   "metadata": {},
   "outputs": [],
   "source": [
    "def hello(count):\n",
    "    print('hello world')\n",
    "    count-=1\n",
    "    hello(count)"
   ]
  },
  {
   "cell_type": "code",
   "execution_count": 4,
   "id": "7106c187",
   "metadata": {},
   "outputs": [
    {
     "name": "stdout",
     "output_type": "stream",
     "text": [
      "hello world\n",
      "hello world\n",
      "hello world\n",
      "hello world\n",
      "hello world\n"
     ]
    }
   ],
   "source": [
    "def hello(count):\n",
    "    for i in range(count):\n",
    "        print('hello world')\n",
    "hello(5)"
   ]
  },
  {
   "cell_type": "code",
   "execution_count": 8,
   "id": "dbb53f85",
   "metadata": {},
   "outputs": [
    {
     "name": "stdout",
     "output_type": "stream",
     "text": [
      "55\n"
     ]
    }
   ],
   "source": [
    "sum=0\n",
    "for i in range(11):\n",
    "    sum+=i\n",
    "print(sum)"
   ]
  },
  {
   "cell_type": "code",
   "execution_count": 7,
   "id": "a07d148d",
   "metadata": {},
   "outputs": [],
   "source": [
    "#재귀호출\n",
    "sum1=0\n",
    "def count(x):\n",
    "    if(x!=0):\n",
    "        sum1=sum1+x\n",
    "        x=x-1\n",
    "    count(x)\n",
    "    "
   ]
  },
  {
   "cell_type": "code",
   "execution_count": 15,
   "id": "e54a4f8c",
   "metadata": {},
   "outputs": [],
   "source": [
    "x=0\n",
    "total=0\n",
    "def count(x):\n",
    "    if(x == 0):\n",
    "        return\n",
    "        \n",
    "    total=total+x\n",
    "        \n",
    "    count(x-1) "
   ]
  },
  {
   "cell_type": "code",
   "execution_count": 18,
   "id": "8ae51943",
   "metadata": {},
   "outputs": [
    {
     "data": {
      "text/plain": [
       "55"
      ]
     },
     "execution_count": 18,
     "metadata": {},
     "output_type": "execute_result"
    }
   ],
   "source": [
    "#재귀호출\n",
    "def add_sum(number):\n",
    "    if number == 1:\n",
    "        return 1\n",
    "    \n",
    "    total = number + add_sum(number-1)\n",
    "    return total\n",
    "    \n",
    "add_sum(10)"
   ]
  },
  {
   "cell_type": "code",
   "execution_count": 19,
   "id": "9a69c226",
   "metadata": {},
   "outputs": [
    {
     "data": {
      "text/plain": [
       "120"
      ]
     },
     "execution_count": 19,
     "metadata": {},
     "output_type": "execute_result"
    }
   ],
   "source": [
    "#반복문 팩토리얼\n",
    "def factorial(number):\n",
    "    total =1\n",
    "    for i in range(number,0,-1):\n",
    "        total = total*i\n",
    "    return total\n",
    "factorial(5)"
   ]
  },
  {
   "cell_type": "code",
   "execution_count": 21,
   "id": "f9afd5fc",
   "metadata": {},
   "outputs": [
    {
     "data": {
      "text/plain": [
       "120"
      ]
     },
     "execution_count": 21,
     "metadata": {},
     "output_type": "execute_result"
    }
   ],
   "source": [
    "#재귀호출 팩토리얼\n",
    "def factoria(number):\n",
    "    if number ==1:\n",
    "        return 1\n",
    "    total = number*factorial(number-1)\n",
    "    return total\n",
    "\n",
    "factorial(5)\n",
    "#재귀함수:n과 n-1을 이용한 함수를만들어야하는것같다.. 종료 조건도 있어야함"
   ]
  },
  {
   "cell_type": "code",
   "execution_count": 30,
   "id": "c4ba50af",
   "metadata": {},
   "outputs": [
    {
     "name": "stdout",
     "output_type": "stream",
     "text": [
      "2 단\n",
      "2 * 1 = 2\n",
      "2 * 2 = 4\n",
      "2 * 3 = 6\n",
      "2 * 4 = 8\n",
      "2 * 5 = 10\n",
      "2 * 6 = 12\n",
      "2 * 7 = 14\n",
      "2 * 8 = 16\n",
      "2 * 9 = 18\n",
      "3 단\n",
      "3 * 1 = 3\n",
      "3 * 2 = 6\n",
      "3 * 3 = 9\n",
      "3 * 4 = 12\n",
      "3 * 5 = 15\n",
      "3 * 6 = 18\n",
      "3 * 7 = 21\n",
      "3 * 8 = 24\n",
      "3 * 9 = 27\n",
      "4 단\n",
      "4 * 1 = 4\n",
      "4 * 2 = 8\n",
      "4 * 3 = 12\n",
      "4 * 4 = 16\n",
      "4 * 5 = 20\n",
      "4 * 6 = 24\n",
      "4 * 7 = 28\n",
      "4 * 8 = 32\n",
      "4 * 9 = 36\n",
      "5 단\n",
      "5 * 1 = 5\n",
      "5 * 2 = 10\n",
      "5 * 3 = 15\n",
      "5 * 4 = 20\n",
      "5 * 5 = 25\n",
      "5 * 6 = 30\n",
      "5 * 7 = 35\n",
      "5 * 8 = 40\n",
      "5 * 9 = 45\n",
      "6 단\n",
      "6 * 1 = 6\n",
      "6 * 2 = 12\n",
      "6 * 3 = 18\n",
      "6 * 4 = 24\n",
      "6 * 5 = 30\n",
      "6 * 6 = 36\n",
      "6 * 7 = 42\n",
      "6 * 8 = 48\n",
      "6 * 9 = 54\n",
      "7 단\n",
      "7 * 1 = 7\n",
      "7 * 2 = 14\n",
      "7 * 3 = 21\n",
      "7 * 4 = 28\n",
      "7 * 5 = 35\n",
      "7 * 6 = 42\n",
      "7 * 7 = 49\n",
      "7 * 8 = 56\n",
      "7 * 9 = 63\n",
      "8 단\n",
      "8 * 1 = 8\n",
      "8 * 2 = 16\n",
      "8 * 3 = 24\n",
      "8 * 4 = 32\n",
      "8 * 5 = 40\n",
      "8 * 6 = 48\n",
      "8 * 7 = 56\n",
      "8 * 8 = 64\n",
      "8 * 9 = 72\n",
      "9 단\n",
      "9 * 1 = 9\n",
      "9 * 2 = 18\n",
      "9 * 3 = 27\n",
      "9 * 4 = 36\n",
      "9 * 5 = 45\n",
      "9 * 6 = 54\n",
      "9 * 7 = 63\n",
      "9 * 8 = 72\n",
      "9 * 9 = 81\n"
     ]
    }
   ],
   "source": [
    "#반복문 구구단\n",
    "def gugudan(number):\n",
    "    total=1\n",
    "    for i in range(2,10):\n",
    "        print(i,\"단\")\n",
    "        for k in range(1,10):\n",
    "            print(i,'*',k,'=',i*k)\n",
    "gugudan(9)            "
   ]
  },
  {
   "cell_type": "code",
   "execution_count": 2,
   "id": "86ef17e8",
   "metadata": {},
   "outputs": [
    {
     "name": "stdout",
     "output_type": "stream",
     "text": [
      "2 * 1 = 2\n",
      "2 * 2 = 4\n",
      "2 * 3 = 6\n",
      "2 * 4 = 8\n",
      "2 * 5 = 10\n",
      "2 * 6 = 12\n",
      "2 * 7 = 14\n",
      "2 * 8 = 16\n",
      "2 * 9 = 18\n",
      "3 * 1 = 3\n",
      "3 * 2 = 6\n",
      "3 * 3 = 9\n",
      "3 * 4 = 12\n",
      "3 * 5 = 15\n",
      "3 * 6 = 18\n",
      "3 * 7 = 21\n",
      "3 * 8 = 24\n",
      "3 * 9 = 27\n",
      "4 * 1 = 4\n",
      "4 * 2 = 8\n",
      "4 * 3 = 12\n",
      "4 * 4 = 16\n",
      "4 * 5 = 20\n",
      "4 * 6 = 24\n",
      "4 * 7 = 28\n",
      "4 * 8 = 32\n",
      "4 * 9 = 36\n",
      "5 * 1 = 5\n",
      "5 * 2 = 10\n",
      "5 * 3 = 15\n",
      "5 * 4 = 20\n",
      "5 * 5 = 25\n",
      "5 * 6 = 30\n",
      "5 * 7 = 35\n",
      "5 * 8 = 40\n",
      "5 * 9 = 45\n",
      "6 * 1 = 6\n",
      "6 * 2 = 12\n",
      "6 * 3 = 18\n",
      "6 * 4 = 24\n",
      "6 * 5 = 30\n",
      "6 * 6 = 36\n",
      "6 * 7 = 42\n",
      "6 * 8 = 48\n",
      "6 * 9 = 54\n",
      "7 * 1 = 7\n",
      "7 * 2 = 14\n",
      "7 * 3 = 21\n",
      "7 * 4 = 28\n",
      "7 * 5 = 35\n",
      "7 * 6 = 42\n",
      "7 * 7 = 49\n",
      "7 * 8 = 56\n",
      "7 * 9 = 63\n",
      "8 * 1 = 8\n",
      "8 * 2 = 16\n",
      "8 * 3 = 24\n",
      "8 * 4 = 32\n",
      "8 * 5 = 40\n",
      "8 * 6 = 48\n",
      "8 * 7 = 56\n",
      "8 * 8 = 64\n",
      "8 * 9 = 72\n",
      "9 * 1 = 9\n",
      "9 * 2 = 18\n",
      "9 * 3 = 27\n",
      "9 * 4 = 36\n",
      "9 * 5 = 45\n",
      "9 * 6 = 54\n",
      "9 * 7 = 63\n",
      "9 * 8 = 72\n",
      "9 * 9 = 81\n"
     ]
    }
   ],
   "source": [
    "def gugu(dan,i):\n",
    "    print(dan,'*',i,'=',dan*i)\n",
    "    if(i>=9):\n",
    "        return\n",
    "    gugu(dan,i+1)\n",
    "    \n",
    "for dan in range(2,10):\n",
    "    gugu(dan,1)"
   ]
  },
  {
   "cell_type": "code",
   "execution_count": null,
   "id": "8f94cc04",
   "metadata": {},
   "outputs": [],
   "source": [
    "def gugu(dan, i):\n",
    "    print(dan, '*', i, '=', dan*i)\n",
    "    if i >= 9:\n",
    "        return \n",
    "    gugu(dan, i+1)\n",
    "\n",
    "for dan in range(2, 10):\n",
    "    print('----%d단----'%dan)\n",
    "    gugu(dan, 1) "
   ]
  }
 ],
 "metadata": {
  "kernelspec": {
   "display_name": "Python 3 (ipykernel)",
   "language": "python",
   "name": "python3"
  },
  "language_info": {
   "codemirror_mode": {
    "name": "ipython",
    "version": 3
   },
   "file_extension": ".py",
   "mimetype": "text/x-python",
   "name": "python",
   "nbconvert_exporter": "python",
   "pygments_lexer": "ipython3",
   "version": "3.9.13"
  }
 },
 "nbformat": 4,
 "nbformat_minor": 5
}
