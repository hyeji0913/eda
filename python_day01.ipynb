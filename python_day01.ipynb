{
 "cells": [
  {
   "cell_type": "markdown",
   "id": "8d7aaa5a",
   "metadata": {},
   "source": [
    "# 많이 사용하는 단축키"
   ]
  },
  {
   "cell_type": "markdown",
   "id": "712503a3",
   "metadata": {},
   "source": [
    "- shift+enter: 실행\n",
    "- alt+enter: 실행 후 셀 추가\n",
    "- a: 위로 추가\n",
    "- b: 아래로 추가\n",
    "- m: 마크다운 모드로 변경\n",
    "- y: 코드 모드로 변경\n",
    "- x: 셀 삭제\n",
    "- dd: 셀 삭제\n",
    "- ctrl+shft+- : 커서 위치한곳에서 셀이 나뉨\n",
    "- shift+M : 선택된 셀들이 병합\n",
    "- esc: 에디터모드에서 셀포커스 모드로 전환"
   ]
  },
  {
   "cell_type": "markdown",
   "id": "692437f6",
   "metadata": {},
   "source": [
    "# python code 실행"
   ]
  },
  {
   "cell_type": "markdown",
   "id": "6c8c8fff",
   "metadata": {},
   "source": [
    "**프로그램 실행 방법 #1**"
   ]
  },
  {
   "cell_type": "code",
   "execution_count": 2,
   "id": "8004f82d",
   "metadata": {},
   "outputs": [
    {
     "name": "stdout",
     "output_type": "stream",
     "text": [
      "Hello world\n"
     ]
    }
   ],
   "source": [
    "print(\"Hello world\")"
   ]
  },
  {
   "cell_type": "markdown",
   "id": "26617940",
   "metadata": {},
   "source": [
    "**프로그램 실행 방법 #2**"
   ]
  },
  {
   "cell_type": "code",
   "execution_count": null,
   "id": "1b310517",
   "metadata": {},
   "outputs": [],
   "source": [
    "cmd 창에서 hello.py 하기"
   ]
  },
  {
   "cell_type": "markdown",
   "id": "04a4ae59",
   "metadata": {},
   "source": [
    "**프로그램 실행 방법 #3**"
   ]
  },
  {
   "cell_type": "code",
   "execution_count": null,
   "id": "b690e865",
   "metadata": {},
   "outputs": [],
   "source": [
    "%run hello.py"
   ]
  },
  {
   "cell_type": "markdown",
   "id": "b3716961",
   "metadata": {},
   "source": [
    "# Markdown language"
   ]
  },
  {
   "cell_type": "code",
   "execution_count": 8,
   "id": "03020fe5",
   "metadata": {},
   "outputs": [
    {
     "data": {
      "image/jpeg": "[encoded data removed]",
      "text/plain": [
       "<IPython.core.display.Image object>"
      ]
     },
     "execution_count": 8,
     "metadata": {},
     "output_type": "execute_result"
    }
   ],
   "source": [
    "from IPython.display import Image\n",
    "Image('python.jpg')"
   ]
  },
  {
   "cell_type": "markdown",
   "id": "86425a6f",
   "metadata": {},
   "source": [
    "# 탭 완성 기능"
   ]
  },
  {
   "cell_type": "code",
   "execution_count": 11,
   "id": "b3af1cfd",
   "metadata": {},
   "outputs": [],
   "source": [
    "an_apple = 1"
   ]
  },
  {
   "cell_type": "code",
   "execution_count": 13,
   "id": "bdc0572a",
   "metadata": {},
   "outputs": [
    {
     "data": {
      "text/plain": [
       "(1, int)"
      ]
     },
     "execution_count": 13,
     "metadata": {},
     "output_type": "execute_result"
    }
   ],
   "source": [
    "an_apple, type(an_apple)"
   ]
  },
  {
   "cell_type": "code",
   "execution_count": 14,
   "id": "c9924f40",
   "metadata": {},
   "outputs": [],
   "source": [
    "#python list 자료형\n",
    "#변수명=[자료1,자료2,자료3]\n",
    "\n",
    "score=[90,100,85]"
   ]
  },
  {
   "cell_type": "code",
   "execution_count": 15,
   "id": "3994255c",
   "metadata": {},
   "outputs": [
    {
     "data": {
      "text/plain": [
       "[90, 100, 85]"
      ]
     },
     "execution_count": 15,
     "metadata": {},
     "output_type": "execute_result"
    }
   ],
   "source": [
    "score"
   ]
  },
  {
   "cell_type": "code",
   "execution_count": 16,
   "id": "42d83536",
   "metadata": {},
   "outputs": [
    {
     "data": {
      "text/plain": [
       "list"
      ]
     },
     "execution_count": 16,
     "metadata": {},
     "output_type": "execute_result"
    }
   ],
   "source": [
    "type(score)"
   ]
  },
  {
   "cell_type": "code",
   "execution_count": null,
   "id": "311ce4d4",
   "metadata": {},
   "outputs": [],
   "source": [
    "score.<탭키> #score 객체에서 제공하는 메소드(함수) 리스트를 볼 수 있음"
   ]
  },
  {
   "cell_type": "markdown",
   "id": "4dc338ea",
   "metadata": {},
   "source": [
    "# 도움말"
   ]
  },
  {
   "cell_type": "code",
   "execution_count": 19,
   "id": "f52efbef",
   "metadata": {},
   "outputs": [],
   "source": [
    "score?"
   ]
  },
  {
   "cell_type": "code",
   "execution_count": 20,
   "id": "61650a2f",
   "metadata": {},
   "outputs": [],
   "source": [
    "?score"
   ]
  },
  {
   "cell_type": "code",
   "execution_count": 21,
   "id": "3fd7becf",
   "metadata": {},
   "outputs": [],
   "source": [
    "print?"
   ]
  },
  {
   "cell_type": "markdown",
   "id": "90b374a3",
   "metadata": {},
   "source": [
    "```\n",
    "# 내가 만든 함수\n",
    "\n",
    "#1.함수에 대한 정의\n",
    "def 함수이름(a,b):\n",
    "    c=(a+b)/2\n",
    "    return c\n",
    "#2.함수를 호출\n",
    "함수이름(90, 100)\n",
    "\n",
    "```"
   ]
  },
  {
   "cell_type": "code",
   "execution_count": 26,
   "id": "3774440c",
   "metadata": {},
   "outputs": [],
   "source": [
    "def mean_korean(a,b):\n",
    "    \"\"\"\n",
    "    return mean of a and b\n",
    "    \"\"\"\n",
    "    c=(a+b)/2\n",
    "    return c"
   ]
  },
  {
   "cell_type": "code",
   "execution_count": 27,
   "id": "aae07181",
   "metadata": {},
   "outputs": [
    {
     "data": {
      "text/plain": [
       "90.0"
      ]
     },
     "execution_count": 27,
     "metadata": {},
     "output_type": "execute_result"
    }
   ],
   "source": [
    "result=mean_korean(100,80)\n",
    "result"
   ]
  },
  {
   "cell_type": "code",
   "execution_count": 29,
   "id": "6af95fa6",
   "metadata": {},
   "outputs": [],
   "source": [
    "mean_korean??"
   ]
  },
  {
   "cell_type": "markdown",
   "id": "f8c6f0b4",
   "metadata": {},
   "source": [
    "# 매직명령어"
   ]
  },
  {
   "cell_type": "code",
   "execution_count": 31,
   "id": "30f4d34c",
   "metadata": {},
   "outputs": [],
   "source": [
    "%run hello.py #python script 실행"
   ]
  },
  {
   "cell_type": "code",
   "execution_count": 32,
   "id": "890da3ea",
   "metadata": {},
   "outputs": [
    {
     "data": {
      "text/plain": [
       "'C:\\\\Users\\\\Playdata\\\\Documents\\\\hj'"
      ]
     },
     "execution_count": 32,
     "metadata": {},
     "output_type": "execute_result"
    }
   ],
   "source": [
    "%pwd"
   ]
  },
  {
   "cell_type": "code",
   "execution_count": null,
   "id": "fa8b3190",
   "metadata": {},
   "outputs": [],
   "source": [
    "# %load hello.py\n"
   ]
  },
  {
   "cell_type": "code",
   "execution_count": 41,
   "id": "a0a2e53d",
   "metadata": {},
   "outputs": [],
   "source": [
    "a=2\n",
    "b=3"
   ]
  },
  {
   "cell_type": "code",
   "execution_count": 42,
   "id": "836933ff",
   "metadata": {},
   "outputs": [
    {
     "name": "stdout",
     "output_type": "stream",
     "text": [
      "Wall time: 0 ns\n"
     ]
    }
   ],
   "source": [
    "%time c=a+b"
   ]
  },
  {
   "cell_type": "code",
   "execution_count": 44,
   "id": "d5edd3e0",
   "metadata": {},
   "outputs": [
    {
     "name": "stdout",
     "output_type": "stream",
     "text": [
      "36.8 ns ± 0.553 ns per loop (mean ± std. dev. of 7 runs, 10000000 loops each)\n"
     ]
    }
   ],
   "source": [
    "%timeit c = a+b"
   ]
  },
  {
   "cell_type": "markdown",
   "id": "051964c2",
   "metadata": {},
   "source": [
    "# 기본문법"
   ]
  },
  {
   "cell_type": "code",
   "execution_count": 49,
   "id": "2c05d9b2",
   "metadata": {},
   "outputs": [],
   "source": [
    "#파이썬의 타입(자료형)은 미리 지정이 되어있지 않음\n",
    "#입력되는 데이터의 종류에 따라 결정\n",
    "a=3;b='b' #한줄에 여러 문장을 작성할때는 세미콜론 사용"
   ]
  },
  {
   "cell_type": "code",
   "execution_count": 50,
   "id": "8981efb9",
   "metadata": {},
   "outputs": [
    {
     "data": {
      "text/plain": [
       "int"
      ]
     },
     "execution_count": 50,
     "metadata": {},
     "output_type": "execute_result"
    }
   ],
   "source": [
    "type(a)"
   ]
  },
  {
   "cell_type": "code",
   "execution_count": 51,
   "id": "496904c2",
   "metadata": {},
   "outputs": [
    {
     "data": {
      "text/plain": [
       "str"
      ]
     },
     "execution_count": 51,
     "metadata": {},
     "output_type": "execute_result"
    }
   ],
   "source": [
    "type(b)"
   ]
  },
  {
   "cell_type": "code",
   "execution_count": 56,
   "id": "c602c076",
   "metadata": {},
   "outputs": [
    {
     "name": "stdout",
     "output_type": "stream",
     "text": [
      "a에 2가 들어있음\n"
     ]
    }
   ],
   "source": [
    "#들여쓰기\n",
    "a=2\n",
    "if a ==2: #a가 2와 같다면\n",
    "    print(\"a에 2가 들어있음\")\n",
    "else:\n",
    "    print(\"a는 2가 아님\")\n",
    "    print(a)\n",
    "    print(\"프로그램 끝\")"
   ]
  },
  {
   "cell_type": "markdown",
   "id": "740b1ee3",
   "metadata": {},
   "source": [
    "# 숫자 계산하기"
   ]
  },
  {
   "cell_type": "code",
   "execution_count": 59,
   "id": "2e76a16c",
   "metadata": {},
   "outputs": [
    {
     "data": {
      "text/plain": [
       "2"
      ]
     },
     "execution_count": 59,
     "metadata": {},
     "output_type": "execute_result"
    }
   ],
   "source": [
    "1+1"
   ]
  },
  {
   "cell_type": "code",
   "execution_count": 60,
   "id": "be88b910",
   "metadata": {},
   "outputs": [
    {
     "data": {
      "text/plain": [
       "6"
      ]
     },
     "execution_count": 60,
     "metadata": {},
     "output_type": "execute_result"
    }
   ],
   "source": [
    "2*3"
   ]
  },
  {
   "cell_type": "code",
   "execution_count": 61,
   "id": "c540b3bf",
   "metadata": {},
   "outputs": [
    {
     "data": {
      "text/plain": [
       "2.0"
      ]
     },
     "execution_count": 61,
     "metadata": {},
     "output_type": "execute_result"
    }
   ],
   "source": [
    "4/2"
   ]
  },
  {
   "cell_type": "code",
   "execution_count": 63,
   "id": "5c166131",
   "metadata": {},
   "outputs": [
    {
     "data": {
      "text/plain": [
       "2"
      ]
     },
     "execution_count": 63,
     "metadata": {},
     "output_type": "execute_result"
    }
   ],
   "source": [
    "5//2"
   ]
  },
  {
   "cell_type": "code",
   "execution_count": 64,
   "id": "65737868",
   "metadata": {},
   "outputs": [
    {
     "data": {
      "text/plain": [
       "1"
      ]
     },
     "execution_count": 64,
     "metadata": {},
     "output_type": "execute_result"
    }
   ],
   "source": [
    "5%2"
   ]
  },
  {
   "cell_type": "code",
   "execution_count": 65,
   "id": "916783f0",
   "metadata": {},
   "outputs": [
    {
     "data": {
      "text/plain": [
       "1024"
      ]
     },
     "execution_count": 65,
     "metadata": {},
     "output_type": "execute_result"
    }
   ],
   "source": [
    "2**10"
   ]
  },
  {
   "cell_type": "code",
   "execution_count": 69,
   "id": "cf58aebe",
   "metadata": {},
   "outputs": [
    {
     "name": "stdout",
     "output_type": "stream",
     "text": [
      "2\n"
     ]
    }
   ],
   "source": [
    "a=2\n",
    "print(a)"
   ]
  },
  {
   "cell_type": "code",
   "execution_count": 70,
   "id": "54c423d7",
   "metadata": {},
   "outputs": [
    {
     "name": "stdout",
     "output_type": "stream",
     "text": [
      "<class 'float'>\n"
     ]
    }
   ],
   "source": [
    "b=2.3\n",
    "print(type(b))"
   ]
  },
  {
   "cell_type": "code",
   "execution_count": 71,
   "id": "36394883",
   "metadata": {},
   "outputs": [
    {
     "data": {
      "text/plain": [
       "2.0"
      ]
     },
     "execution_count": 71,
     "metadata": {},
     "output_type": "execute_result"
    }
   ],
   "source": [
    "#자료형 변환(type casting)\n",
    "float(a)"
   ]
  },
  {
   "cell_type": "code",
   "execution_count": 72,
   "id": "2e2da2b0",
   "metadata": {},
   "outputs": [
    {
     "name": "stdout",
     "output_type": "stream",
     "text": [
      "<class 'int'>\n"
     ]
    }
   ],
   "source": [
    "#b : float 형 -> int 형\n",
    "d=int(b)\n",
    "print(type(d))"
   ]
  },
  {
   "cell_type": "code",
   "execution_count": 73,
   "id": "ab26cda7",
   "metadata": {},
   "outputs": [],
   "source": [
    "s='10'"
   ]
  },
  {
   "cell_type": "code",
   "execution_count": 74,
   "id": "ed744291",
   "metadata": {},
   "outputs": [
    {
     "name": "stdout",
     "output_type": "stream",
     "text": [
      "<class 'str'>\n"
     ]
    }
   ],
   "source": [
    "print(type(s))"
   ]
  },
  {
   "cell_type": "code",
   "execution_count": 75,
   "id": "664f0794",
   "metadata": {},
   "outputs": [
    {
     "name": "stdout",
     "output_type": "stream",
     "text": [
      "<class 'int'>\n"
     ]
    }
   ],
   "source": [
    "i = int(s)\n",
    "print(type(i))"
   ]
  },
  {
   "cell_type": "code",
   "execution_count": null,
   "id": "27bddb4d",
   "metadata": {},
   "outputs": [],
   "source": [
    "xxx = yyyy #오른쪽에 있는 값을 왼쪽으로 할당\n",
    "xxx == yyyy #오른쪽값과 왼쪽값이 같은지 비교"
   ]
  },
  {
   "cell_type": "code",
   "execution_count": 77,
   "id": "e725a451",
   "metadata": {},
   "outputs": [],
   "source": [
    "#영문자와 숫자를 함께 사용한 변수\n",
    "a1 = 4"
   ]
  },
  {
   "cell_type": "code",
   "execution_count": 78,
   "id": "330f5548",
   "metadata": {},
   "outputs": [],
   "source": [
    "A1 = 10"
   ]
  },
  {
   "cell_type": "code",
   "execution_count": 79,
   "id": "9ae8ef60",
   "metadata": {},
   "outputs": [
    {
     "data": {
      "text/plain": [
       "False"
      ]
     },
     "execution_count": 79,
     "metadata": {},
     "output_type": "execute_result"
    }
   ],
   "source": [
    "#대소문자 구분\n",
    "a1 == A1"
   ]
  },
  {
   "cell_type": "code",
   "execution_count": 81,
   "id": "d8fb3ba3",
   "metadata": {},
   "outputs": [],
   "source": [
    "_a = 10"
   ]
  },
  {
   "cell_type": "code",
   "execution_count": null,
   "id": "d896fb2f",
   "metadata": {},
   "outputs": [],
   "source": [
    "#특수문자(+,-,/,$,@,%)는 변수에 사용할 수 없음"
   ]
  },
  {
   "cell_type": "code",
   "execution_count": null,
   "id": "528d47ae",
   "metadata": {},
   "outputs": [],
   "source": [
    "#파이썬에 이미 예약된 키워드는 사용할 수 없음(if,for,while,and,or,str)"
   ]
  },
  {
   "cell_type": "code",
   "execution_count": 82,
   "id": "6cbdde30",
   "metadata": {},
   "outputs": [],
   "source": [
    "a =2\n",
    "b=3"
   ]
  },
  {
   "cell_type": "code",
   "execution_count": 83,
   "id": "ee2bd1f3",
   "metadata": {},
   "outputs": [],
   "source": [
    "#a와 b를 바꾸고 싶을 때\n",
    "temp =a\n",
    "a=b\n",
    "b=temp"
   ]
  },
  {
   "cell_type": "code",
   "execution_count": 84,
   "id": "2059bd56",
   "metadata": {},
   "outputs": [
    {
     "data": {
      "text/plain": [
       "(3, 2)"
      ]
     },
     "execution_count": 84,
     "metadata": {},
     "output_type": "execute_result"
    }
   ],
   "source": [
    "a,b"
   ]
  },
  {
   "cell_type": "code",
   "execution_count": 85,
   "id": "20e9c62f",
   "metadata": {},
   "outputs": [],
   "source": [
    "#a와 b를 맞바꿈\n",
    "a,b=b,a"
   ]
  },
  {
   "cell_type": "code",
   "execution_count": 86,
   "id": "6f66d626",
   "metadata": {},
   "outputs": [
    {
     "data": {
      "text/plain": [
       "(2, 3)"
      ]
     },
     "execution_count": 86,
     "metadata": {},
     "output_type": "execute_result"
    }
   ],
   "source": [
    "a,b"
   ]
  },
  {
   "cell_type": "code",
   "execution_count": 87,
   "id": "fead6eb3",
   "metadata": {},
   "outputs": [
    {
     "ename": "ValueError",
     "evalue": "not enough values to unpack (expected 3, got 2)",
     "output_type": "error",
     "traceback": [
      "\u001b[1;31m---------------------------------------------------------------------------\u001b[0m",
      "\u001b[1;31mValueError\u001b[0m                                Traceback (most recent call last)",
      "\u001b[1;32m~\\AppData\\Local\\Temp\\ipykernel_13908\\826325149.py\u001b[0m in \u001b[0;36m<module>\u001b[1;34m\u001b[0m\n\u001b[1;32m----> 1\u001b[1;33m \u001b[0ma\u001b[0m\u001b[1;33m,\u001b[0m\u001b[0mb\u001b[0m\u001b[1;33m,\u001b[0m\u001b[0mc\u001b[0m \u001b[1;33m=\u001b[0m \u001b[1;36m10\u001b[0m\u001b[1;33m,\u001b[0m\u001b[1;36m20\u001b[0m\u001b[1;33m\u001b[0m\u001b[1;33m\u001b[0m\u001b[0m\n\u001b[0m",
      "\u001b[1;31mValueError\u001b[0m: not enough values to unpack (expected 3, got 2)"
     ]
    }
   ],
   "source": [
    "#할당할 값의 수를 맞출것\n",
    "a,b,c = 10,20"
   ]
  },
  {
   "cell_type": "code",
   "execution_count": 88,
   "id": "5cef984c",
   "metadata": {},
   "outputs": [],
   "source": [
    "del a"
   ]
  },
  {
   "cell_type": "code",
   "execution_count": 89,
   "id": "866e5e8d",
   "metadata": {},
   "outputs": [
    {
     "ename": "NameError",
     "evalue": "name 'a' is not defined",
     "output_type": "error",
     "traceback": [
      "\u001b[1;31m---------------------------------------------------------------------------\u001b[0m",
      "\u001b[1;31mNameError\u001b[0m                                 Traceback (most recent call last)",
      "\u001b[1;32m~\\AppData\\Local\\Temp\\ipykernel_13908\\2167009006.py\u001b[0m in \u001b[0;36m<module>\u001b[1;34m\u001b[0m\n\u001b[1;32m----> 1\u001b[1;33m \u001b[0ma\u001b[0m\u001b[1;33m\u001b[0m\u001b[1;33m\u001b[0m\u001b[0m\n\u001b[0m",
      "\u001b[1;31mNameError\u001b[0m: name 'a' is not defined"
     ]
    }
   ],
   "source": [
    "a"
   ]
  },
  {
   "cell_type": "code",
   "execution_count": 91,
   "id": "817baea8",
   "metadata": {},
   "outputs": [],
   "source": [
    "x=None"
   ]
  },
  {
   "cell_type": "code",
   "execution_count": 92,
   "id": "f8549151",
   "metadata": {},
   "outputs": [
    {
     "name": "stdout",
     "output_type": "stream",
     "text": [
      "<class 'NoneType'>\n"
     ]
    }
   ],
   "source": [
    "print(type(x))"
   ]
  },
  {
   "cell_type": "code",
   "execution_count": 93,
   "id": "50e91e13",
   "metadata": {},
   "outputs": [
    {
     "data": {
      "text/plain": [
       "20"
      ]
     },
     "execution_count": 93,
     "metadata": {},
     "output_type": "execute_result"
    }
   ],
   "source": [
    "a = 10\n",
    "a = a+10\n",
    "a"
   ]
  },
  {
   "cell_type": "code",
   "execution_count": 94,
   "id": "3381a915",
   "metadata": {},
   "outputs": [],
   "source": [
    "a=10\n",
    "a+=10"
   ]
  },
  {
   "cell_type": "code",
   "execution_count": 95,
   "id": "ae331284",
   "metadata": {},
   "outputs": [
    {
     "data": {
      "text/plain": [
       "20"
      ]
     },
     "execution_count": 95,
     "metadata": {},
     "output_type": "execute_result"
    }
   ],
   "source": [
    "a"
   ]
  },
  {
   "cell_type": "code",
   "execution_count": 96,
   "id": "7e739b1a",
   "metadata": {},
   "outputs": [],
   "source": [
    "a=10\n",
    "a-=10 #a=a-10"
   ]
  },
  {
   "cell_type": "markdown",
   "id": "df64dc7c",
   "metadata": {},
   "source": [
    "# Workshop"
   ]
  },
  {
   "cell_type": "code",
   "execution_count": 103,
   "id": "29abf967",
   "metadata": {},
   "outputs": [
    {
     "data": {
      "text/plain": [
       "(1.0, -2.0)"
      ]
     },
     "execution_count": 103,
     "metadata": {},
     "output_type": "execute_result"
    }
   ],
   "source": [
    "a=1;b=1;c=-2\n",
    "x1=(-b+(b**2-4*a*c)**0.5)/2*a\n",
    "x2=(-b-(b**2-4*a*c)**0.5)/2*a\n",
    "x1,x2"
   ]
  },
  {
   "cell_type": "code",
   "execution_count": 101,
   "id": "750c0fa3",
   "metadata": {},
   "outputs": [
    {
     "data": {
      "text/plain": [
       "7"
      ]
     },
     "execution_count": 101,
     "metadata": {},
     "output_type": "execute_result"
    }
   ],
   "source": [
    "int(0.2467*12+4.159)"
   ]
  },
  {
   "cell_type": "markdown",
   "id": "3abf270a",
   "metadata": {},
   "source": [
    "# 입력값을 변수에 저장하기"
   ]
  },
  {
   "cell_type": "code",
   "execution_count": 1,
   "id": "63e0a3a6",
   "metadata": {},
   "outputs": [
    {
     "name": "stdout",
     "output_type": "stream",
     "text": [
      "10\n"
     ]
    }
   ],
   "source": [
    "a = input()"
   ]
  },
  {
   "cell_type": "code",
   "execution_count": 2,
   "id": "cd8ac572",
   "metadata": {},
   "outputs": [
    {
     "data": {
      "text/plain": [
       "'10'"
      ]
     },
     "execution_count": 2,
     "metadata": {},
     "output_type": "execute_result"
    }
   ],
   "source": [
    "a"
   ]
  },
  {
   "cell_type": "code",
   "execution_count": 3,
   "id": "883b7e7a",
   "metadata": {},
   "outputs": [
    {
     "name": "stdout",
     "output_type": "stream",
     "text": [
      "숫자만 입력해주세요10\n",
      "숫자만 입력해주세요20\n"
     ]
    }
   ],
   "source": [
    "a=input(prompt=\"숫자만 입력해주세요\")\n",
    "b=input(prompt=\"숫자만 입력해주세요\")"
   ]
  },
  {
   "cell_type": "code",
   "execution_count": 4,
   "id": "7370d4af",
   "metadata": {},
   "outputs": [
    {
     "data": {
      "text/plain": [
       "('10', '20')"
      ]
     },
     "execution_count": 4,
     "metadata": {},
     "output_type": "execute_result"
    }
   ],
   "source": [
    "a,b"
   ]
  },
  {
   "cell_type": "code",
   "execution_count": 5,
   "id": "702d20be",
   "metadata": {},
   "outputs": [
    {
     "data": {
      "text/plain": [
       "30"
      ]
     },
     "execution_count": 5,
     "metadata": {},
     "output_type": "execute_result"
    }
   ],
   "source": [
    "int(a)+int(b)"
   ]
  },
  {
   "cell_type": "code",
   "execution_count": 6,
   "id": "14d8dbcf",
   "metadata": {},
   "outputs": [
    {
     "name": "stdout",
     "output_type": "stream",
     "text": [
      "열개의 숫자를 입력하세요10 20 30 40 50 60 70 80 90 100\n"
     ]
    }
   ],
   "source": [
    "ten_no = input(\"열개의 숫자를 입력하세요\")"
   ]
  },
  {
   "cell_type": "code",
   "execution_count": 11,
   "id": "30928fc6",
   "metadata": {},
   "outputs": [],
   "source": [
    "#문자열에서 제공하는 split() 함수는 whitespace를 기준으로 나눈 결과를 리스트로반환\n",
    "ten_no_list = ten_no.split()"
   ]
  },
  {
   "cell_type": "code",
   "execution_count": 9,
   "id": "313c2f44",
   "metadata": {},
   "outputs": [
    {
     "data": {
      "text/plain": [
       "['abc', 'def']"
      ]
     },
     "execution_count": 9,
     "metadata": {},
     "output_type": "execute_result"
    }
   ],
   "source": [
    "s='abc-def'\n",
    "s.split('-')"
   ]
  },
  {
   "cell_type": "code",
   "execution_count": 15,
   "id": "92dafef5",
   "metadata": {},
   "outputs": [
    {
     "data": {
      "text/plain": [
       "[10, 20, 30, 40, 50, 60, 70, 80, 90, 100]"
      ]
     },
     "execution_count": 15,
     "metadata": {},
     "output_type": "execute_result"
    }
   ],
   "source": [
    "#map()\n",
    "#map(적용하고자 하는 함수, 리스트(시퀀스객체))\n",
    "list(map(int, ten_no_list))#list 형태로 unpacking"
   ]
  },
  {
   "cell_type": "code",
   "execution_count": 16,
   "id": "0a8e7be3",
   "metadata": {},
   "outputs": [
    {
     "name": "stdout",
     "output_type": "stream",
     "text": [
      "숫자 두개를 입력하세요:10 20\n"
     ]
    }
   ],
   "source": [
    "#(1) 숫자 두개 입력\n",
    "two_no=input('숫자 두개를 입력하세요:')"
   ]
  },
  {
   "cell_type": "code",
   "execution_count": 18,
   "id": "5fdc3ae9",
   "metadata": {},
   "outputs": [],
   "source": [
    "two_no_list=two_no.split()"
   ]
  },
  {
   "cell_type": "code",
   "execution_count": 19,
   "id": "f90438d9",
   "metadata": {},
   "outputs": [
    {
     "data": {
      "text/plain": [
       "['10', '20']"
      ]
     },
     "execution_count": 19,
     "metadata": {},
     "output_type": "execute_result"
    }
   ],
   "source": [
    "two_no_list"
   ]
  },
  {
   "cell_type": "code",
   "execution_count": 21,
   "id": "8ab610dc",
   "metadata": {},
   "outputs": [],
   "source": [
    "n1,n2 =list(map(int,two_no_list))"
   ]
  },
  {
   "cell_type": "code",
   "execution_count": 22,
   "id": "49674ca4",
   "metadata": {},
   "outputs": [
    {
     "data": {
      "text/plain": [
       "(10, 20)"
      ]
     },
     "execution_count": 22,
     "metadata": {},
     "output_type": "execute_result"
    }
   ],
   "source": [
    "n1,n2"
   ]
  },
  {
   "cell_type": "markdown",
   "id": "e2051a4c",
   "metadata": {},
   "source": [
    "# workshop"
   ]
  },
  {
   "cell_type": "code",
   "execution_count": 26,
   "id": "cd7bba10",
   "metadata": {},
   "outputs": [
    {
     "name": "stdout",
     "output_type": "stream",
     "text": [
      "점수를 입력하세요:100 90 80 70\n"
     ]
    }
   ],
   "source": [
    "score=input(\"점수를 입력하세요:\")"
   ]
  },
  {
   "cell_type": "code",
   "execution_count": 27,
   "id": "bed32d21",
   "metadata": {},
   "outputs": [],
   "source": [
    "score_list =score.split()"
   ]
  },
  {
   "cell_type": "code",
   "execution_count": 29,
   "id": "c981fe8c",
   "metadata": {},
   "outputs": [],
   "source": [
    "n1,n2,n3,n4=list(map(int,score_list))"
   ]
  },
  {
   "cell_type": "code",
   "execution_count": 30,
   "id": "0af3fe02",
   "metadata": {},
   "outputs": [],
   "source": [
    "mean=(n1+n2+n3+n4)/4"
   ]
  },
  {
   "cell_type": "code",
   "execution_count": 31,
   "id": "d3478771",
   "metadata": {},
   "outputs": [
    {
     "data": {
      "text/plain": [
       "85.0"
      ]
     },
     "execution_count": 31,
     "metadata": {},
     "output_type": "execute_result"
    }
   ],
   "source": [
    "mean"
   ]
  },
  {
   "cell_type": "code",
   "execution_count": 33,
   "id": "8fdc06c4",
   "metadata": {},
   "outputs": [
    {
     "name": "stdout",
     "output_type": "stream",
     "text": [
      "점수를 입력하세요100 90 80 70\n"
     ]
    },
    {
     "data": {
      "text/plain": [
       "85.0"
      ]
     },
     "execution_count": 33,
     "metadata": {},
     "output_type": "execute_result"
    }
   ],
   "source": [
    "a,b,c,d = map(int,input(\"점수를 입력하세요\").split())\n",
    "(a+b+c+d)/4"
   ]
  },
  {
   "cell_type": "markdown",
   "id": "fe431067",
   "metadata": {},
   "source": [
    "# 출력 방법 알아보기"
   ]
  },
  {
   "cell_type": "markdown",
   "id": "3b9e7748",
   "metadata": {},
   "source": [
    "- print(값1,값2,값3,...,sep='문자'또는 '문자열')\n",
    "- print(변수1,변수2,변수3,..)"
   ]
  },
  {
   "cell_type": "code",
   "execution_count": 34,
   "id": "b1783016",
   "metadata": {},
   "outputs": [
    {
     "name": "stdout",
     "output_type": "stream",
     "text": [
      "100 90 80 70\n"
     ]
    }
   ],
   "source": [
    "print(a,b,c,d)"
   ]
  },
  {
   "cell_type": "code",
   "execution_count": 35,
   "id": "3f262e3d",
   "metadata": {},
   "outputs": [
    {
     "name": "stdout",
     "output_type": "stream",
     "text": [
      "1*2*3*4\n"
     ]
    }
   ],
   "source": [
    "print(1,2,3,4,sep='*')"
   ]
  },
  {
   "cell_type": "code",
   "execution_count": 36,
   "id": "be4ee5f2",
   "metadata": {},
   "outputs": [
    {
     "name": "stdout",
     "output_type": "stream",
     "text": [
      "1 2 3 4 5 6 7 8\n"
     ]
    }
   ],
   "source": [
    "print(1,2,3,4,end=' ')\n",
    "print(5,6,7,8)"
   ]
  },
  {
   "cell_type": "markdown",
   "id": "54f5d433",
   "metadata": {},
   "source": [
    "# Workshop"
   ]
  },
  {
   "cell_type": "code",
   "execution_count": 46,
   "id": "5d4ab5cb",
   "metadata": {},
   "outputs": [
    {
     "name": "stdout",
     "output_type": "stream",
     "text": [
      "1 월 16 일\n"
     ]
    }
   ],
   "source": [
    "today = '2023/1/16'\n",
    "today_list =today.split('/')\n",
    "y,m,d =list(map(int,today_list))\n",
    "print(m,'월',d,'일')"
   ]
  },
  {
   "cell_type": "code",
   "execution_count": 47,
   "id": "da0fd253",
   "metadata": {},
   "outputs": [],
   "source": [
    "year=2023\n",
    "month=1\n",
    "day=16\n",
    "hour=16\n",
    "minute=2\n",
    "second=6"
   ]
  },
  {
   "cell_type": "code",
   "execution_count": 49,
   "id": "a3e6b4e9",
   "metadata": {},
   "outputs": [
    {
     "name": "stdout",
     "output_type": "stream",
     "text": [
      "2023/1/16  16:2:6\n"
     ]
    }
   ],
   "source": [
    "print(year,month,day,sep='/',end='  ')\n",
    "print(hour,minute,second,sep=':')"
   ]
  },
  {
   "cell_type": "code",
   "execution_count": 53,
   "id": "faf120f5",
   "metadata": {},
   "outputs": [
    {
     "name": "stdout",
     "output_type": "stream",
     "text": [
      "2023/1/16  16:02:06\n"
     ]
    }
   ],
   "source": [
    "#서식지정자\n",
    "print(year,month,day,sep='/',end='  ')\n",
    "print(hour,end=':')\n",
    "print('%02d'%minute,'%02d'%second,sep=':')"
   ]
  },
  {
   "cell_type": "code",
   "execution_count": 54,
   "id": "49e91567",
   "metadata": {},
   "outputs": [
    {
     "data": {
      "text/plain": [
       "False"
      ]
     },
     "execution_count": 54,
     "metadata": {},
     "output_type": "execute_result"
    }
   ],
   "source": [
    "a == '10'"
   ]
  },
  {
   "cell_type": "code",
   "execution_count": 55,
   "id": "13400f35",
   "metadata": {},
   "outputs": [
    {
     "data": {
      "text/plain": [
       "True"
      ]
     },
     "execution_count": 55,
     "metadata": {},
     "output_type": "execute_result"
    }
   ],
   "source": [
    "a != '10'"
   ]
  },
  {
   "cell_type": "code",
   "execution_count": 57,
   "id": "1ac2ea56",
   "metadata": {},
   "outputs": [
    {
     "data": {
      "text/plain": [
       "False"
      ]
     },
     "execution_count": 57,
     "metadata": {},
     "output_type": "execute_result"
    }
   ],
   "source": [
    "result = (a=='10')\n",
    "result"
   ]
  },
  {
   "cell_type": "code",
   "execution_count": 59,
   "id": "f1bf3ff2",
   "metadata": {},
   "outputs": [
    {
     "data": {
      "text/plain": [
       "bool"
      ]
     },
     "execution_count": 59,
     "metadata": {},
     "output_type": "execute_result"
    }
   ],
   "source": [
    "type(result) #boolean 타입"
   ]
  },
  {
   "cell_type": "code",
   "execution_count": 60,
   "id": "97f04dc2",
   "metadata": {},
   "outputs": [
    {
     "data": {
      "text/plain": [
       "True"
      ]
     },
     "execution_count": 60,
     "metadata": {},
     "output_type": "execute_result"
    }
   ],
   "source": [
    "1 == 1.0"
   ]
  },
  {
   "cell_type": "markdown",
   "id": "d7654d6c",
   "metadata": {},
   "source": [
    "# 논리 연산자\n",
    "- a and b\n",
    "- a  or b\n",
    "- not a"
   ]
  },
  {
   "cell_type": "code",
   "execution_count": 61,
   "id": "a23812ce",
   "metadata": {},
   "outputs": [
    {
     "data": {
      "text/plain": [
       "False"
      ]
     },
     "execution_count": 61,
     "metadata": {},
     "output_type": "execute_result"
    }
   ],
   "source": [
    "10 ==9"
   ]
  },
  {
   "cell_type": "code",
   "execution_count": 63,
   "id": "e60e0c8f",
   "metadata": {},
   "outputs": [
    {
     "data": {
      "text/plain": [
       "True"
      ]
     },
     "execution_count": 63,
     "metadata": {},
     "output_type": "execute_result"
    }
   ],
   "source": [
    "8 == 8"
   ]
  },
  {
   "cell_type": "markdown",
   "id": "d46b21a9",
   "metadata": {},
   "source": [
    "# workshop"
   ]
  },
  {
   "cell_type": "code",
   "execution_count": 66,
   "id": "bdeffc32",
   "metadata": {},
   "outputs": [
    {
     "data": {
      "text/plain": [
       "False"
      ]
     },
     "execution_count": 66,
     "metadata": {},
     "output_type": "execute_result"
    }
   ],
   "source": [
    "korean = 92\n",
    "english = 47\n",
    "math=86\n",
    "science = 81\n",
    "\n",
    "(korean>=50) and (english>=50) and (math>=50) and  (science>=50)"
   ]
  },
  {
   "cell_type": "markdown",
   "id": "2631c404",
   "metadata": {},
   "source": [
    "- all(),any()"
   ]
  },
  {
   "cell_type": "code",
   "execution_count": null,
   "id": "e8045f74",
   "metadata": {},
   "outputs": [],
   "source": [
    "#과목별 pass 여부를 list로 만들기\n",
    "all(불리안 결과 집합체)\n",
    "any(불리안 결과 집합체)"
   ]
  },
  {
   "cell_type": "code",
   "execution_count": null,
   "id": "c9c03119",
   "metadata": {},
   "outputs": [],
   "source": []
  }
 ],
 "metadata": {
  "kernelspec": {
   "display_name": "Python 3 (ipykernel)",
   "language": "python",
   "name": "python3"
  },
  "language_info": {
   "codemirror_mode": {
    "name": "ipython",
    "version": 3
   },
   "file_extension": ".py",
   "mimetype": "text/x-python",
   "name": "python",
   "nbconvert_exporter": "python",
   "pygments_lexer": "ipython3",
   "version": "3.9.13"
  }
 },
 "nbformat": 4,
 "nbformat_minor": 5
}
