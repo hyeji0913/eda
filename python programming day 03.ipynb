{
 "cells": [
  {
   "cell_type": "markdown",
   "id": "6fe31615",
   "metadata": {},
   "source": [
    "**알파벳별 빈도 사전 등록**\n",
    "- 다음의 주어진 문자열 s에서 알파벳 별 빈도를 사전형인 d에 등록하는 파이썬 코드블럭을 작성하시오.\n",
    "```\n",
    "s = ‘life is short, so python is easy.’\n",
    "punct = ‘,. ’\n",
    "d = {}\n",
    "결과 print(d) (순서는 상관 없음)\n",
    "{'a': 1, 'e': 2, 'f': 1, 'i': 3, 'h': 2, 'l': 1, 'o': 3, 'n': 1, 'p': 1, 's': 5, 'r': 1, 't': 2, 'y': 2}\n",
    "```"
   ]
  },
  {
   "cell_type": "code",
   "execution_count": 25,
   "id": "70ffcba2",
   "metadata": {},
   "outputs": [
    {
     "name": "stdout",
     "output_type": "stream",
     "text": [
      "{'l': 1, 'i': 3, 'f': 1, 'e': 2, 's': 5, 'h': 2, 'o': 3, 'r': 1, 't': 2, 'p': 1, 'y': 2, 'n': 1, 'a': 1}\n"
     ]
    }
   ],
   "source": [
    "\n",
    "s = 'life is short,so python is easy'\n",
    "d={}\n",
    "punct = ',. '\n",
    "for c in s:\n",
    "    if c in punct:\n",
    "        continue\n",
    "    if c not in d:\n",
    "        d[c]=1\n",
    "    else:\n",
    "        d[c] +=1\n",
    "print(d)"
   ]
  },
  {
   "cell_type": "code",
   "execution_count": 26,
   "id": "bdbfa3af",
   "metadata": {},
   "outputs": [],
   "source": [
    "from collections import Counter"
   ]
  },
  {
   "cell_type": "code",
   "execution_count": 27,
   "id": "105ae65b",
   "metadata": {},
   "outputs": [],
   "source": [
    "counter = Counter(s)"
   ]
  },
  {
   "cell_type": "code",
   "execution_count": 29,
   "id": "540fb458",
   "metadata": {},
   "outputs": [
    {
     "name": "stdout",
     "output_type": "stream",
     "text": [
      "Counter({' ': 5, 's': 5, 'i': 3, 'o': 3, 'e': 2, 'h': 2, 't': 2, 'y': 2, 'l': 1, 'f': 1, 'r': 1, ',': 1, 'p': 1, 'n': 1, 'a': 1})\n"
     ]
    }
   ],
   "source": [
    "print(counter)"
   ]
  },
  {
   "cell_type": "markdown",
   "id": "b421e8a1",
   "metadata": {},
   "source": [
    "# 중첩루프 사용하기"
   ]
  },
  {
   "cell_type": "code",
   "execution_count": 32,
   "id": "37654c88",
   "metadata": {},
   "outputs": [
    {
     "name": "stdout",
     "output_type": "stream",
     "text": [
      "*****\n",
      "*\n",
      "*\n",
      "*\n",
      "*\n",
      "*\n",
      "*****\n",
      "*\n",
      "*\n",
      "*\n",
      "*\n",
      "*\n",
      "*****\n",
      "*\n",
      "*\n",
      "*\n",
      "*\n",
      "*\n"
     ]
    }
   ],
   "source": [
    "for i in range(3):\n",
    "    print(\"*****\")\n",
    "    for j in range(5):\n",
    "        print('*')"
   ]
  },
  {
   "cell_type": "code",
   "execution_count": 38,
   "id": "4848448b",
   "metadata": {},
   "outputs": [
    {
     "name": "stdout",
     "output_type": "stream",
     "text": [
      "* \n",
      "** \n",
      "*** \n",
      "**** \n",
      "***** \n"
     ]
    }
   ],
   "source": [
    "#계단식 별 출력\n",
    "\n",
    "for i in range(5):\n",
    "    for j in range(i+1):\n",
    "        print('*',end='')\n",
    "    print(' ')"
   ]
  },
  {
   "cell_type": "code",
   "execution_count": 52,
   "id": "b1f3103d",
   "metadata": {},
   "outputs": [
    {
     "name": "stdout",
     "output_type": "stream",
     "text": [
      "***** \n",
      " **** \n",
      "  *** \n",
      "   ** \n",
      "    * \n"
     ]
    }
   ],
   "source": [
    "for i in range(5,0,-1):\n",
    "    for k in range(5-i):\n",
    "        print(' ',end='')\n",
    "    for j in range(i):\n",
    "        print('*',end='')\n",
    "    print(' ')\n",
    "    "
   ]
  },
  {
   "cell_type": "code",
   "execution_count": 54,
   "id": "f96984cb",
   "metadata": {},
   "outputs": [
    {
     "name": "stdout",
     "output_type": "stream",
     "text": [
      "     * \n",
      "    *** \n",
      "   ***** \n",
      "  ******* \n",
      " ********* \n"
     ]
    }
   ],
   "source": [
    "for i in range(5):\n",
    "    for k in range(5-i):\n",
    "        print(' ',end='')\n",
    "    for j in range(2*i+1):\n",
    "        print('*',end='')\n",
    "    print(' ')"
   ]
  },
  {
   "cell_type": "markdown",
   "id": "f3a2fddc",
   "metadata": {},
   "source": [
    "**FizzBuzz 문제**\n",
    "- 1에서 100까지 출력\n",
    "- 3의 배수는 Fizz 출력\n",
    "- 5의 배수는 Buzz 출력\n",
    "- 3과 5의 공배수는 FizzBuzz 출력\n",
    "\n",
    "\n"
   ]
  },
  {
   "cell_type": "code",
   "execution_count": 57,
   "id": "7df57e96",
   "metadata": {},
   "outputs": [
    {
     "name": "stdout",
     "output_type": "stream",
     "text": [
      "1\n",
      "2\n",
      "Fizz\n",
      "4\n",
      "Buzz\n",
      "Fizz\n",
      "7\n",
      "8\n",
      "Fizz\n",
      "Buzz\n",
      "11\n",
      "Fizz\n",
      "13\n",
      "14\n",
      "FizzBuzz\n",
      "16\n",
      "17\n",
      "Fizz\n",
      "19\n",
      "Buzz\n",
      "Fizz\n",
      "22\n",
      "23\n",
      "Fizz\n",
      "Buzz\n",
      "26\n",
      "Fizz\n",
      "28\n",
      "29\n",
      "FizzBuzz\n",
      "31\n",
      "32\n",
      "Fizz\n",
      "34\n",
      "Buzz\n",
      "Fizz\n",
      "37\n",
      "38\n",
      "Fizz\n",
      "Buzz\n",
      "41\n",
      "Fizz\n",
      "43\n",
      "44\n",
      "FizzBuzz\n",
      "46\n",
      "47\n",
      "Fizz\n",
      "49\n",
      "Buzz\n",
      "Fizz\n",
      "52\n",
      "53\n",
      "Fizz\n",
      "Buzz\n",
      "56\n",
      "Fizz\n",
      "58\n",
      "59\n",
      "FizzBuzz\n",
      "61\n",
      "62\n",
      "Fizz\n",
      "64\n",
      "Buzz\n",
      "Fizz\n",
      "67\n",
      "68\n",
      "Fizz\n",
      "Buzz\n",
      "71\n",
      "Fizz\n",
      "73\n",
      "74\n",
      "FizzBuzz\n",
      "76\n",
      "77\n",
      "Fizz\n",
      "79\n",
      "Buzz\n",
      "Fizz\n",
      "82\n",
      "83\n",
      "Fizz\n",
      "Buzz\n",
      "86\n",
      "Fizz\n",
      "88\n",
      "89\n",
      "FizzBuzz\n",
      "91\n",
      "92\n",
      "Fizz\n",
      "94\n",
      "Buzz\n",
      "Fizz\n",
      "97\n",
      "98\n",
      "Fizz\n"
     ]
    }
   ],
   "source": [
    "for i in range(1,100):\n",
    "    if(i%15==0):\n",
    "        print('FizzBuzz')\n",
    "    elif(i%5==0):\n",
    "        print('Buzz')\n",
    "    elif(i%3==0):\n",
    "        print('Fizz')\n",
    "    else:\n",
    "        print(i)"
   ]
  },
  {
   "cell_type": "markdown",
   "id": "94cec3ab",
   "metadata": {},
   "source": [
    "# 리스트 응용하기"
   ]
  },
  {
   "cell_type": "markdown",
   "id": "9b3f7043",
   "metadata": {},
   "source": [
    "- append: 요소 하나를 추가하기\n",
    "- extend: 리스트에 연결하여 확장\n",
    "- insert: 특정 인덱스에 요소 추가\n"
   ]
  },
  {
   "cell_type": "code",
   "execution_count": 58,
   "id": "4f28fa49",
   "metadata": {},
   "outputs": [],
   "source": [
    "a=[10,20,30]"
   ]
  },
  {
   "cell_type": "code",
   "execution_count": 59,
   "id": "782e7ee7",
   "metadata": {},
   "outputs": [],
   "source": [
    "a.append(500)"
   ]
  },
  {
   "cell_type": "code",
   "execution_count": 60,
   "id": "cedf69d8",
   "metadata": {},
   "outputs": [
    {
     "data": {
      "text/plain": [
       "[10, 20, 30, 500]"
      ]
     },
     "execution_count": 60,
     "metadata": {},
     "output_type": "execute_result"
    }
   ],
   "source": [
    "a"
   ]
  },
  {
   "cell_type": "code",
   "execution_count": 61,
   "id": "646438d6",
   "metadata": {},
   "outputs": [
    {
     "data": {
      "text/plain": [
       "[100]"
      ]
     },
     "execution_count": 61,
     "metadata": {},
     "output_type": "execute_result"
    }
   ],
   "source": [
    "a= []\n",
    "a.append(100)\n",
    "a"
   ]
  },
  {
   "cell_type": "code",
   "execution_count": 64,
   "id": "885b9df5",
   "metadata": {},
   "outputs": [],
   "source": [
    "a=[10,20,30]\n",
    "b=[40,50,60]"
   ]
  },
  {
   "cell_type": "code",
   "execution_count": 63,
   "id": "dc6024df",
   "metadata": {
    "scrolled": true
   },
   "outputs": [
    {
     "data": {
      "text/plain": [
       "[10, 20, 30, 40, 50, 60]"
      ]
     },
     "execution_count": 63,
     "metadata": {},
     "output_type": "execute_result"
    }
   ],
   "source": [
    "a.extend(b)\n",
    "a"
   ]
  },
  {
   "cell_type": "code",
   "execution_count": 65,
   "id": "7db3eb59",
   "metadata": {},
   "outputs": [
    {
     "data": {
      "text/plain": [
       "[10, 20, 30, 40, 50, 60]"
      ]
     },
     "execution_count": 65,
     "metadata": {},
     "output_type": "execute_result"
    }
   ],
   "source": [
    "a+b\n",
    "#extend 와 +의 차이점"
   ]
  },
  {
   "cell_type": "code",
   "execution_count": 66,
   "id": "215d30a5",
   "metadata": {},
   "outputs": [],
   "source": [
    "a.insert(1,1000)"
   ]
  },
  {
   "cell_type": "code",
   "execution_count": 67,
   "id": "f025ff59",
   "metadata": {},
   "outputs": [
    {
     "data": {
      "text/plain": [
       "[10, 1000, 20, 30]"
      ]
     },
     "execution_count": 67,
     "metadata": {},
     "output_type": "execute_result"
    }
   ],
   "source": [
    "a"
   ]
  },
  {
   "cell_type": "markdown",
   "id": "28735ca7",
   "metadata": {},
   "source": [
    "- a.insert(0,요소) : 맨첨에 요소 추가\n",
    "- a.insert(len,요소): 맨뒤에 요소 추가"
   ]
  },
  {
   "cell_type": "code",
   "execution_count": 69,
   "id": "9f2b0610",
   "metadata": {},
   "outputs": [],
   "source": [
    "a.insert(len(a),200)"
   ]
  },
  {
   "cell_type": "code",
   "execution_count": 72,
   "id": "53cff21e",
   "metadata": {},
   "outputs": [
    {
     "data": {
      "text/plain": [
       "[10, 1000, 20, 30, 200]"
      ]
     },
     "execution_count": 72,
     "metadata": {},
     "output_type": "execute_result"
    }
   ],
   "source": [
    "a"
   ]
  },
  {
   "cell_type": "code",
   "execution_count": 77,
   "id": "4e96006b",
   "metadata": {},
   "outputs": [
    {
     "data": {
      "text/plain": [
       "[10, 1000, 20, 30, 3000, 3000, 4000, 200]"
      ]
     },
     "execution_count": 77,
     "metadata": {},
     "output_type": "execute_result"
    }
   ],
   "source": [
    "a.insert(-1,4000)\n",
    "a"
   ]
  },
  {
   "cell_type": "markdown",
   "id": "b78535ec",
   "metadata": {},
   "source": [
    "- pop:마지막 요소 또는 특정  인덱스의 요소를 삭제\n",
    "- remove:특정 값을 찾아서  삭제"
   ]
  },
  {
   "cell_type": "code",
   "execution_count": 88,
   "id": "f07f4ec1",
   "metadata": {},
   "outputs": [
    {
     "data": {
      "text/plain": [
       "[10, 20, 30, 50, 60]"
      ]
     },
     "execution_count": 88,
     "metadata": {},
     "output_type": "execute_result"
    }
   ],
   "source": [
    "a=[10,20,30,40,50,60]\n",
    "a.pop(3)\n",
    "a"
   ]
  },
  {
   "cell_type": "code",
   "execution_count": 89,
   "id": "ca0ff719",
   "metadata": {},
   "outputs": [
    {
     "data": {
      "text/plain": [
       "60"
      ]
     },
     "execution_count": 89,
     "metadata": {},
     "output_type": "execute_result"
    }
   ],
   "source": [
    "result =a.pop()\n",
    "result"
   ]
  },
  {
   "cell_type": "code",
   "execution_count": 90,
   "id": "7a68ce90",
   "metadata": {},
   "outputs": [],
   "source": [
    "a\n",
    "a.remove(20)"
   ]
  },
  {
   "cell_type": "markdown",
   "id": "d7b404c0",
   "metadata": {},
   "source": [
    "- index(값):리스트에서 특정 값의 인덱스를 구함\n",
    "- count(값):리스트에서 특정 값의 개수를 구함"
   ]
  },
  {
   "cell_type": "code",
   "execution_count": 92,
   "id": "c4771bab",
   "metadata": {},
   "outputs": [
    {
     "data": {
      "text/plain": [
       "1"
      ]
     },
     "execution_count": 92,
     "metadata": {},
     "output_type": "execute_result"
    }
   ],
   "source": [
    "a=[10,20,30]\n",
    "a.index(20)"
   ]
  },
  {
   "cell_type": "code",
   "execution_count": 93,
   "id": "6466deff",
   "metadata": {},
   "outputs": [
    {
     "data": {
      "text/plain": [
       "2"
      ]
     },
     "execution_count": 93,
     "metadata": {},
     "output_type": "execute_result"
    }
   ],
   "source": [
    "a=[10,20,20,30,30,30]\n",
    "a.count(20)"
   ]
  },
  {
   "cell_type": "markdown",
   "id": "9ae0a376",
   "metadata": {},
   "source": [
    "- reverse(): 리스트에서 요소의 순서를 반대로 뒤집음\n",
    "-  sort(): 정렬\n",
    "- clear(): 모든 요소 삭제"
   ]
  },
  {
   "cell_type": "code",
   "execution_count": 94,
   "id": "7757cefe",
   "metadata": {},
   "outputs": [
    {
     "data": {
      "text/plain": [
       "[60, 50, 40, 30, 20, 10]"
      ]
     },
     "execution_count": 94,
     "metadata": {},
     "output_type": "execute_result"
    }
   ],
   "source": [
    "a=[10,20,30,40,50,60]\n",
    "a.reverse()\n",
    "a"
   ]
  },
  {
   "cell_type": "code",
   "execution_count": 105,
   "id": "30091490",
   "metadata": {},
   "outputs": [],
   "source": [
    "a=[7,3,5,2,4,6,9]"
   ]
  },
  {
   "cell_type": "code",
   "execution_count": 96,
   "id": "95ab3311",
   "metadata": {},
   "outputs": [
    {
     "data": {
      "text/plain": [
       "[2, 3, 4, 5, 6, 7, 9]"
      ]
     },
     "execution_count": 96,
     "metadata": {},
     "output_type": "execute_result"
    }
   ],
   "source": [
    "a.sort()\n",
    "a"
   ]
  },
  {
   "cell_type": "code",
   "execution_count": 99,
   "id": "008f8959",
   "metadata": {},
   "outputs": [
    {
     "data": {
      "text/plain": [
       "[9, 7, 6, 5, 4, 3, 2]"
      ]
     },
     "execution_count": 99,
     "metadata": {},
     "output_type": "execute_result"
    }
   ],
   "source": [
    "a.sort(reverse=True)\n",
    "a"
   ]
  },
  {
   "cell_type": "code",
   "execution_count": 106,
   "id": "a6db9b93",
   "metadata": {},
   "outputs": [
    {
     "data": {
      "text/plain": [
       "[2, 3, 4, 5, 6, 7, 9]"
      ]
     },
     "execution_count": 106,
     "metadata": {},
     "output_type": "execute_result"
    }
   ],
   "source": [
    "result=sorted(a)\n",
    "result"
   ]
  },
  {
   "cell_type": "code",
   "execution_count": 107,
   "id": "bd5707b9",
   "metadata": {},
   "outputs": [
    {
     "data": {
      "text/plain": [
       "[7, 3, 5, 2, 4, 6, 9]"
      ]
     },
     "execution_count": 107,
     "metadata": {},
     "output_type": "execute_result"
    }
   ],
   "source": [
    "a"
   ]
  },
  {
   "cell_type": "markdown",
   "id": "37c3fb74",
   "metadata": {},
   "source": [
    "- =\n",
    "- copy"
   ]
  },
  {
   "cell_type": "code",
   "execution_count": 108,
   "id": "431486f2",
   "metadata": {},
   "outputs": [],
   "source": [
    "a=[0,0,0,0]\n",
    "b=a"
   ]
  },
  {
   "cell_type": "code",
   "execution_count": 109,
   "id": "d01b1c14",
   "metadata": {},
   "outputs": [
    {
     "data": {
      "text/plain": [
       "True"
      ]
     },
     "execution_count": 109,
     "metadata": {},
     "output_type": "execute_result"
    }
   ],
   "source": [
    "a is b"
   ]
  },
  {
   "cell_type": "code",
   "execution_count": 110,
   "id": "19a9e007",
   "metadata": {},
   "outputs": [
    {
     "data": {
      "text/plain": [
       "[0, 1000, 0, 0]"
      ]
     },
     "execution_count": 110,
     "metadata": {},
     "output_type": "execute_result"
    }
   ],
   "source": [
    "b[1]=1000\n",
    "b"
   ]
  },
  {
   "cell_type": "code",
   "execution_count": 111,
   "id": "d23ef24f",
   "metadata": {},
   "outputs": [
    {
     "data": {
      "text/plain": [
       "[0, 1000, 0, 0]"
      ]
     },
     "execution_count": 111,
     "metadata": {},
     "output_type": "execute_result"
    }
   ],
   "source": [
    "a"
   ]
  },
  {
   "cell_type": "code",
   "execution_count": 112,
   "id": "8bce1ba3",
   "metadata": {},
   "outputs": [],
   "source": [
    "a=[0,0,0,0]\n",
    "b=a.copy()"
   ]
  },
  {
   "cell_type": "code",
   "execution_count": 113,
   "id": "861c3792",
   "metadata": {},
   "outputs": [
    {
     "data": {
      "text/plain": [
       "False"
      ]
     },
     "execution_count": 113,
     "metadata": {},
     "output_type": "execute_result"
    }
   ],
   "source": [
    "a is b"
   ]
  },
  {
   "cell_type": "code",
   "execution_count": 115,
   "id": "5a4975ab",
   "metadata": {},
   "outputs": [
    {
     "data": {
      "text/plain": [
       "[0, 1000, 0, 0]"
      ]
     },
     "execution_count": 115,
     "metadata": {},
     "output_type": "execute_result"
    }
   ],
   "source": [
    "b[1]=1000\n",
    "b"
   ]
  },
  {
   "cell_type": "code",
   "execution_count": 116,
   "id": "5cd1026f",
   "metadata": {},
   "outputs": [
    {
     "data": {
      "text/plain": [
       "[0, 0, 0, 0]"
      ]
     },
     "execution_count": 116,
     "metadata": {},
     "output_type": "execute_result"
    }
   ],
   "source": [
    "a"
   ]
  },
  {
   "cell_type": "code",
   "execution_count": 117,
   "id": "16774796",
   "metadata": {},
   "outputs": [],
   "source": [
    "a =  [[1,2],[3,4]]"
   ]
  },
  {
   "cell_type": "code",
   "execution_count": 118,
   "id": "f47e2e67",
   "metadata": {},
   "outputs": [
    {
     "data": {
      "text/plain": [
       "[[1, 2], [3, 4]]"
      ]
     },
     "execution_count": 118,
     "metadata": {},
     "output_type": "execute_result"
    }
   ],
   "source": [
    "a"
   ]
  },
  {
   "cell_type": "code",
   "execution_count": 119,
   "id": "b123b044",
   "metadata": {},
   "outputs": [
    {
     "data": {
      "text/plain": [
       "[1, 2]"
      ]
     },
     "execution_count": 119,
     "metadata": {},
     "output_type": "execute_result"
    }
   ],
   "source": [
    "b=a\n",
    "b[0]"
   ]
  },
  {
   "cell_type": "code",
   "execution_count": 120,
   "id": "84245a39",
   "metadata": {},
   "outputs": [],
   "source": [
    "x=b[0]"
   ]
  },
  {
   "cell_type": "code",
   "execution_count": 122,
   "id": "1246ad7d",
   "metadata": {},
   "outputs": [
    {
     "data": {
      "text/plain": [
       "2"
      ]
     },
     "execution_count": 122,
     "metadata": {},
     "output_type": "execute_result"
    }
   ],
   "source": [
    "x[1]"
   ]
  },
  {
   "cell_type": "code",
   "execution_count": 123,
   "id": "15f720f0",
   "metadata": {},
   "outputs": [
    {
     "data": {
      "text/plain": [
       "2"
      ]
     },
     "execution_count": 123,
     "metadata": {},
     "output_type": "execute_result"
    }
   ],
   "source": [
    "b[0][1]"
   ]
  },
  {
   "cell_type": "code",
   "execution_count": 124,
   "id": "4016771a",
   "metadata": {},
   "outputs": [],
   "source": [
    "b=a.copy()"
   ]
  },
  {
   "cell_type": "code",
   "execution_count": 125,
   "id": "85e23522",
   "metadata": {},
   "outputs": [],
   "source": [
    "b[0][1]=100"
   ]
  },
  {
   "cell_type": "code",
   "execution_count": 126,
   "id": "440bb49b",
   "metadata": {},
   "outputs": [
    {
     "data": {
      "text/plain": [
       "[[1, 100], [3, 4]]"
      ]
     },
     "execution_count": 126,
     "metadata": {},
     "output_type": "execute_result"
    }
   ],
   "source": [
    "b"
   ]
  },
  {
   "cell_type": "code",
   "execution_count": 127,
   "id": "90b289c9",
   "metadata": {},
   "outputs": [
    {
     "data": {
      "text/plain": [
       "[[1, 100], [3, 4]]"
      ]
     },
     "execution_count": 127,
     "metadata": {},
     "output_type": "execute_result"
    }
   ],
   "source": [
    "a"
   ]
  },
  {
   "cell_type": "code",
   "execution_count": 128,
   "id": "1e1eccb4",
   "metadata": {},
   "outputs": [],
   "source": [
    "import copy #copy가 안될경우엔 deepcopy를 이용\n",
    "a =  [[1,2],[3,4]]\n",
    "b=copy.deepcopy(a)"
   ]
  },
  {
   "cell_type": "code",
   "execution_count": 129,
   "id": "cdd8d950",
   "metadata": {},
   "outputs": [
    {
     "data": {
      "text/plain": [
       "[[1, 100], [3, 4]]"
      ]
     },
     "execution_count": 129,
     "metadata": {},
     "output_type": "execute_result"
    }
   ],
   "source": [
    "b[0][1]=100\n",
    "b"
   ]
  },
  {
   "cell_type": "code",
   "execution_count": 130,
   "id": "efc5f65a",
   "metadata": {},
   "outputs": [
    {
     "data": {
      "text/plain": [
       "[[1, 2], [3, 4]]"
      ]
     },
     "execution_count": 130,
     "metadata": {},
     "output_type": "execute_result"
    }
   ],
   "source": [
    "a"
   ]
  },
  {
   "cell_type": "markdown",
   "id": "83dd8a7b",
   "metadata": {},
   "source": [
    "**반복문으로 리스트요소  출력**\n",
    "- for 요소 in 리스트"
   ]
  },
  {
   "cell_type": "code",
   "execution_count": 131,
   "id": "7c85dfdc",
   "metadata": {},
   "outputs": [
    {
     "name": "stdout",
     "output_type": "stream",
     "text": [
      "1\n",
      "2\n",
      "3\n"
     ]
    }
   ],
   "source": [
    "a=[1,2,3]\n",
    "for v in a:\n",
    "    print(v)"
   ]
  },
  {
   "cell_type": "code",
   "execution_count": 132,
   "id": "87c7739b",
   "metadata": {
    "scrolled": true
   },
   "outputs": [
    {
     "name": "stdout",
     "output_type": "stream",
     "text": [
      "0 10\n",
      "1 20\n",
      "2 30\n"
     ]
    }
   ],
   "source": [
    "a=[10,20,30]\n",
    "for i,v in  enumerate(a):\n",
    "    print(i,v)"
   ]
  },
  {
   "cell_type": "code",
   "execution_count": 133,
   "id": "3d6fe2df",
   "metadata": {},
   "outputs": [
    {
     "name": "stdout",
     "output_type": "stream",
     "text": [
      "1 10\n",
      "2 20\n",
      "3 30\n"
     ]
    }
   ],
   "source": [
    "a=[10,20,30]\n",
    "for i,v in  enumerate(a,start=1):\n",
    "    print(i,v)"
   ]
  },
  {
   "cell_type": "markdown",
   "id": "cb97eba2",
   "metadata": {},
   "source": [
    "**리스트의 가장 작은수, 큰수, 합계**"
   ]
  },
  {
   "cell_type": "code",
   "execution_count": 135,
   "id": "8658eaa3",
   "metadata": {},
   "outputs": [],
   "source": [
    "a=[10,20,30]"
   ]
  },
  {
   "cell_type": "code",
   "execution_count": 136,
   "id": "2a54cfc3",
   "metadata": {},
   "outputs": [
    {
     "data": {
      "text/plain": [
       "30"
      ]
     },
     "execution_count": 136,
     "metadata": {},
     "output_type": "execute_result"
    }
   ],
   "source": [
    "max(a)"
   ]
  },
  {
   "cell_type": "code",
   "execution_count": 137,
   "id": "cb9d73a7",
   "metadata": {},
   "outputs": [
    {
     "data": {
      "text/plain": [
       "60"
      ]
     },
     "execution_count": 137,
     "metadata": {},
     "output_type": "execute_result"
    }
   ],
   "source": [
    "sum(a)"
   ]
  },
  {
   "cell_type": "code",
   "execution_count": 138,
   "id": "3e27bf04",
   "metadata": {},
   "outputs": [
    {
     "data": {
      "text/plain": [
       "20.0"
      ]
     },
     "execution_count": 138,
     "metadata": {},
     "output_type": "execute_result"
    }
   ],
   "source": [
    "sum(a)/len(a)"
   ]
  },
  {
   "cell_type": "markdown",
   "id": "4f612d1f",
   "metadata": {},
   "source": [
    "**리스트 표현식**\n",
    "- 식 for 변수 in  리스트"
   ]
  },
  {
   "cell_type": "code",
   "execution_count": 144,
   "id": "052c97eb",
   "metadata": {},
   "outputs": [],
   "source": [
    "result  =[]\n",
    "for i in range(10):\n",
    "    result.append(2**i)"
   ]
  },
  {
   "cell_type": "code",
   "execution_count": 145,
   "id": "9c6b3533",
   "metadata": {},
   "outputs": [
    {
     "data": {
      "text/plain": [
       "[1, 2, 4, 8, 16, 32, 64, 128, 256, 512]"
      ]
     },
     "execution_count": 145,
     "metadata": {},
     "output_type": "execute_result"
    }
   ],
   "source": [
    "result"
   ]
  },
  {
   "cell_type": "code",
   "execution_count": 146,
   "id": "953fe63d",
   "metadata": {},
   "outputs": [
    {
     "data": {
      "text/plain": [
       "[0, 2, 4, 6, 8, 10, 12, 14, 16, 18]"
      ]
     },
     "execution_count": 146,
     "metadata": {},
     "output_type": "execute_result"
    }
   ],
   "source": [
    "[i*2 for i in range(10)]"
   ]
  },
  {
   "cell_type": "code",
   "execution_count": 147,
   "id": "26cae704",
   "metadata": {},
   "outputs": [],
   "source": [
    "word_list=['python','is','easy']"
   ]
  },
  {
   "cell_type": "code",
   "execution_count": 152,
   "id": "8004056b",
   "metadata": {},
   "outputs": [
    {
     "name": "stdout",
     "output_type": "stream",
     "text": [
      "[6, 2, 4]\n"
     ]
    }
   ],
   "source": [
    "result=[]\n",
    "for i in range(len(word_list)):\n",
    "    result.append(len(word_list[i]))\n",
    "print(result)"
   ]
  },
  {
   "cell_type": "code",
   "execution_count": 155,
   "id": "fdcdf6c1",
   "metadata": {},
   "outputs": [
    {
     "name": "stdout",
     "output_type": "stream",
     "text": [
      "[6, 2, 4]\n"
     ]
    }
   ],
   "source": [
    "result=[]\n",
    "for word in (word_list):\n",
    "    result.append(len(word))\n",
    "print(result)"
   ]
  },
  {
   "cell_type": "code",
   "execution_count": 157,
   "id": "0ed6c70c",
   "metadata": {},
   "outputs": [
    {
     "data": {
      "text/plain": [
       "[6, 2, 4]"
      ]
     },
     "execution_count": 157,
     "metadata": {},
     "output_type": "execute_result"
    }
   ],
   "source": [
    "#리스트 표현\n",
    "[len(word) for word in word_list]"
   ]
  },
  {
   "cell_type": "markdown",
   "id": "2d29b17f",
   "metadata": {},
   "source": [
    "- 식 for 변수 in 리스트 if 조건식"
   ]
  },
  {
   "cell_type": "code",
   "execution_count": 160,
   "id": "01d7da2c",
   "metadata": {},
   "outputs": [
    {
     "data": {
      "text/plain": [
       "[0, 2, 4, 6, 8]"
      ]
     },
     "execution_count": 160,
     "metadata": {},
     "output_type": "execute_result"
    }
   ],
   "source": [
    "[i for i in range(10) if i%2 ==0]"
   ]
  },
  {
   "cell_type": "markdown",
   "id": "96908a20",
   "metadata": {},
   "source": [
    "# Workshop"
   ]
  },
  {
   "cell_type": "markdown",
   "id": "d9fdf218",
   "metadata": {},
   "source": [
    "**리스트에서 특정 요소만 뽑아내기**\n",
    "- 리스트 a에 들어있는 문자열 중에서 길이가 5인 것들만 리스트 형태로 출력되게 만드세요\n",
    "12:25\n",
    "- a = ['alpha', 'bravo', 'charlie', 'delta', 'echo', 'foxtrot', 'golf', 'hotel', 'india']"
   ]
  },
  {
   "cell_type": "code",
   "execution_count": 171,
   "id": "273dce94",
   "metadata": {},
   "outputs": [
    {
     "name": "stdout",
     "output_type": "stream",
     "text": [
      "['alpha', 'bravo', 'delta', 'hotel', 'india']\n"
     ]
    }
   ],
   "source": [
    "a = ['alpha', 'bravo', 'charlie', 'delta', 'echo', 'foxtrot', 'golf', 'hotel', 'india']\n",
    "b =[word for word in a if len(word) == 5]\n",
    "print(b)"
   ]
  },
  {
   "cell_type": "markdown",
   "id": "4e474cf5",
   "metadata": {},
   "source": [
    "- 리스트에서 map 사용하기"
   ]
  },
  {
   "cell_type": "code",
   "execution_count": 173,
   "id": "6e65986c",
   "metadata": {},
   "outputs": [
    {
     "data": {
      "text/plain": [
       "[1, 2, 3, 4]"
      ]
     },
     "execution_count": 173,
     "metadata": {},
     "output_type": "execute_result"
    }
   ],
   "source": [
    "a =[1.2, 2.3, 3.4, 4.5]\n",
    "b=[]\n",
    "for i in a:\n",
    "    b.append(int(i))\n",
    "b"
   ]
  },
  {
   "cell_type": "code",
   "execution_count": 177,
   "id": "531598cc",
   "metadata": {},
   "outputs": [
    {
     "data": {
      "text/plain": [
       "[1, 2, 3, 4]"
      ]
     },
     "execution_count": 177,
     "metadata": {},
     "output_type": "execute_result"
    }
   ],
   "source": [
    "b=list(map(int,a))\n",
    "b"
   ]
  },
  {
   "cell_type": "markdown",
   "id": "15c3d8ac",
   "metadata": {},
   "source": [
    "# 튜플 응용하기"
   ]
  },
  {
   "cell_type": "markdown",
   "id": "f9f03bdb",
   "metadata": {},
   "source": [
    "- index(값):특정값의 인덱스 구하기"
   ]
  },
  {
   "cell_type": "code",
   "execution_count": 180,
   "id": "fbab43af",
   "metadata": {},
   "outputs": [
    {
     "data": {
      "text/plain": [
       "2"
      ]
     },
     "execution_count": 180,
     "metadata": {},
     "output_type": "execute_result"
    }
   ],
   "source": [
    "a=(10,20,30)\n",
    "a.index(30)"
   ]
  },
  {
   "cell_type": "code",
   "execution_count": 181,
   "id": "424f0a4f",
   "metadata": {},
   "outputs": [
    {
     "data": {
      "text/plain": [
       "3"
      ]
     },
     "execution_count": 181,
     "metadata": {},
     "output_type": "execute_result"
    }
   ],
   "source": [
    "a=(10,20,20,30,30,30)\n",
    "a.count(30)"
   ]
  },
  {
   "cell_type": "markdown",
   "id": "7c8a5809",
   "metadata": {},
   "source": [
    "# Workshop"
   ]
  },
  {
   "cell_type": "markdown",
   "id": "4693cc6f",
   "metadata": {},
   "source": [
    "**자동 로또 번호 생성기**\n",
    "- 1~45 숫자 중에서 6개를 고르는 로또 번호를 자동으로 만들어 주는 프로그램 작성하기\n",
    "- 사용자가 입력한 개수만큼 번호 쌍을 생성하기(예: 5를 입력하면 5 세트의 번호가 생성되도록 하기)\n",
    "- 한번 뽑히것은 뽑히지 않도록 하고, 최종 출력은 오름차순 정렬해서 보여주기"
   ]
  },
  {
   "cell_type": "code",
   "execution_count": 183,
   "id": "56b451a5",
   "metadata": {},
   "outputs": [
    {
     "data": {
      "text/plain": [
       "20"
      ]
     },
     "execution_count": 183,
     "metadata": {},
     "output_type": "execute_result"
    }
   ],
   "source": [
    "import random\n",
    "random.randint(1,45)"
   ]
  },
  {
   "cell_type": "code",
   "execution_count": 199,
   "id": "272654a6",
   "metadata": {},
   "outputs": [
    {
     "name": "stdout",
     "output_type": "stream",
     "text": [
      "5\n"
     ]
    },
    {
     "ename": "IndexError",
     "evalue": "list index out of range",
     "output_type": "error",
     "traceback": [
      "\u001b[1;31m---------------------------------------------------------------------------\u001b[0m",
      "\u001b[1;31mIndexError\u001b[0m                                Traceback (most recent call last)",
      "\u001b[1;32m~\\AppData\\Local\\Temp\\ipykernel_11432\\3246669658.py\u001b[0m in \u001b[0;36m<module>\u001b[1;34m\u001b[0m\n\u001b[0;32m      3\u001b[0m \u001b[1;32mfor\u001b[0m \u001b[0mj\u001b[0m \u001b[1;32min\u001b[0m \u001b[0mrange\u001b[0m\u001b[1;33m(\u001b[0m\u001b[0ms\u001b[0m\u001b[1;33m)\u001b[0m\u001b[1;33m:\u001b[0m\u001b[1;33m\u001b[0m\u001b[1;33m\u001b[0m\u001b[0m\n\u001b[0;32m      4\u001b[0m     \u001b[1;32mfor\u001b[0m \u001b[0mi\u001b[0m \u001b[1;32min\u001b[0m \u001b[0mrange\u001b[0m\u001b[1;33m(\u001b[0m\u001b[1;36m6\u001b[0m\u001b[1;33m)\u001b[0m\u001b[1;33m:\u001b[0m\u001b[1;33m\u001b[0m\u001b[1;33m\u001b[0m\u001b[0m\n\u001b[1;32m----> 5\u001b[1;33m         \u001b[0mresult\u001b[0m\u001b[1;33m[\u001b[0m\u001b[0mj\u001b[0m\u001b[1;33m]\u001b[0m\u001b[1;33m[\u001b[0m\u001b[0mi\u001b[0m\u001b[1;33m]\u001b[0m\u001b[1;33m.\u001b[0m\u001b[0mappend\u001b[0m\u001b[1;33m(\u001b[0m\u001b[0mrandom\u001b[0m\u001b[1;33m.\u001b[0m\u001b[0mrandint\u001b[0m\u001b[1;33m(\u001b[0m\u001b[1;36m1\u001b[0m\u001b[1;33m,\u001b[0m\u001b[1;36m45\u001b[0m\u001b[1;33m)\u001b[0m\u001b[1;33m)\u001b[0m\u001b[1;33m\u001b[0m\u001b[1;33m\u001b[0m\u001b[0m\n\u001b[0m\u001b[0;32m      6\u001b[0m     \u001b[0mresult\u001b[0m\u001b[1;33m.\u001b[0m\u001b[0msort\u001b[0m\u001b[1;33m(\u001b[0m\u001b[1;33m)\u001b[0m\u001b[1;33m\u001b[0m\u001b[1;33m\u001b[0m\u001b[0m\n\u001b[0;32m      7\u001b[0m \u001b[1;33m\u001b[0m\u001b[0m\n",
      "\u001b[1;31mIndexError\u001b[0m: list index out of range"
     ]
    }
   ],
   "source": [
    "result=[]\n",
    "s=int(input())\n",
    "for j in range(s):\n",
    "    for i in range(6):\n",
    "        result.append(random.randint(1,45))\n",
    "    result.sort()\n",
    "result"
   ]
  },
  {
   "cell_type": "code",
   "execution_count": 205,
   "id": "b4dfe14d",
   "metadata": {},
   "outputs": [
    {
     "name": "stdout",
     "output_type": "stream",
     "text": [
      "로또 몇회 뽑으시겠습니까?5\n"
     ]
    },
    {
     "data": {
      "text/plain": [
       "[[18, 1, 36, 28, 29, 14],\n",
       " [30, 45, 20, 34, 13, 10],\n",
       " [41, 24, 29, 3, 20, 44],\n",
       " [44, 17, 3, 38, 39, 42],\n",
       " [31, 34, 30, 8, 1, 17]]"
      ]
     },
     "execution_count": 205,
     "metadata": {},
     "output_type": "execute_result"
    }
   ],
   "source": [
    "import random\n",
    "total = []\n",
    "count =  int(input(\"로또 몇회 뽑으시겠습니까?\"))\n",
    "for i in range(count):\n",
    "    lotto = []\n",
    "    while True:\n",
    "        pick = random.randint(1,45)\n",
    "        if pick not in lotto:\n",
    "            lotto.append(pick)\n",
    "        if len(lotto) == 6:\n",
    "            break\n",
    "    total.append(lotto)\n",
    "total"
   ]
  },
  {
   "cell_type": "markdown",
   "id": "9062912a",
   "metadata": {},
   "source": [
    "# 문자열 응용하기"
   ]
  },
  {
   "cell_type": "markdown",
   "id": "3b1847a2",
   "metadata": {},
   "source": [
    "- replace('바꿀문자열','새문자열'):문자열 바꾸기"
   ]
  },
  {
   "cell_type": "code",
   "execution_count": 209,
   "id": "93c56b78",
   "metadata": {},
   "outputs": [
    {
     "data": {
      "text/plain": [
       "'Hello Python!'"
      ]
     },
     "execution_count": 209,
     "metadata": {},
     "output_type": "execute_result"
    }
   ],
   "source": [
    "s='Hello world!'\n",
    "result=s.replace('world','Python')\n",
    "result"
   ]
  },
  {
   "cell_type": "code",
   "execution_count": 215,
   "id": "f51fc963",
   "metadata": {},
   "outputs": [
    {
     "data": {
      "text/plain": [
       "['a', 'b', 'c', 'd', 'e']"
      ]
     },
     "execution_count": 215,
     "metadata": {},
     "output_type": "execute_result"
    }
   ],
   "source": [
    "s='a b c d e'\n",
    "result=s.split(' ')\n",
    "result"
   ]
  },
  {
   "cell_type": "markdown",
   "id": "aedf1f59",
   "metadata": {},
   "source": [
    "- '구분자'.join(리스트)"
   ]
  },
  {
   "cell_type": "code",
   "execution_count": 216,
   "id": "ff054183",
   "metadata": {},
   "outputs": [
    {
     "data": {
      "text/plain": [
       "'a.b.c.d.e'"
      ]
     },
     "execution_count": 216,
     "metadata": {},
     "output_type": "execute_result"
    }
   ],
   "source": [
    "'.'.join(result)"
   ]
  },
  {
   "cell_type": "markdown",
   "id": "9a9e1e92",
   "metadata": {},
   "source": [
    "- upper():대문자\n",
    "- lower():소문자\n",
    "- strip():양쪽 공백 삭제\n",
    "- lstrip():왼쪽 공백 삭제\n",
    "- rstrip():오른쪽 공백 삭제"
   ]
  },
  {
   "cell_type": "code",
   "execution_count": 218,
   "id": "6f2605a5",
   "metadata": {},
   "outputs": [
    {
     "data": {
      "text/plain": [
       "'python'"
      ]
     },
     "execution_count": 218,
     "metadata": {},
     "output_type": "execute_result"
    }
   ],
   "source": [
    "s='PYTHON'\n",
    "s.lower()"
   ]
  },
  {
   "cell_type": "code",
   "execution_count": 220,
   "id": "79f92ca8",
   "metadata": {},
   "outputs": [
    {
     "data": {
      "text/plain": [
       "'Python'"
      ]
     },
     "execution_count": 220,
     "metadata": {},
     "output_type": "execute_result"
    }
   ],
   "source": [
    "s.title()"
   ]
  },
  {
   "cell_type": "code",
   "execution_count": 222,
   "id": "f6287eb8",
   "metadata": {},
   "outputs": [
    {
     "data": {
      "text/plain": [
       "'python'"
      ]
     },
     "execution_count": 222,
     "metadata": {},
     "output_type": "execute_result"
    }
   ],
   "source": [
    "'   python  '.strip()"
   ]
  },
  {
   "cell_type": "code",
   "execution_count": 223,
   "id": "83255ed8",
   "metadata": {},
   "outputs": [
    {
     "data": {
      "text/plain": [
       "'python  '"
      ]
     },
     "execution_count": 223,
     "metadata": {},
     "output_type": "execute_result"
    }
   ],
   "source": [
    "'   python  '.lstrip()"
   ]
  },
  {
   "cell_type": "code",
   "execution_count": 224,
   "id": "0d6be84e",
   "metadata": {},
   "outputs": [
    {
     "data": {
      "text/plain": [
       "'   python'"
      ]
     },
     "execution_count": 224,
     "metadata": {},
     "output_type": "execute_result"
    }
   ],
   "source": [
    "'   python  '.rstrip()"
   ]
  },
  {
   "cell_type": "code",
   "execution_count": 225,
   "id": "94b294ca",
   "metadata": {},
   "outputs": [
    {
     "data": {
      "text/plain": [
       "'       python       '"
      ]
     },
     "execution_count": 225,
     "metadata": {},
     "output_type": "execute_result"
    }
   ],
   "source": [
    "'python'.center(20)"
   ]
  },
  {
   "cell_type": "markdown",
   "id": "5b9b110d",
   "metadata": {},
   "source": [
    "- index('찾을 문자열'): 문자열에서 특정문자열을 찾아서 인덱스를 반환하고 없으면 에러\n",
    "- find('찾을 문자열'): 문자열에서 특정문자열을 찾아서 인덱스를 반환하고 없으면 -1"
   ]
  },
  {
   "cell_type": "code",
   "execution_count": 229,
   "id": "570781b2",
   "metadata": {},
   "outputs": [
    {
     "data": {
      "text/plain": [
       "2"
      ]
     },
     "execution_count": 229,
     "metadata": {},
     "output_type": "execute_result"
    }
   ],
   "source": [
    "s='apple pear grape orage pineapple'\n",
    "s.index('pl')"
   ]
  },
  {
   "cell_type": "code",
   "execution_count": 230,
   "id": "3f6192f4",
   "metadata": {},
   "outputs": [
    {
     "data": {
      "text/plain": [
       "29"
      ]
     },
     "execution_count": 230,
     "metadata": {},
     "output_type": "execute_result"
    }
   ],
   "source": [
    "s.rindex('pl')"
   ]
  },
  {
   "cell_type": "code",
   "execution_count": 232,
   "id": "39efbe4d",
   "metadata": {},
   "outputs": [
    {
     "data": {
      "text/plain": [
       "-1"
      ]
     },
     "execution_count": 232,
     "metadata": {},
     "output_type": "execute_result"
    }
   ],
   "source": [
    "s.find('pppp')"
   ]
  },
  {
   "cell_type": "markdown",
   "id": "14fb38b3",
   "metadata": {},
   "source": [
    "- count(문자열):현재 문자열에서 특정 문자열 몇번 나오는지"
   ]
  },
  {
   "cell_type": "markdown",
   "id": "8ffa7109",
   "metadata": {},
   "source": [
    "**서식지정자**\n",
    "- %\n",
    "- format\n",
    "- f'문자열'"
   ]
  },
  {
   "cell_type": "code",
   "execution_count": 240,
   "id": "425037f7",
   "metadata": {},
   "outputs": [
    {
     "data": {
      "text/plain": [
       "'나는 이혜지입니다'"
      ]
     },
     "execution_count": 240,
     "metadata": {},
     "output_type": "execute_result"
    }
   ],
   "source": [
    "name='이혜지'\n",
    "'나는 %s입니다'%name\n"
   ]
  },
  {
   "cell_type": "code",
   "execution_count": 235,
   "id": "5bcfad0e",
   "metadata": {},
   "outputs": [
    {
     "data": {
      "text/plain": [
       "'나이는 25입니다'"
      ]
     },
     "execution_count": 235,
     "metadata": {},
     "output_type": "execute_result"
    }
   ],
   "source": [
    "age = 25\n",
    "'나이는 %d입니다'%age"
   ]
  },
  {
   "cell_type": "code",
   "execution_count": 239,
   "id": "1206e83e",
   "metadata": {},
   "outputs": [
    {
     "data": {
      "text/plain": [
       "'내 학점은 4.5입니다'"
      ]
     },
     "execution_count": 239,
     "metadata": {},
     "output_type": "execute_result"
    }
   ],
   "source": [
    "score=4.5\n",
    "'내 학점은 %.1f입니다'%score"
   ]
  },
  {
   "cell_type": "code",
   "execution_count": 241,
   "id": "ae3f9c7b",
   "metadata": {},
   "outputs": [
    {
     "data": {
      "text/plain": [
       "'나는 이혜지입니다'"
      ]
     },
     "execution_count": 241,
     "metadata": {},
     "output_type": "execute_result"
    }
   ],
   "source": [
    "'나는 {}입니다'.format(name)"
   ]
  },
  {
   "cell_type": "code",
   "execution_count": 242,
   "id": "89394e9f",
   "metadata": {},
   "outputs": [
    {
     "data": {
      "text/plain": [
       "'나이는 25입니다'"
      ]
     },
     "execution_count": 242,
     "metadata": {},
     "output_type": "execute_result"
    }
   ],
   "source": [
    "'나이는 {}입니다'.format(age)"
   ]
  },
  {
   "cell_type": "code",
   "execution_count": 243,
   "id": "d2eae4da",
   "metadata": {},
   "outputs": [
    {
     "data": {
      "text/plain": [
       "'내 학점은 4.5입니다'"
      ]
     },
     "execution_count": 243,
     "metadata": {},
     "output_type": "execute_result"
    }
   ],
   "source": [
    "'내 학점은 {}입니다'.format(score)"
   ]
  },
  {
   "cell_type": "code",
   "execution_count": 246,
   "id": "7fde9fc1",
   "metadata": {},
   "outputs": [
    {
     "data": {
      "text/plain": [
       "'나는 이름25 나이이혜지 학점4.5 입니다'"
      ]
     },
     "execution_count": 246,
     "metadata": {},
     "output_type": "execute_result"
    }
   ],
   "source": [
    "'나는 이름{1} 나이{0} 학점{2} 입니다'.format(name,age,score) #순서 지정도 가능"
   ]
  },
  {
   "cell_type": "markdown",
   "id": "d6cc3d2c",
   "metadata": {},
   "source": [
    "- f'문자열'"
   ]
  },
  {
   "cell_type": "code",
   "execution_count": 248,
   "id": "f1ac5864",
   "metadata": {},
   "outputs": [
    {
     "data": {
      "text/plain": [
       "'이름이혜지 나이25 학점4.5'"
      ]
     },
     "execution_count": 248,
     "metadata": {},
     "output_type": "execute_result"
    }
   ],
   "source": [
    "f'이름{name} 나이{age} 학점{score}'"
   ]
  },
  {
   "cell_type": "markdown",
   "id": "3d9324b7",
   "metadata": {},
   "source": [
    "# 딕셔너리 응용하기"
   ]
  },
  {
   "cell_type": "markdown",
   "id": "c3cdba8e",
   "metadata": {},
   "source": [
    "- setdefalut : 키-값 쌍 추가\n",
    "- update : 키의 값 수정, 키가 없으면 키 값 쌍 추가"
   ]
  },
  {
   "cell_type": "code",
   "execution_count": 249,
   "id": "d18bcc6f",
   "metadata": {},
   "outputs": [
    {
     "data": {
      "text/plain": [
       "dict"
      ]
     },
     "execution_count": 249,
     "metadata": {},
     "output_type": "execute_result"
    }
   ],
   "source": [
    "x={'a':10, 'b':20, 'c':30, 'd':40}\n",
    "type(x)"
   ]
  },
  {
   "cell_type": "code",
   "execution_count": 250,
   "id": "ec48da1f",
   "metadata": {},
   "outputs": [
    {
     "data": {
      "text/plain": [
       "{'a': 10, 'b': 20, 'c': 30, 'd': 40, 'e': None}"
      ]
     },
     "execution_count": 250,
     "metadata": {},
     "output_type": "execute_result"
    }
   ],
   "source": [
    "x.setdefault('e')\n",
    "x"
   ]
  },
  {
   "cell_type": "code",
   "execution_count": 251,
   "id": "77340d6d",
   "metadata": {},
   "outputs": [
    {
     "data": {
      "text/plain": [
       "{'a': 10, 'b': 20, 'c': 30, 'd': 40, 'e': None, 'f': 50}"
      ]
     },
     "execution_count": 251,
     "metadata": {},
     "output_type": "execute_result"
    }
   ],
   "source": [
    "x.setdefault('f',50)\n",
    "x"
   ]
  },
  {
   "cell_type": "code",
   "execution_count": 252,
   "id": "3b0bfd4c",
   "metadata": {},
   "outputs": [
    {
     "data": {
      "text/plain": [
       "{'a': 100, 'b': 200, 'c': 30, 'd': 40, 'e': None, 'f': 50, 'g': 1000}"
      ]
     },
     "execution_count": 252,
     "metadata": {},
     "output_type": "execute_result"
    }
   ],
   "source": [
    "x.update({'a':100, 'b':200, 'g':1000})\n",
    "x"
   ]
  },
  {
   "cell_type": "markdown",
   "id": "ef02fd14",
   "metadata": {},
   "source": [
    "- pop(키):특정키값 을 삭제한뒤 반환\n",
    "- pop(키,기본값): 키가 없을 때 기본값을 반환"
   ]
  },
  {
   "cell_type": "code",
   "execution_count": 253,
   "id": "da3553b7",
   "metadata": {},
   "outputs": [],
   "source": [
    "result=x.pop('a')"
   ]
  },
  {
   "cell_type": "code",
   "execution_count": 254,
   "id": "bc42c6b4",
   "metadata": {},
   "outputs": [
    {
     "data": {
      "text/plain": [
       "100"
      ]
     },
     "execution_count": 254,
     "metadata": {},
     "output_type": "execute_result"
    }
   ],
   "source": [
    "result"
   ]
  },
  {
   "cell_type": "code",
   "execution_count": 256,
   "id": "779a7aa1",
   "metadata": {},
   "outputs": [
    {
     "data": {
      "text/plain": [
       "{'b': 200, 'c': 30, 'd': 40, 'e': None, 'f': 50, 'g': 1000}"
      ]
     },
     "execution_count": 256,
     "metadata": {},
     "output_type": "execute_result"
    }
   ],
   "source": [
    "x"
   ]
  },
  {
   "cell_type": "code",
   "execution_count": 257,
   "id": "6fe9251c",
   "metadata": {},
   "outputs": [],
   "source": [
    "result=x.pop('a',0)"
   ]
  },
  {
   "cell_type": "code",
   "execution_count": 258,
   "id": "84b0bcbb",
   "metadata": {},
   "outputs": [
    {
     "data": {
      "text/plain": [
       "0"
      ]
     },
     "execution_count": 258,
     "metadata": {},
     "output_type": "execute_result"
    }
   ],
   "source": [
    "result"
   ]
  },
  {
   "cell_type": "markdown",
   "id": "b6347a73",
   "metadata": {},
   "source": [
    "- items: 키값 모두 반환\n",
    "- keys: 키 반환\n",
    "- values:값반환"
   ]
  },
  {
   "cell_type": "code",
   "execution_count": 259,
   "id": "b2d72d33",
   "metadata": {},
   "outputs": [
    {
     "data": {
      "text/plain": [
       "dict_items([('b', 200), ('c', 30), ('d', 40), ('e', None), ('f', 50), ('g', 1000)])"
      ]
     },
     "execution_count": 259,
     "metadata": {},
     "output_type": "execute_result"
    }
   ],
   "source": [
    "x.items()"
   ]
  },
  {
   "cell_type": "code",
   "execution_count": 260,
   "id": "78653f98",
   "metadata": {},
   "outputs": [
    {
     "data": {
      "text/plain": [
       "dict_keys(['b', 'c', 'd', 'e', 'f', 'g'])"
      ]
     },
     "execution_count": 260,
     "metadata": {},
     "output_type": "execute_result"
    }
   ],
   "source": [
    "x.keys()"
   ]
  },
  {
   "cell_type": "code",
   "execution_count": 261,
   "id": "2b50d1d8",
   "metadata": {},
   "outputs": [
    {
     "data": {
      "text/plain": [
       "dict_values([200, 30, 40, None, 50, 1000])"
      ]
     },
     "execution_count": 261,
     "metadata": {},
     "output_type": "execute_result"
    }
   ],
   "source": [
    "x.values()"
   ]
  },
  {
   "cell_type": "code",
   "execution_count": 262,
   "id": "1d485f75",
   "metadata": {},
   "outputs": [
    {
     "name": "stdout",
     "output_type": "stream",
     "text": [
      "b\n",
      "c\n",
      "d\n",
      "e\n",
      "f\n",
      "g\n"
     ]
    }
   ],
   "source": [
    "for k in x.keys():\n",
    "    print(k)"
   ]
  },
  {
   "cell_type": "code",
   "execution_count": 264,
   "id": "f94871c2",
   "metadata": {},
   "outputs": [
    {
     "name": "stdout",
     "output_type": "stream",
     "text": [
      "b 200\n",
      "c 30\n",
      "d 40\n",
      "e None\n",
      "f 50\n",
      "g 1000\n"
     ]
    }
   ],
   "source": [
    "for k,v in x.items():\n",
    "    print(k,v)"
   ]
  },
  {
   "cell_type": "markdown",
   "id": "0d4483e3",
   "metadata": {},
   "source": [
    "# 세트\n",
    "- 세트={값1,값2,값3,...}"
   ]
  },
  {
   "cell_type": "code",
   "execution_count": 266,
   "id": "89cd24d5",
   "metadata": {},
   "outputs": [],
   "source": [
    "fruits  ={'strawberry','grape','orange','pineapple'}"
   ]
  },
  {
   "cell_type": "code",
   "execution_count": 267,
   "id": "f47b2b39",
   "metadata": {},
   "outputs": [
    {
     "data": {
      "text/plain": [
       "set"
      ]
     },
     "execution_count": 267,
     "metadata": {},
     "output_type": "execute_result"
    }
   ],
   "source": [
    "type(fruits)"
   ]
  },
  {
   "cell_type": "code",
   "execution_count": 269,
   "id": "ae47d7c0",
   "metadata": {},
   "outputs": [],
   "source": [
    "l = []\n",
    "t=()\n",
    "d={}\n",
    "s=set()"
   ]
  },
  {
   "cell_type": "code",
   "execution_count": 271,
   "id": "a7d879df",
   "metadata": {},
   "outputs": [
    {
     "data": {
      "text/plain": [
       "{'cherry', 'grape', 'orange', 'strawberry'}"
      ]
     },
     "execution_count": 271,
     "metadata": {},
     "output_type": "execute_result"
    }
   ],
   "source": [
    "fruits={'grape','orange','strawberry','cherry','cherry'}# 중복 없애고 순서없음\n",
    "fruits"
   ]
  },
  {
   "cell_type": "code",
   "execution_count": 274,
   "id": "e5027842",
   "metadata": {},
   "outputs": [],
   "source": [
    "a={'a','a','b'}\n",
    "b={'a','b','a'}\n",
    "c={'b','a'}"
   ]
  },
  {
   "cell_type": "code",
   "execution_count": 275,
   "id": "6d17fe4b",
   "metadata": {},
   "outputs": [
    {
     "data": {
      "text/plain": [
       "True"
      ]
     },
     "execution_count": 275,
     "metadata": {},
     "output_type": "execute_result"
    }
   ],
   "source": [
    "a==b"
   ]
  },
  {
   "cell_type": "code",
   "execution_count": 276,
   "id": "86f0c0ab",
   "metadata": {},
   "outputs": [
    {
     "data": {
      "text/plain": [
       "True"
      ]
     },
     "execution_count": 276,
     "metadata": {},
     "output_type": "execute_result"
    }
   ],
   "source": [
    "b==a"
   ]
  },
  {
   "cell_type": "markdown",
   "id": "4c5fc30f",
   "metadata": {},
   "source": [
    "**리스트와 반복문**\n",
    "- 아래에 주어진 리스트 l1의 요소 중에서 l2의 요소와 값이 같은 경우 삭제하는 파이썬 코드 작성하기\n",
    "3:25\n",
    "```\n",
    "l1 = ['a', 'b', 'c', 'd', 'a', 'b', 'a', 'b']\n",
    "l2 = ['b', 'a']\n",
    "결과 l1\n",
    "['c', 'd']\n",
    "```"
   ]
  },
  {
   "cell_type": "code",
   "execution_count": 12,
   "id": "0cca8ec9",
   "metadata": {},
   "outputs": [
    {
     "data": {
      "text/plain": [
       "['d', 'c']"
      ]
     },
     "execution_count": 12,
     "metadata": {},
     "output_type": "execute_result"
    }
   ],
   "source": [
    "l1 = ['a', 'b', 'c', 'd', 'a', 'b', 'a', 'b']\n",
    "l2 = ['b', 'a']\n",
    "list(set(l1)-set(l2))"
   ]
  },
  {
   "cell_type": "code",
   "execution_count": 16,
   "id": "de55b734",
   "metadata": {
    "scrolled": true
   },
   "outputs": [
    {
     "name": "stdout",
     "output_type": "stream",
     "text": [
      "['c', 'd']\n"
     ]
    }
   ],
   "source": [
    "for c in l2:\n",
    "    while c in l1:\n",
    "        l1.remove(c)\n",
    "print(l1)"
   ]
  },
  {
   "cell_type": "code",
   "execution_count": null,
   "id": "a5e4f9b5",
   "metadata": {},
   "outputs": [],
   "source": []
  },
  {
   "cell_type": "markdown",
   "id": "d0c18f0c",
   "metadata": {},
   "source": [
    "**'the'의 개수 출력하기**\n",
    "- 아래 문자열에서 'the'의 개수를 출력하는 프로그램을 만드세요. \n",
    "- 단 , 모든 문자가 소문자인 'the'만 찾으면 되며 'them', 'there', 'their' 등은 포함되지 않아야 합니다.\n",
    "- the grown-ups' response, this time, was to advise me to lay aside my drawings of boa constrictors, whether from the inside or the outside, and devote myself instead to geography, history, arithmetic, and grammar. That is why, at the, age of six, I gave up what might have been a magnificent career as a painter. I had been disheartened by the failure of my Drawing Number One and my Drawing Number Two. Grown-ups never understand anything by themselves, and it is tiresome for children to be always and forever explaining things to the."
   ]
  },
  {
   "cell_type": "code",
   "execution_count": 18,
   "id": "e12cf9c1",
   "metadata": {},
   "outputs": [
    {
     "data": {
      "text/plain": [
       "6"
      ]
     },
     "execution_count": 18,
     "metadata": {},
     "output_type": "execute_result"
    }
   ],
   "source": [
    "#result=x.pop('a')\n",
    "cnt=0\n",
    "s=\"the grown-ups' response, this time, was to advise me to lay aside my drawings of boa constrictors, whether from the inside or the outside, and devote myself instead to geography, history, arithmetic, and grammar. That is why, at the, age of six, I gave up what might have been a magnificent career as a painter. I had been disheartened by the failure of my Drawing Number One and my Drawing Number Two. Grown-ups never understand anything by themselves, and it is tiresome for children to be always and forever explaining things to the.\"\n",
    "s.count('the ')+s.count('the.')+s.count('the,')"
   ]
  },
  {
   "cell_type": "code",
   "execution_count": 23,
   "id": "64dec844",
   "metadata": {},
   "outputs": [
    {
     "name": "stdout",
     "output_type": "stream",
     "text": [
      "6\n"
     ]
    }
   ],
   "source": [
    "word_list=s.split()\n",
    "for word in word_list:\n",
    "    if word.strip('.,') == 'the':\n",
    "        cnt +=1\n",
    "print(cnt)"
   ]
  },
  {
   "cell_type": "markdown",
   "id": "0fd61884",
   "metadata": {},
   "source": [
    "**평균 점수 구하기**\n",
    "- 다음 소스 코드를 완성하여 평균 점수가 출력되게 만드세요\n",
    "\n",
    "- maria = {'korean' : 94, 'english': 91, 'mathmatics': 89, 'science': 83 }"
   ]
  },
  {
   "cell_type": "code",
   "execution_count": 25,
   "id": "2bf22c40",
   "metadata": {},
   "outputs": [
    {
     "data": {
      "text/plain": [
       "89.25"
      ]
     },
     "execution_count": 25,
     "metadata": {},
     "output_type": "execute_result"
    }
   ],
   "source": [
    "maria = {'korean' : 94, 'english': 91, 'mathmatics': 89, 'science': 83 }\n",
    "sum(maria.values())/len(maria)"
   ]
  },
  {
   "cell_type": "code",
   "execution_count": 28,
   "id": "e7e57e68",
   "metadata": {},
   "outputs": [
    {
     "name": "stdout",
     "output_type": "stream",
     "text": [
      "89.25\n"
     ]
    }
   ],
   "source": [
    "total=0\n",
    "for v in maria.values():\n",
    "    total += v\n",
    "print(total/len(maria))"
   ]
  },
  {
   "cell_type": "markdown",
   "id": "c781839e",
   "metadata": {},
   "source": [
    "**딕셔너리에서 특정값 삭제하기**\n",
    "- 표준 입력으로 문자열 여러개와 숫자 여러개가 두 줄로 입력되고, 첫 번째 줄은 키, 두번째 줄은 값으로 하여 딕셔너리를 생성합니다. 다음 코드를 완성하여 딕셔너리에서 키가 'delta'인 키-값 쌍과 값이 30인 키-값 쌍을 삭제하도록 만드세요.\n",
    "```\n",
    "입력\n",
    "alpha bravo charlie delta\n",
    "10 20 30 40\n",
    "결과\n",
    "{'alpha':10, 'bravo':20}\n",
    "```"
   ]
  },
  {
   "cell_type": "code",
   "execution_count": 4,
   "id": "1256fbdf",
   "metadata": {},
   "outputs": [
    {
     "name": "stdout",
     "output_type": "stream",
     "text": [
      "alpha bravo charlie delta\n",
      "10 20 30 40\n"
     ]
    }
   ],
   "source": [
    "s=input().split(' ')\n",
    "a=list(map(int, input().split()))   # int로 받고싶으면 map을 이용하는듯..\n",
    "lux=dict(zip(s,a))"
   ]
  },
  {
   "cell_type": "code",
   "execution_count": 5,
   "id": "f03012f7",
   "metadata": {},
   "outputs": [
    {
     "data": {
      "text/plain": [
       "{'alpha': 10, 'bravo': 20, 'charlie': 30, 'delta': 40}"
      ]
     },
     "execution_count": 5,
     "metadata": {},
     "output_type": "execute_result"
    }
   ],
   "source": [
    "lux"
   ]
  },
  {
   "cell_type": "code",
   "execution_count": 3,
   "id": "4e3bdf35",
   "metadata": {},
   "outputs": [
    {
     "name": "stdout",
     "output_type": "stream",
     "text": [
      "{'alpha': '10', 'bravo': '20', 'charlie': '30'}\n"
     ]
    }
   ],
   "source": [
    "lux.pop('delta')"
   ]
  },
  {
   "cell_type": "code",
   "execution_count": 5,
   "id": "9ca0a6cc",
   "metadata": {},
   "outputs": [
    {
     "name": "stdout",
     "output_type": "stream",
     "text": [
      "{'alpha': '10', 'bravo': '20'}\n"
     ]
    }
   ],
   "source": [
    "y={}\n",
    "for k,v in lux.items():\n",
    "    if v!= '30':\n",
    "        y.setdefault(k,v)\n",
    "print(y)"
   ]
  },
  {
   "cell_type": "code",
   "execution_count": null,
   "id": "4da4fb84",
   "metadata": {},
   "outputs": [],
   "source": []
  }
 ],
 "metadata": {
  "kernelspec": {
   "display_name": "Python 3 (ipykernel)",
   "language": "python",
   "name": "python3"
  },
  "language_info": {
   "codemirror_mode": {
    "name": "ipython",
    "version": 3
   },
   "file_extension": ".py",
   "mimetype": "text/x-python",
   "name": "python",
   "nbconvert_exporter": "python",
   "pygments_lexer": "ipython3",
   "version": "3.9.13"
  }
 },
 "nbformat": 4,
 "nbformat_minor": 5
}
