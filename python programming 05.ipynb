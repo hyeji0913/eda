{
 "cells": [
  {
   "cell_type": "markdown",
   "id": "9358eae1",
   "metadata": {},
   "source": [
    "# 람다 표현식"
   ]
  },
  {
   "cell_type": "code",
   "execution_count": 1,
   "id": "9c2e5ec4",
   "metadata": {},
   "outputs": [
    {
     "data": {
      "text/plain": [
       "20"
      ]
     },
     "execution_count": 1,
     "metadata": {},
     "output_type": "execute_result"
    }
   ],
   "source": [
    "def plus_ten(x):\n",
    "    return x+10\n",
    "plus_ten(10)"
   ]
  },
  {
   "cell_type": "markdown",
   "id": "b92529b7",
   "metadata": {},
   "source": [
    "- lambda 매개변수:식"
   ]
  },
  {
   "cell_type": "code",
   "execution_count": 6,
   "id": "e13c3ab8",
   "metadata": {},
   "outputs": [],
   "source": [
    "plus_one=lambda i :i+1"
   ]
  },
  {
   "cell_type": "code",
   "execution_count": 7,
   "id": "d7cb1a3f",
   "metadata": {},
   "outputs": [
    {
     "data": {
      "text/plain": [
       "11"
      ]
     },
     "execution_count": 7,
     "metadata": {},
     "output_type": "execute_result"
    }
   ],
   "source": [
    "plus_one(10)"
   ]
  },
  {
   "cell_type": "code",
   "execution_count": 9,
   "id": "82aa3321",
   "metadata": {},
   "outputs": [
    {
     "data": {
      "text/plain": [
       "11"
      ]
     },
     "execution_count": 9,
     "metadata": {},
     "output_type": "execute_result"
    }
   ],
   "source": [
    "(lambda i :i+1)(10)"
   ]
  },
  {
   "cell_type": "code",
   "execution_count": 10,
   "id": "22fd1056",
   "metadata": {},
   "outputs": [
    {
     "data": {
      "text/plain": [
       "[1, 2, 3]"
      ]
     },
     "execution_count": 10,
     "metadata": {},
     "output_type": "execute_result"
    }
   ],
   "source": [
    "list(map(int,['1','2','3']))"
   ]
  },
  {
   "cell_type": "code",
   "execution_count": 11,
   "id": "5122d414",
   "metadata": {},
   "outputs": [
    {
     "data": {
      "text/plain": [
       "[1, 2, 3]"
      ]
     },
     "execution_count": 11,
     "metadata": {},
     "output_type": "execute_result"
    }
   ],
   "source": [
    "list(map(lambda x:int(x),['1','2','3']))"
   ]
  },
  {
   "cell_type": "code",
   "execution_count": 13,
   "id": "fe1d5940",
   "metadata": {},
   "outputs": [
    {
     "data": {
      "text/plain": [
       "[11, 12, 13]"
      ]
     },
     "execution_count": 13,
     "metadata": {},
     "output_type": "execute_result"
    }
   ],
   "source": [
    "list(map(lambda x:x+10,[1,2,3]))"
   ]
  },
  {
   "cell_type": "markdown",
   "id": "e7306a98",
   "metadata": {},
   "source": [
    "- lambda 매개변수:식1 if 조건식 else 식2"
   ]
  },
  {
   "cell_type": "code",
   "execution_count": 14,
   "id": "da23876b",
   "metadata": {},
   "outputs": [],
   "source": [
    "a=[1,2,3,4,5,6,7,8,9,10]"
   ]
  },
  {
   "cell_type": "code",
   "execution_count": 15,
   "id": "4255c04c",
   "metadata": {},
   "outputs": [],
   "source": [
    "#3의 배수면 문자열로 만들고 아님 그대로  출력\n",
    "#lambda 식 이용"
   ]
  },
  {
   "cell_type": "code",
   "execution_count": 16,
   "id": "4d4620eb",
   "metadata": {},
   "outputs": [],
   "source": [
    "def myformat(x):\n",
    "    if x%3 == 0:\n",
    "        return str(x)\n",
    "    else:\n",
    "        return x"
   ]
  },
  {
   "cell_type": "code",
   "execution_count": 18,
   "id": "609a0b37",
   "metadata": {},
   "outputs": [],
   "source": [
    "myformat = lambda x:str(x) if x%3 == 0 else x"
   ]
  },
  {
   "cell_type": "code",
   "execution_count": 19,
   "id": "ea61d406",
   "metadata": {},
   "outputs": [
    {
     "data": {
      "text/plain": [
       "[1, 2, '3', 4, 5, '6', 7, 8, '9', 10]"
      ]
     },
     "execution_count": 19,
     "metadata": {},
     "output_type": "execute_result"
    }
   ],
   "source": [
    "list(map(myformat,a))"
   ]
  },
  {
   "cell_type": "markdown",
   "id": "223a3f24",
   "metadata": {},
   "source": [
    "- lambda 매개변수1,매개변수2: 식"
   ]
  },
  {
   "cell_type": "code",
   "execution_count": 23,
   "id": "c07fc980",
   "metadata": {
    "scrolled": true
   },
   "outputs": [
    {
     "data": {
      "text/plain": [
       "<function __main__.<lambda>(x, y)>"
      ]
     },
     "execution_count": 23,
     "metadata": {},
     "output_type": "execute_result"
    }
   ],
   "source": [
    "lambda x,y:x*y"
   ]
  },
  {
   "cell_type": "code",
   "execution_count": 24,
   "id": "d8cbbe27",
   "metadata": {},
   "outputs": [],
   "source": [
    "a=[1,2,3,4,5]\n",
    "b=[1,2,3,4,5]"
   ]
  },
  {
   "cell_type": "code",
   "execution_count": 26,
   "id": "904be016",
   "metadata": {},
   "outputs": [
    {
     "data": {
      "text/plain": [
       "[1, 4, 9, 16, 25]"
      ]
     },
     "execution_count": 26,
     "metadata": {},
     "output_type": "execute_result"
    }
   ],
   "source": [
    "list(map(lambda x,y:x*y,a,b))"
   ]
  },
  {
   "cell_type": "markdown",
   "id": "416a6bb0",
   "metadata": {},
   "source": [
    "- map(함수,반복가능한 객체):반복 가능한 객체에 함수를 일괄 적용\n",
    "- filter(함수,반복가능한 객체): 반복 가능한 객체에 함수에서 출력하는 조건에 맞는거만 가져옴"
   ]
  },
  {
   "cell_type": "code",
   "execution_count": 27,
   "id": "9775dc5f",
   "metadata": {},
   "outputs": [],
   "source": [
    "a= [1,2,3,4,5,6,7,8,9,10]"
   ]
  },
  {
   "cell_type": "code",
   "execution_count": 28,
   "id": "89e9d810",
   "metadata": {},
   "outputs": [],
   "source": [
    "def f(x):\n",
    "    return 5<x<10"
   ]
  },
  {
   "cell_type": "code",
   "execution_count": 31,
   "id": "0b9e8872",
   "metadata": {},
   "outputs": [
    {
     "data": {
      "text/plain": [
       "[6, 7, 8, 9]"
      ]
     },
     "execution_count": 31,
     "metadata": {},
     "output_type": "execute_result"
    }
   ],
   "source": [
    "list(filter(f,a))"
   ]
  },
  {
   "cell_type": "markdown",
   "id": "4efe3278",
   "metadata": {},
   "source": [
    "# workshop"
   ]
  },
  {
   "cell_type": "markdown",
   "id": "65f71e26",
   "metadata": {},
   "source": [
    "**거리계산**\n",
    "- 리스트를 이용하여 점 사이의 거리를 계산 해 보자.\n",
    "- 직교 좌표 위에서 A는 (1, 1), B는 (3, 2), C는 (5,7)일 때 X(2, 3)와  A/B/C와의 거리를 각각 구하여라.\n",
    "- 위 코드블럭을 이용하여 distMeasure 함수를 정의하라."
   ]
  },
  {
   "cell_type": "code",
   "execution_count": 32,
   "id": "edc9e16a",
   "metadata": {},
   "outputs": [],
   "source": [
    "points = [(1,1), (3,2), (5,7)]\n",
    "X=(2,3)"
   ]
  },
  {
   "cell_type": "code",
   "execution_count": 62,
   "id": "1c58ad87",
   "metadata": {},
   "outputs": [],
   "source": [
    "a=[]\n",
    "def distMeasure(x):\n",
    "    for i in range(3):\n",
    "        a.append(((x[0]-points[i][0])**2 + (x[1]-points[i][1])**2)**0.5)\n",
    "    return a"
   ]
  },
  {
   "cell_type": "code",
   "execution_count": 63,
   "id": "60979a5f",
   "metadata": {},
   "outputs": [
    {
     "data": {
      "text/plain": [
       "[2.23606797749979, 1.4142135623730951, 5.0]"
      ]
     },
     "execution_count": 63,
     "metadata": {},
     "output_type": "execute_result"
    }
   ],
   "source": [
    "distMeasure(X)"
   ]
  },
  {
   "cell_type": "code",
   "execution_count": 68,
   "id": "426787bb",
   "metadata": {},
   "outputs": [],
   "source": [
    "def disMeasure(pt):\n",
    "    dist=sqrt((x[0]-points[i][0])**2 + (x[1]-points[i][1])**2)\n",
    "    return dist\n",
    "    "
   ]
  },
  {
   "cell_type": "markdown",
   "id": "494744fc",
   "metadata": {},
   "source": [
    "**이미지 파일만 가져오기**\n",
    "- 다음 소스 코드를 완성하여 확장자가 .jpg, .png인 이미지 파일만 출력되게 만드세요. 여기서는 람다 표현식을 사용해야 하며 출력 결과는 리스트 형태라야 합니다. 람다 표현식에서 확장자를 검사할 때는 문자열 메서드를 활용하세요.\n",
    "```\n",
    "files = ['font', '1.png', '10.jpg', '11.gif', '2.jpg', '3.png', 'table.xslx', 'spec.docx']\n",
    "실행결과\n",
    "['1.png', '10.jpg', '2.jpg', '3.png']\n",
    "```"
   ]
  },
  {
   "cell_type": "code",
   "execution_count": 3,
   "id": "47a82360",
   "metadata": {},
   "outputs": [],
   "source": [
    "files = ['font', '1.png', '10.jpg', '11.gif', '2.jpg', '3.png', 'table.xslx', 'spec.docx']"
   ]
  },
  {
   "cell_type": "code",
   "execution_count": 8,
   "id": "987a9bd9",
   "metadata": {},
   "outputs": [],
   "source": [
    "a=[]\n",
    "def image(x):\n",
    "    for i in range(len(files)):\n",
    "        if '.jpg' in files[i]:\n",
    "            a.append(files[i])\n",
    "        elif '.png' in files[i]:\n",
    "            a.append(files[i])\n",
    "        else:\n",
    "            continue\n",
    "    return a"
   ]
  },
  {
   "cell_type": "code",
   "execution_count": 9,
   "id": "5e12ac07",
   "metadata": {
    "scrolled": true
   },
   "outputs": [
    {
     "data": {
      "text/plain": [
       "['1.png', '10.jpg', '2.jpg', '3.png']"
      ]
     },
     "execution_count": 9,
     "metadata": {},
     "output_type": "execute_result"
    }
   ],
   "source": [
    "image(files)"
   ]
  },
  {
   "cell_type": "code",
   "execution_count": 4,
   "id": "037364b3",
   "metadata": {},
   "outputs": [],
   "source": [
    "def filter_img(x):\n",
    "    return(x.find('.png')!=-1) or (x.find('.jpg')!=-1)"
   ]
  },
  {
   "cell_type": "code",
   "execution_count": 11,
   "id": "d627cea6",
   "metadata": {},
   "outputs": [
    {
     "data": {
      "text/plain": [
       "['1.png', '10.jpg', '2.jpg', '3.png']"
      ]
     },
     "execution_count": 11,
     "metadata": {},
     "output_type": "execute_result"
    }
   ],
   "source": [
    "list(filter(filter_img,files)) # filter 는 true 만 return"
   ]
  },
  {
   "cell_type": "markdown",
   "id": "5de07625",
   "metadata": {},
   "source": [
    "**파일 이름을 한꺼번에 바꾸기**\n",
    "```\n",
    "- 표준 입력으로 숫자.확장자 형식으로 된 파일 이름 여러 개가 입력됩니다. \n",
    "파일 이름이 숫자 3개이면서 앞에 0이 들어가는 형식으로 출력되게 만드세요. \n",
    "예를 들어 1.png는 001.png, 99.docx는 099.docx, 100.xlsx는 100.xlsx처럼 출력되어야 합니다. \n",
    "그리고 람다 표현식을 사용해야 하며 출력 결과는 리스트 형태라야 합니다. \n",
    "람다 표현식에서 파일명을 처리할 때는 문자열 포매팅과 문자열 메서드를 활용하세요.\n",
    "\n",
    "입력 예\n",
    "1.jpg 10.png 11.png 2.jpg 3.png\n",
    "결과\n",
    "['001.jpg', '010.png', '011.png', '002.jpg', '003.png']\n",
    "입력 예\n",
    "97.xlsx 98.docx 99.docx 100.xlsx 101.docx 102.docx\n",
    "결과\n",
    "['097.xlsx', '098.docx', '099.docx', '100.xlsx', '101.docx', '102.docx']\n",
    "```"
   ]
  },
  {
   "cell_type": "code",
   "execution_count": 2,
   "id": "3f8c3ee2",
   "metadata": {},
   "outputs": [
    {
     "name": "stdout",
     "output_type": "stream",
     "text": [
      "1.jpg 10.png 11.png 2.jpg 3.png\n"
     ]
    }
   ],
   "source": [
    "file_names = input().split()"
   ]
  },
  {
   "cell_type": "code",
   "execution_count": 3,
   "id": "8018952c",
   "metadata": {},
   "outputs": [
    {
     "data": {
      "text/plain": [
       "['1.jpg', '10.png', '11.png', '2.jpg', '3.png']"
      ]
     },
     "execution_count": 3,
     "metadata": {},
     "output_type": "execute_result"
    }
   ],
   "source": [
    "file_names"
   ]
  },
  {
   "cell_type": "code",
   "execution_count": 6,
   "id": "14644591",
   "metadata": {},
   "outputs": [],
   "source": [
    "names = []\n",
    "exts = []\n",
    "for file_name in file_names:\n",
    "    name=file_name.split('.')[0]\n",
    "    ext=file_name.split('.')[1]\n",
    "    names.append(name)\n",
    "    exts.append(ext)"
   ]
  },
  {
   "cell_type": "code",
   "execution_count": 13,
   "id": "647a7770",
   "metadata": {},
   "outputs": [],
   "source": [
    "def myformat(name,ext):\n",
    "    return '{0:>03s}.{1}'.format(name,ext)"
   ]
  },
  {
   "cell_type": "code",
   "execution_count": 14,
   "id": "6ffa46a2",
   "metadata": {},
   "outputs": [
    {
     "data": {
      "text/plain": [
       "['001.jpg', '010.png', '011.png', '002.jpg', '003.png']"
      ]
     },
     "execution_count": 14,
     "metadata": {},
     "output_type": "execute_result"
    }
   ],
   "source": [
    "list(map(myformat,names,exts))"
   ]
  },
  {
   "cell_type": "markdown",
   "id": "3e04c490",
   "metadata": {},
   "source": [
    "# 변수의 사용범위"
   ]
  },
  {
   "cell_type": "code",
   "execution_count": 21,
   "id": "ada7c2cc",
   "metadata": {},
   "outputs": [
    {
     "name": "stdout",
     "output_type": "stream",
     "text": [
      "foo(): 5\n",
      "main(): 5\n"
     ]
    }
   ],
   "source": [
    "x=10     #전역변수\n",
    "\n",
    "def foo():\n",
    "         #지역변수\n",
    "    global x #밖까지 영향을 미침\n",
    "    x=5\n",
    "    print(\"foo():\",x)\n",
    "\n",
    "foo()\n",
    "print(\"main():\",x)"
   ]
  },
  {
   "cell_type": "code",
   "execution_count": 23,
   "id": "72878621",
   "metadata": {},
   "outputs": [
    {
     "name": "stdout",
     "output_type": "stream",
     "text": [
      "bye\n"
     ]
    }
   ],
   "source": [
    "def print_hello():\n",
    "    hello='hello world'\n",
    "    \n",
    "    def print_message():\n",
    "        hello='bye'\n",
    "        print(hello)\n",
    "        \n",
    "    print_message()\n",
    "    \n",
    "print_hello()"
   ]
  },
  {
   "cell_type": "markdown",
   "id": "84c55438",
   "metadata": {},
   "source": [
    "# 클래스"
   ]
  },
  {
   "cell_type": "markdown",
   "id": "09bdd863",
   "metadata": {},
   "source": [
    "```\n",
    "class 클래스이름:\n",
    "    def 메서드(self):\n",
    "        코드\n",
    "```"
   ]
  },
  {
   "cell_type": "code",
   "execution_count": 25,
   "id": "a3c8eed1",
   "metadata": {},
   "outputs": [],
   "source": [
    "class Person:\n",
    "    def greeting(self):\n",
    "        print(\"Hello\")"
   ]
  },
  {
   "cell_type": "code",
   "execution_count": 26,
   "id": "81e77ce1",
   "metadata": {},
   "outputs": [],
   "source": [
    "James  = Person()"
   ]
  },
  {
   "cell_type": "code",
   "execution_count": 27,
   "id": "b8a8fb04",
   "metadata": {},
   "outputs": [
    {
     "name": "stdout",
     "output_type": "stream",
     "text": [
      "Hello\n"
     ]
    }
   ],
   "source": [
    "James.greeting()"
   ]
  },
  {
   "cell_type": "code",
   "execution_count": 28,
   "id": "1762130b",
   "metadata": {},
   "outputs": [
    {
     "data": {
      "text/plain": [
       "int"
      ]
     },
     "execution_count": 28,
     "metadata": {},
     "output_type": "execute_result"
    }
   ],
   "source": [
    "a=int(10)\n",
    "type(a)"
   ]
  },
  {
   "cell_type": "code",
   "execution_count": 29,
   "id": "1956654f",
   "metadata": {},
   "outputs": [
    {
     "name": "stdout",
     "output_type": "stream",
     "text": [
      "<class 'list'>\n"
     ]
    }
   ],
   "source": [
    "c=list([1,2,3])\n",
    "print(type(c))"
   ]
  },
  {
   "cell_type": "code",
   "execution_count": 30,
   "id": "b16e7d54",
   "metadata": {},
   "outputs": [
    {
     "name": "stdout",
     "output_type": "stream",
     "text": [
      "<class 'dict'>\n"
     ]
    }
   ],
   "source": [
    "d=dict({'x':10})\n",
    "print(type(d))"
   ]
  },
  {
   "cell_type": "code",
   "execution_count": 35,
   "id": "fb1fe8a8",
   "metadata": {},
   "outputs": [],
   "source": [
    "class Person:\n",
    "    def __init__(self,hello):\n",
    "        self.hello='안녕하세요'\n",
    "        \n",
    "    def greeting(self):\n",
    "        print(self.hello)"
   ]
  },
  {
   "cell_type": "code",
   "execution_count": 37,
   "id": "092d332d",
   "metadata": {},
   "outputs": [
    {
     "name": "stdout",
     "output_type": "stream",
     "text": [
      "안녕하세요\n"
     ]
    }
   ],
   "source": [
    "James=Person(\"안녕하십니까?\")\n",
    "James.greeting()"
   ]
  },
  {
   "cell_type": "code",
   "execution_count": 45,
   "id": "48bf8906",
   "metadata": {},
   "outputs": [],
   "source": [
    "class Person:\n",
    "    def __init__(self,hello,name,age):\n",
    "        self.hello=hello\n",
    "        self.name=name\n",
    "        self.age=age\n",
    "        \n",
    "    def greeting(self):\n",
    "        print(self.hello)\n",
    "        print(\"저는 {}입니다\".format(self.name))\n",
    "        print(\"저는 {}살 입니다\".format(self.age))"
   ]
  },
  {
   "cell_type": "code",
   "execution_count": 46,
   "id": "5beeed8d",
   "metadata": {},
   "outputs": [],
   "source": [
    "James=Person(\"안녕\",\"제임스\",27)"
   ]
  },
  {
   "cell_type": "code",
   "execution_count": 47,
   "id": "19b4e7bc",
   "metadata": {},
   "outputs": [
    {
     "name": "stdout",
     "output_type": "stream",
     "text": [
      "안녕\n",
      "저는 제임스입니다\n",
      "저는 27살 입니다\n"
     ]
    }
   ],
   "source": [
    "James.greeting()"
   ]
  },
  {
   "cell_type": "code",
   "execution_count": 57,
   "id": "09b2c36d",
   "metadata": {},
   "outputs": [],
   "source": [
    "class Person:\n",
    "    def __init__(self,hello,name,age,wallet):\n",
    "        self.hello=hello\n",
    "        self.name=name\n",
    "        self.age=age\n",
    "        self.__wallet=wallet   #__로 안보이게 할수있음\n",
    "        \n",
    "        \n",
    "    def greeting(self):\n",
    "        print(self.hello)\n",
    "        print(\"저는 {}입니다\".format(self.name))\n",
    "        print(\"저는 {}살 입니다\".format(self.age))\n",
    "        \n",
    "    def pay(self,amount):\n",
    "        self.__wallet -=amount\n",
    "        print(\"지갑에 {}원 남았음\".format(self.__wallet))"
   ]
  },
  {
   "cell_type": "code",
   "execution_count": 58,
   "id": "c37ec7e2",
   "metadata": {},
   "outputs": [],
   "source": [
    "Hyeji=Person('안녕','혜지','25',5000)"
   ]
  },
  {
   "cell_type": "code",
   "execution_count": 59,
   "id": "61091053",
   "metadata": {},
   "outputs": [
    {
     "name": "stdout",
     "output_type": "stream",
     "text": [
      "지갑에 4500원 남았음\n"
     ]
    }
   ],
   "source": [
    "Hyeji.pay(500)"
   ]
  },
  {
   "cell_type": "markdown",
   "id": "89937eb1",
   "metadata": {},
   "source": [
    "# 클래스속성 인스턴스 속성"
   ]
  },
  {
   "cell_type": "markdown",
   "id": "b2d07051",
   "metadata": {},
   "source": [
    "```\n",
    "class 클래스이름:\n",
    "    속성=값\n",
    "```"
   ]
  },
  {
   "cell_type": "code",
   "execution_count": 60,
   "id": "9277c2e5",
   "metadata": {},
   "outputs": [],
   "source": [
    "class Person:\n",
    "    bag=[]\n",
    "    \n",
    "    def put_bag(self,stuff):\n",
    "        Person.bag.append(stuff)"
   ]
  },
  {
   "cell_type": "code",
   "execution_count": 64,
   "id": "eb37b1c5",
   "metadata": {},
   "outputs": [],
   "source": [
    "James=Person()"
   ]
  },
  {
   "cell_type": "code",
   "execution_count": 65,
   "id": "5956b727",
   "metadata": {},
   "outputs": [],
   "source": [
    "James.put_bag(\"책\")"
   ]
  },
  {
   "cell_type": "code",
   "execution_count": 66,
   "id": "a648cb58",
   "metadata": {},
   "outputs": [
    {
     "data": {
      "text/plain": [
       "['책']"
      ]
     },
     "execution_count": 66,
     "metadata": {},
     "output_type": "execute_result"
    }
   ],
   "source": [
    "James.bag"
   ]
  },
  {
   "cell_type": "markdown",
   "id": "fab26490",
   "metadata": {},
   "source": [
    "- 클래스 속성:모든 인스턴스들이 공유\n",
    "- 인스턴스: 인스턴스 별로 독립됨"
   ]
  },
  {
   "cell_type": "markdown",
   "id": "6aa0a9e5",
   "metadata": {},
   "source": [
    "**정적메서드**"
   ]
  },
  {
   "cell_type": "code",
   "execution_count": 67,
   "id": "011e9d00",
   "metadata": {},
   "outputs": [
    {
     "data": {
      "text/plain": [
       "[1, 2, 3, 100]"
      ]
     },
     "execution_count": 67,
     "metadata": {},
     "output_type": "execute_result"
    }
   ],
   "source": [
    "a=[1,2,3]\n",
    "a.append(100)\n",
    "a"
   ]
  },
  {
   "cell_type": "code",
   "execution_count": 68,
   "id": "69ef8a82",
   "metadata": {},
   "outputs": [],
   "source": [
    "list.append(a,100)#정적 메서드"
   ]
  },
  {
   "cell_type": "code",
   "execution_count": 69,
   "id": "72806424",
   "metadata": {},
   "outputs": [
    {
     "data": {
      "text/plain": [
       "[1, 2, 3, 100, 100]"
      ]
     },
     "execution_count": 69,
     "metadata": {},
     "output_type": "execute_result"
    }
   ],
   "source": [
    "a"
   ]
  },
  {
   "cell_type": "markdown",
   "id": "c35b3417",
   "metadata": {},
   "source": [
    "```\n",
    "**정적메서드**\n",
    "class 클래스이름:\n",
    "    def 메서드(매개변수):\n",
    "        코드\n",
    "```"
   ]
  },
  {
   "cell_type": "code",
   "execution_count": 70,
   "id": "66f8d74c",
   "metadata": {},
   "outputs": [],
   "source": [
    "class Calc:\n",
    "    \n",
    "    def add(a,b):\n",
    "        print(a+b)\n",
    "        \n",
    "    def mul(a,b):\n",
    "        print(a*b)"
   ]
  },
  {
   "cell_type": "code",
   "execution_count": 71,
   "id": "c270ea6e",
   "metadata": {},
   "outputs": [
    {
     "name": "stdout",
     "output_type": "stream",
     "text": [
      "30\n"
     ]
    }
   ],
   "source": [
    "Calc.add(10,20)"
   ]
  },
  {
   "cell_type": "markdown",
   "id": "a44f6ce6",
   "metadata": {},
   "source": [
    "# 클래스 상속 사용하기"
   ]
  },
  {
   "cell_type": "markdown",
   "id": "de7d9e15",
   "metadata": {},
   "source": [
    "```\n",
    "class 기반클래스이름:\n",
    "    코드\n",
    "    \n",
    "class 파생클래스이름{기반클래스이름}:\n",
    "    코드\n",
    "```"
   ]
  },
  {
   "cell_type": "code",
   "execution_count": 73,
   "id": "2b1f2388",
   "metadata": {},
   "outputs": [],
   "source": [
    "class Person():\n",
    "    def greeting(self):\n",
    "        print(\"안녕하세요\")"
   ]
  },
  {
   "cell_type": "code",
   "execution_count": 74,
   "id": "1c8622e3",
   "metadata": {},
   "outputs": [],
   "source": [
    "class Student(Person):\n",
    "    def study(self):\n",
    "        print(\"공부중\")"
   ]
  },
  {
   "cell_type": "code",
   "execution_count": 75,
   "id": "d52cbb4a",
   "metadata": {},
   "outputs": [],
   "source": [
    "James = Student()"
   ]
  },
  {
   "cell_type": "code",
   "execution_count": 76,
   "id": "083b0c8d",
   "metadata": {},
   "outputs": [
    {
     "name": "stdout",
     "output_type": "stream",
     "text": [
      "안녕하세요\n"
     ]
    }
   ],
   "source": [
    "James.greeting()#상속받은 부모거까지 가능"
   ]
  },
  {
   "cell_type": "code",
   "execution_count": 77,
   "id": "684d66c2",
   "metadata": {},
   "outputs": [
    {
     "name": "stdout",
     "output_type": "stream",
     "text": [
      "공부중\n"
     ]
    }
   ],
   "source": [
    "James.study()"
   ]
  },
  {
   "cell_type": "code",
   "execution_count": 85,
   "id": "8fe555a9",
   "metadata": {},
   "outputs": [],
   "source": [
    "class Person():\n",
    "    def __init__(self):\n",
    "        print(\"person initialized\")\n",
    "    def greeting(self):\n",
    "        print(\"안녕하세요\")\n",
    "        \n",
    "class Student(Person):\n",
    "    def __init__(self):\n",
    "        print(\"student initialized\")\n",
    "    def study(self):\n",
    "        print(\"공부중\")"
   ]
  },
  {
   "cell_type": "code",
   "execution_count": 86,
   "id": "d629b416",
   "metadata": {},
   "outputs": [
    {
     "name": "stdout",
     "output_type": "stream",
     "text": [
      "student initialized\n"
     ]
    }
   ],
   "source": [
    "James=Student() #자식 init하면 부모는 안함\n",
    "#자식에 init  없으면 부모가 함"
   ]
  },
  {
   "cell_type": "code",
   "execution_count": 87,
   "id": "72e90e4b",
   "metadata": {},
   "outputs": [],
   "source": [
    "class Person():\n",
    "    def __init__(self):\n",
    "        print(\"person initialized\")\n",
    "        self.hello = \"안녕하세요\"\n",
    "    def greeting(self):\n",
    "        print(self.hello)\n",
    "        \n",
    "class Student(Person):\n",
    "    def __init__(self):\n",
    "        print(\"student initialized\")\n",
    "    def study(self):\n",
    "        print(\"공부중\")"
   ]
  },
  {
   "cell_type": "code",
   "execution_count": 88,
   "id": "16d40dfc",
   "metadata": {},
   "outputs": [
    {
     "name": "stdout",
     "output_type": "stream",
     "text": [
      "student initialized\n"
     ]
    },
    {
     "ename": "AttributeError",
     "evalue": "'Student' object has no attribute 'hello'",
     "output_type": "error",
     "traceback": [
      "\u001b[1;31m---------------------------------------------------------------------------\u001b[0m",
      "\u001b[1;31mAttributeError\u001b[0m                            Traceback (most recent call last)",
      "\u001b[1;32m~\\AppData\\Local\\Temp\\ipykernel_14908\\462510253.py\u001b[0m in \u001b[0;36m<module>\u001b[1;34m\u001b[0m\n\u001b[0;32m      1\u001b[0m \u001b[0mJames\u001b[0m \u001b[1;33m=\u001b[0m \u001b[0mStudent\u001b[0m\u001b[1;33m(\u001b[0m\u001b[1;33m)\u001b[0m\u001b[1;33m\u001b[0m\u001b[1;33m\u001b[0m\u001b[0m\n\u001b[1;32m----> 2\u001b[1;33m \u001b[0mJames\u001b[0m\u001b[1;33m.\u001b[0m\u001b[0mgreeting\u001b[0m\u001b[1;33m(\u001b[0m\u001b[1;33m)\u001b[0m  \u001b[1;31m#자식 클래스에서 init해서 부모 클래스 innit 안됨\u001b[0m\u001b[1;33m\u001b[0m\u001b[1;33m\u001b[0m\u001b[0m\n\u001b[0m",
      "\u001b[1;32m~\\AppData\\Local\\Temp\\ipykernel_14908\\508951874.py\u001b[0m in \u001b[0;36mgreeting\u001b[1;34m(self)\u001b[0m\n\u001b[0;32m      4\u001b[0m         \u001b[0mself\u001b[0m\u001b[1;33m.\u001b[0m\u001b[0mhello\u001b[0m \u001b[1;33m=\u001b[0m \u001b[1;34m\"안녕하세요\"\u001b[0m\u001b[1;33m\u001b[0m\u001b[1;33m\u001b[0m\u001b[0m\n\u001b[0;32m      5\u001b[0m     \u001b[1;32mdef\u001b[0m \u001b[0mgreeting\u001b[0m\u001b[1;33m(\u001b[0m\u001b[0mself\u001b[0m\u001b[1;33m)\u001b[0m\u001b[1;33m:\u001b[0m\u001b[1;33m\u001b[0m\u001b[1;33m\u001b[0m\u001b[0m\n\u001b[1;32m----> 6\u001b[1;33m         \u001b[0mprint\u001b[0m\u001b[1;33m(\u001b[0m\u001b[0mself\u001b[0m\u001b[1;33m.\u001b[0m\u001b[0mhello\u001b[0m\u001b[1;33m)\u001b[0m\u001b[1;33m\u001b[0m\u001b[1;33m\u001b[0m\u001b[0m\n\u001b[0m\u001b[0;32m      7\u001b[0m \u001b[1;33m\u001b[0m\u001b[0m\n\u001b[0;32m      8\u001b[0m \u001b[1;32mclass\u001b[0m \u001b[0mStudent\u001b[0m\u001b[1;33m(\u001b[0m\u001b[0mPerson\u001b[0m\u001b[1;33m)\u001b[0m\u001b[1;33m:\u001b[0m\u001b[1;33m\u001b[0m\u001b[1;33m\u001b[0m\u001b[0m\n",
      "\u001b[1;31mAttributeError\u001b[0m: 'Student' object has no attribute 'hello'"
     ]
    }
   ],
   "source": [
    "James = Student()\n",
    "James.greeting()  #자식 클래스에서 init해서 부모 클래스 innit 안됨"
   ]
  },
  {
   "cell_type": "code",
   "execution_count": 89,
   "id": "7f787bf8",
   "metadata": {},
   "outputs": [],
   "source": [
    "class Person():\n",
    "    def __init__(self):\n",
    "        print(\"person initialized\")\n",
    "        self.hello = \"안녕하세요\"\n",
    "    def greeting(self):\n",
    "        print(self.hello)\n",
    "        \n",
    "class Student(Person):\n",
    "    def __init__(self):\n",
    "        super().__init__()\n",
    "        print(\"student initialized\")\n",
    "    def study(self):\n",
    "        print(\"공부중\")"
   ]
  },
  {
   "cell_type": "code",
   "execution_count": 90,
   "id": "a0882a59",
   "metadata": {},
   "outputs": [
    {
     "name": "stdout",
     "output_type": "stream",
     "text": [
      "person initialized\n",
      "student initialized\n",
      "안녕하세요\n"
     ]
    }
   ],
   "source": [
    "James = Student()\n",
    "James.greeting()"
   ]
  },
  {
   "cell_type": "markdown",
   "id": "866aceab",
   "metadata": {},
   "source": [
    "**메서드 오버라이딩**"
   ]
  },
  {
   "cell_type": "code",
   "execution_count": 101,
   "id": "06c6645f",
   "metadata": {},
   "outputs": [],
   "source": [
    "class Person():\n",
    "    def greeting(self):\n",
    "        print(\"안녕하세요\")        \n",
    "class Student(Person):\n",
    "    def greeting(self):\n",
    "        super().greeting()\n",
    "        print(\"학생입니다\")"
   ]
  },
  {
   "cell_type": "code",
   "execution_count": 102,
   "id": "a9d4849b",
   "metadata": {},
   "outputs": [
    {
     "name": "stdout",
     "output_type": "stream",
     "text": [
      "안녕하세요\n",
      "학생입니다\n"
     ]
    }
   ],
   "source": [
    "James = Student()\n",
    "James.greeting()"
   ]
  },
  {
   "cell_type": "markdown",
   "id": "22f8fd8f",
   "metadata": {},
   "source": [
    "**다중 상속 사용하기**"
   ]
  },
  {
   "cell_type": "markdown",
   "id": "67fdffe5",
   "metadata": {},
   "source": [
    "```\n",
    "class 기반클래스1:\n",
    "    코드\n",
    "class 기반클래스2:\n",
    "    코드\n",
    "class 파생클래스(기반클래스1,기반클래스2):\n",
    "    코드\n",
    "```"
   ]
  },
  {
   "cell_type": "code",
   "execution_count": 105,
   "id": "ec9d9a55",
   "metadata": {},
   "outputs": [],
   "source": [
    "class Person:\n",
    "    def greeting(self):\n",
    "        print(\"안녕하세요\")\n",
    "        \n",
    "class University:\n",
    "    def manage(self):\n",
    "        print(\"학점관리\")\n",
    "        \n",
    "class Undergraduate(Person,University):\n",
    "    def study(self):\n",
    "        print(\"공부하기\")"
   ]
  },
  {
   "cell_type": "code",
   "execution_count": 106,
   "id": "fab6915d",
   "metadata": {},
   "outputs": [
    {
     "name": "stdout",
     "output_type": "stream",
     "text": [
      "공부하기\n"
     ]
    }
   ],
   "source": [
    "James = Undergraduate()\n",
    "James.study()"
   ]
  },
  {
   "cell_type": "code",
   "execution_count": 107,
   "id": "4c1067ac",
   "metadata": {},
   "outputs": [
    {
     "name": "stdout",
     "output_type": "stream",
     "text": [
      "학점관리\n"
     ]
    }
   ],
   "source": [
    "James.manage()"
   ]
  },
  {
   "cell_type": "code",
   "execution_count": 108,
   "id": "4b655839",
   "metadata": {
    "scrolled": true
   },
   "outputs": [
    {
     "name": "stdout",
     "output_type": "stream",
     "text": [
      "안녕하세요\n"
     ]
    }
   ],
   "source": [
    "James.greeting()"
   ]
  },
  {
   "cell_type": "markdown",
   "id": "78b0b311",
   "metadata": {},
   "source": [
    "**추상클래스**"
   ]
  },
  {
   "cell_type": "markdown",
   "id": "a0a91712",
   "metadata": {},
   "source": [
    "```\n",
    "from abc import *\n",
    "\n",
    "class 추상클래스(metaclass=ABCMeta):\n",
    "    @abstractmethod\n",
    "    def 메서드이름(self):\n",
    "        코드\n",
    "```"
   ]
  },
  {
   "cell_type": "code",
   "execution_count": 14,
   "id": "bba0a377",
   "metadata": {},
   "outputs": [],
   "source": [
    "from abc import *\n",
    "class StudentBase(metaclass=ABCMeta):\n",
    "    @abstractmethod\n",
    "    def study(self):\n",
    "        pass\n",
    "    @abstractmethod\n",
    "    def gotoschool(self):\n",
    "        pass"
   ]
  },
  {
   "cell_type": "code",
   "execution_count": 15,
   "id": "c381e567",
   "metadata": {},
   "outputs": [],
   "source": [
    "class Student(StudentBase):\n",
    "    def study(self):\n",
    "        print(\"공부하기\")\n",
    "    def gotoschool(self):\n",
    "        print(\"학교가기\")"
   ]
  },
  {
   "cell_type": "code",
   "execution_count": 112,
   "id": "0856a493",
   "metadata": {},
   "outputs": [
    {
     "name": "stdout",
     "output_type": "stream",
     "text": [
      "학교가기\n"
     ]
    }
   ],
   "source": [
    "James = Student()\n",
    "James.gotoschool()"
   ]
  },
  {
   "cell_type": "markdown",
   "id": "f589df6e",
   "metadata": {},
   "source": [
    "# workshop"
   ]
  },
  {
   "cell_type": "markdown",
   "id": "d736aac7",
   "metadata": {},
   "source": [
    "**리스트에 기능 추가하기**\n",
    "- 아래 예시와 같이 리스트(list)에 replace 메서드를 추가한 AdvancedList 클래스를 작성하세요.\n",
    "- AdvancedList는 list를 상속받아서 만들고, replace 메서드는 리스트에서 특정 값으로 된 요소를 찾아서 다른 값으로 바꾸도록 만드세요.\n",
    "```\n",
    "x = AdvancedList([1, 2, 3, 1, 2, 3, 1, 2, 3])\n",
    "x.replace(1, 100)\n",
    "print(x)\n",
    "결과\n",
    "[100, 2, 3, 100, 2, 3, 100, 2, 3]\n",
    "```"
   ]
  },
  {
   "cell_type": "code",
   "execution_count": 124,
   "id": "877f0a29",
   "metadata": {},
   "outputs": [],
   "source": [
    "class AdvancedList(list):\n",
    "    def replace(self,old,new):\n",
    "        for i,v in enumerate(self):\n",
    "            if v==old:\n",
    "                self[i] = new"
   ]
  },
  {
   "cell_type": "code",
   "execution_count": 125,
   "id": "ff9e126e",
   "metadata": {},
   "outputs": [],
   "source": [
    "x = AdvancedList([1, 2, 3, 1, 2, 3, 1, 2, 3])"
   ]
  },
  {
   "cell_type": "code",
   "execution_count": 126,
   "id": "afb36b3a",
   "metadata": {},
   "outputs": [],
   "source": [
    "x.replace(1,100)"
   ]
  },
  {
   "cell_type": "code",
   "execution_count": 127,
   "id": "60961276",
   "metadata": {},
   "outputs": [
    {
     "data": {
      "text/plain": [
       "[100, 2, 3, 100, 2, 3, 100, 2, 3]"
      ]
     },
     "execution_count": 127,
     "metadata": {},
     "output_type": "execute_result"
    }
   ],
   "source": [
    "x"
   ]
  },
  {
   "cell_type": "code",
   "execution_count": null,
   "id": "0fe289db",
   "metadata": {},
   "outputs": [],
   "source": []
  },
  {
   "cell_type": "code",
   "execution_count": 9,
   "id": "5e16e6b4",
   "metadata": {},
   "outputs": [],
   "source": [
    "class JSS:\n",
    "    def __init__(self):\n",
    "        self.name = input(\"이름:\")\n",
    "        self.age = input(\"나이:\")\n",
    "    def show(self):\n",
    "        print(\"이름은 {} 나이는{}\".format(self.name,self.age))"
   ]
  },
  {
   "cell_type": "code",
   "execution_count": 10,
   "id": "dabaaeef",
   "metadata": {},
   "outputs": [
    {
     "name": "stdout",
     "output_type": "stream",
     "text": [
      "이름:이혜지\n",
      "나이:25\n"
     ]
    }
   ],
   "source": [
    "a=JSS()"
   ]
  },
  {
   "cell_type": "code",
   "execution_count": 11,
   "id": "e1bb91df",
   "metadata": {},
   "outputs": [
    {
     "data": {
      "text/plain": [
       "'25'"
      ]
     },
     "execution_count": 11,
     "metadata": {},
     "output_type": "execute_result"
    }
   ],
   "source": [
    "a.age"
   ]
  },
  {
   "cell_type": "code",
   "execution_count": 12,
   "id": "aec700b3",
   "metadata": {},
   "outputs": [
    {
     "name": "stdout",
     "output_type": "stream",
     "text": [
      "이름은 이혜지 나이는25\n"
     ]
    }
   ],
   "source": [
    "a.show()"
   ]
  },
  {
   "cell_type": "code",
   "execution_count": null,
   "id": "bdcbc0ab",
   "metadata": {},
   "outputs": [],
   "source": [
    "class JSS2(JSS):\n",
    "    def __init__(self):\n",
    "        super()"
   ]
  }
 ],
 "metadata": {
  "kernelspec": {
   "display_name": "Python 3 (ipykernel)",
   "language": "python",
   "name": "python3"
  },
  "language_info": {
   "codemirror_mode": {
    "name": "ipython",
    "version": 3
   },
   "file_extension": ".py",
   "mimetype": "text/x-python",
   "name": "python",
   "nbconvert_exporter": "python",
   "pygments_lexer": "ipython3",
   "version": "3.9.13"
  }
 },
 "nbformat": 4,
 "nbformat_minor": 5
}
